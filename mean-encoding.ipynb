{
 "cells": [
  {
   "cell_type": "markdown",
   "id": "cedd58a8",
   "metadata": {
    "papermill": {
     "duration": 0.029764,
     "end_time": "2022-02-11T17:41:05.395370",
     "exception": false,
     "start_time": "2022-02-11T17:41:05.365606",
     "status": "completed"
    },
    "tags": []
   },
   "source": [
    "Version 1.1.0"
   ]
  },
  {
   "cell_type": "markdown",
   "id": "44a90e81",
   "metadata": {
    "papermill": {
     "duration": 0.02785,
     "end_time": "2022-02-11T17:41:05.451971",
     "exception": false,
     "start_time": "2022-02-11T17:41:05.424121",
     "status": "completed"
    },
    "tags": []
   },
   "source": [
    "# Mean encodings"
   ]
  },
  {
   "cell_type": "markdown",
   "id": "27279f40",
   "metadata": {
    "papermill": {
     "duration": 0.0279,
     "end_time": "2022-02-11T17:41:05.508042",
     "exception": false,
     "start_time": "2022-02-11T17:41:05.480142",
     "status": "completed"
    },
    "tags": []
   },
   "source": [
    "In this programming assignment you will be working with `1C` dataset from the final competition. You are asked to encode `item_id` in 4 different ways:\n",
    "\n",
    "    1) Via KFold scheme;  \n",
    "    2) Via Leave-one-out scheme;\n",
    "    3) Via smoothing scheme;\n",
    "    4) Via expanding mean scheme.\n",
    "\n",
    "**You will need to submit** the correlation coefficient between resulting encoding and target variable up to 4 decimal places.\n",
    "\n",
    "### General tips\n",
    "\n",
    "* Fill NANs in the encoding with `0.3343`.\n",
    "* Some encoding schemes depend on sorting order, so in order to avoid confusion, please use the following code snippet to construct the data frame. This snippet also implements mean encoding without regularization."
   ]
  },
  {
   "cell_type": "code",
   "execution_count": 1,
   "id": "10e7e9ab",
   "metadata": {
    "execution": {
     "iopub.execute_input": "2022-02-11T17:41:05.575374Z",
     "iopub.status.busy": "2022-02-11T17:41:05.574730Z",
     "iopub.status.idle": "2022-02-11T17:41:05.577769Z",
     "shell.execute_reply": "2022-02-11T17:41:05.578283Z",
     "shell.execute_reply.started": "2022-02-11T10:22:07.593525Z"
    },
    "papermill": {
     "duration": 0.04226,
     "end_time": "2022-02-11T17:41:05.578614",
     "exception": false,
     "start_time": "2022-02-11T17:41:05.536354",
     "status": "completed"
    },
    "tags": []
   },
   "outputs": [],
   "source": [
    "import pandas as pd\n",
    "import numpy as np\n",
    "from itertools import product"
   ]
  },
  {
   "cell_type": "markdown",
   "id": "cff60cfe",
   "metadata": {
    "papermill": {
     "duration": 0.027595,
     "end_time": "2022-02-11T17:41:05.634367",
     "exception": false,
     "start_time": "2022-02-11T17:41:05.606772",
     "status": "completed"
    },
    "tags": []
   },
   "source": [
    "# Read data"
   ]
  },
  {
   "cell_type": "code",
   "execution_count": 2,
   "id": "566b7150",
   "metadata": {
    "execution": {
     "iopub.execute_input": "2022-02-11T17:41:05.698418Z",
     "iopub.status.busy": "2022-02-11T17:41:05.697581Z",
     "iopub.status.idle": "2022-02-11T17:41:08.369913Z",
     "shell.execute_reply": "2022-02-11T17:41:08.370403Z",
     "shell.execute_reply.started": "2022-02-11T10:22:07.603197Z"
    },
    "papermill": {
     "duration": 2.708082,
     "end_time": "2022-02-11T17:41:08.370585",
     "exception": false,
     "start_time": "2022-02-11T17:41:05.662503",
     "status": "completed"
    },
    "tags": []
   },
   "outputs": [
    {
     "data": {
      "text/html": [
       "<div>\n",
       "<style scoped>\n",
       "    .dataframe tbody tr th:only-of-type {\n",
       "        vertical-align: middle;\n",
       "    }\n",
       "\n",
       "    .dataframe tbody tr th {\n",
       "        vertical-align: top;\n",
       "    }\n",
       "\n",
       "    .dataframe thead th {\n",
       "        text-align: right;\n",
       "    }\n",
       "</style>\n",
       "<table border=\"1\" class=\"dataframe\">\n",
       "  <thead>\n",
       "    <tr style=\"text-align: right;\">\n",
       "      <th></th>\n",
       "      <th>date</th>\n",
       "      <th>date_block_num</th>\n",
       "      <th>shop_id</th>\n",
       "      <th>item_id</th>\n",
       "      <th>item_price</th>\n",
       "      <th>item_cnt_day</th>\n",
       "    </tr>\n",
       "  </thead>\n",
       "  <tbody>\n",
       "    <tr>\n",
       "      <th>2935844</th>\n",
       "      <td>10.10.2015</td>\n",
       "      <td>33</td>\n",
       "      <td>25</td>\n",
       "      <td>7409</td>\n",
       "      <td>299.0</td>\n",
       "      <td>1.0</td>\n",
       "    </tr>\n",
       "    <tr>\n",
       "      <th>2935845</th>\n",
       "      <td>09.10.2015</td>\n",
       "      <td>33</td>\n",
       "      <td>25</td>\n",
       "      <td>7460</td>\n",
       "      <td>299.0</td>\n",
       "      <td>1.0</td>\n",
       "    </tr>\n",
       "    <tr>\n",
       "      <th>2935846</th>\n",
       "      <td>14.10.2015</td>\n",
       "      <td>33</td>\n",
       "      <td>25</td>\n",
       "      <td>7459</td>\n",
       "      <td>349.0</td>\n",
       "      <td>1.0</td>\n",
       "    </tr>\n",
       "    <tr>\n",
       "      <th>2935847</th>\n",
       "      <td>22.10.2015</td>\n",
       "      <td>33</td>\n",
       "      <td>25</td>\n",
       "      <td>7440</td>\n",
       "      <td>299.0</td>\n",
       "      <td>1.0</td>\n",
       "    </tr>\n",
       "    <tr>\n",
       "      <th>2935848</th>\n",
       "      <td>03.10.2015</td>\n",
       "      <td>33</td>\n",
       "      <td>25</td>\n",
       "      <td>7460</td>\n",
       "      <td>299.0</td>\n",
       "      <td>1.0</td>\n",
       "    </tr>\n",
       "  </tbody>\n",
       "</table>\n",
       "</div>"
      ],
      "text/plain": [
       "               date  date_block_num  shop_id  item_id  item_price  \\\n",
       "2935844  10.10.2015              33       25     7409       299.0   \n",
       "2935845  09.10.2015              33       25     7460       299.0   \n",
       "2935846  14.10.2015              33       25     7459       349.0   \n",
       "2935847  22.10.2015              33       25     7440       299.0   \n",
       "2935848  03.10.2015              33       25     7460       299.0   \n",
       "\n",
       "         item_cnt_day  \n",
       "2935844           1.0  \n",
       "2935845           1.0  \n",
       "2935846           1.0  \n",
       "2935847           1.0  \n",
       "2935848           1.0  "
      ]
     },
     "execution_count": 2,
     "metadata": {},
     "output_type": "execute_result"
    }
   ],
   "source": [
    "sales = pd.read_csv('../input/sales-train/Sales_Train.csv')\n",
    "sales.head()\n",
    "sales.tail()\n",
    "#sales.shape"
   ]
  },
  {
   "cell_type": "markdown",
   "id": "cf9d667e",
   "metadata": {
    "papermill": {
     "duration": 0.02829,
     "end_time": "2022-02-11T17:41:08.427867",
     "exception": false,
     "start_time": "2022-02-11T17:41:08.399577",
     "status": "completed"
    },
    "tags": []
   },
   "source": [
    "# Aggregate data"
   ]
  },
  {
   "cell_type": "markdown",
   "id": "ed7acc7e",
   "metadata": {
    "papermill": {
     "duration": 0.028232,
     "end_time": "2022-02-11T17:41:08.484893",
     "exception": false,
     "start_time": "2022-02-11T17:41:08.456661",
     "status": "completed"
    },
    "tags": []
   },
   "source": [
    "Since the competition task is to make a monthly prediction, we need to aggregate the data to montly level before doing any encodings. The following code-cell serves just that purpose."
   ]
  },
  {
   "cell_type": "code",
   "execution_count": 3,
   "id": "24adcaba",
   "metadata": {
    "execution": {
     "iopub.execute_input": "2022-02-11T17:41:08.546514Z",
     "iopub.status.busy": "2022-02-11T17:41:08.545860Z",
     "iopub.status.idle": "2022-02-11T17:41:23.608239Z",
     "shell.execute_reply": "2022-02-11T17:41:23.607670Z",
     "shell.execute_reply.started": "2022-02-11T10:22:10.250531Z"
    },
    "papermill": {
     "duration": 15.094872,
     "end_time": "2022-02-11T17:41:23.608388",
     "exception": false,
     "start_time": "2022-02-11T17:41:08.513516",
     "status": "completed"
    },
    "tags": []
   },
   "outputs": [],
   "source": [
    "index_cols = ['shop_id', 'item_id', 'date_block_num']\n",
    "\n",
    "# For every month we create a grid from all shops/items combinations from that month\n",
    "grid = [] \n",
    "for block_num in sales['date_block_num'].unique():\n",
    "    cur_shops = sales[sales['date_block_num']==block_num]['shop_id'].unique()\n",
    "    cur_items = sales[sales['date_block_num']==block_num]['item_id'].unique()\n",
    "    grid.append(np.array(list(product(*[cur_shops, cur_items, [block_num]])),dtype='int32'))\n",
    "\n",
    "#turn the grid into pandas dataframe\n",
    "grid = pd.DataFrame(np.vstack(grid), columns = index_cols,dtype=np.int32)"
   ]
  },
  {
   "cell_type": "code",
   "execution_count": 4,
   "id": "876bd138",
   "metadata": {
    "execution": {
     "iopub.execute_input": "2022-02-11T17:41:23.673218Z",
     "iopub.status.busy": "2022-02-11T17:41:23.672554Z",
     "iopub.status.idle": "2022-02-11T17:41:24.892157Z",
     "shell.execute_reply": "2022-02-11T17:41:24.891462Z",
     "shell.execute_reply.started": "2022-02-11T10:38:06.628659Z"
    },
    "papermill": {
     "duration": 1.255509,
     "end_time": "2022-02-11T17:41:24.892317",
     "exception": false,
     "start_time": "2022-02-11T17:41:23.636808",
     "status": "completed"
    },
    "tags": []
   },
   "outputs": [],
   "source": [
    "sales.head()\n",
    "\n",
    "#get aggregated values for (shop_id, item_id, month)\n",
    "gb = sales.groupby(index_cols,as_index=False).agg({'item_cnt_day':['sum']})\n",
    "\n",
    "#fix column names\n",
    "gb.columns = [col[0] if col[-1]=='' else col[-1] for col in gb.columns.values]\n",
    "\n",
    "#.agg({'item_cnt_day':{'target':'sum'}})"
   ]
  },
  {
   "cell_type": "code",
   "execution_count": 5,
   "id": "11c2c636",
   "metadata": {
    "execution": {
     "iopub.execute_input": "2022-02-11T17:41:24.958450Z",
     "iopub.status.busy": "2022-02-11T17:41:24.957700Z",
     "iopub.status.idle": "2022-02-11T17:41:35.798148Z",
     "shell.execute_reply": "2022-02-11T17:41:35.797535Z",
     "shell.execute_reply.started": "2022-02-11T10:48:57.186038Z"
    },
    "papermill": {
     "duration": 10.876426,
     "end_time": "2022-02-11T17:41:35.798302",
     "exception": false,
     "start_time": "2022-02-11T17:41:24.921876",
     "status": "completed"
    },
    "tags": []
   },
   "outputs": [],
   "source": [
    "\n",
    "#join aggregated data to the grid\n",
    "all_data = pd.merge(grid,gb,how='left',on=index_cols).fillna(0)\n",
    "#sort the data\n",
    "all_data.sort_values(['date_block_num','shop_id','item_id'],inplace=True)\n",
    "#changeing name of sum in to target\n",
    "all_data=all_data.rename(columns = {'sum':'target'})"
   ]
  },
  {
   "cell_type": "code",
   "execution_count": 6,
   "id": "a9a73385",
   "metadata": {
    "execution": {
     "iopub.execute_input": "2022-02-11T17:41:35.860190Z",
     "iopub.status.busy": "2022-02-11T17:41:35.859560Z",
     "iopub.status.idle": "2022-02-11T17:41:35.876746Z",
     "shell.execute_reply": "2022-02-11T17:41:35.877278Z",
     "shell.execute_reply.started": "2022-02-11T10:49:07.374752Z"
    },
    "papermill": {
     "duration": 0.049636,
     "end_time": "2022-02-11T17:41:35.877475",
     "exception": false,
     "start_time": "2022-02-11T17:41:35.827839",
     "status": "completed"
    },
    "tags": []
   },
   "outputs": [
    {
     "data": {
      "text/html": [
       "<div>\n",
       "<style scoped>\n",
       "    .dataframe tbody tr th:only-of-type {\n",
       "        vertical-align: middle;\n",
       "    }\n",
       "\n",
       "    .dataframe tbody tr th {\n",
       "        vertical-align: top;\n",
       "    }\n",
       "\n",
       "    .dataframe thead th {\n",
       "        text-align: right;\n",
       "    }\n",
       "</style>\n",
       "<table border=\"1\" class=\"dataframe\">\n",
       "  <thead>\n",
       "    <tr style=\"text-align: right;\">\n",
       "      <th></th>\n",
       "      <th>shop_id</th>\n",
       "      <th>item_id</th>\n",
       "      <th>date_block_num</th>\n",
       "      <th>target</th>\n",
       "    </tr>\n",
       "  </thead>\n",
       "  <tbody>\n",
       "    <tr>\n",
       "      <th>139255</th>\n",
       "      <td>0</td>\n",
       "      <td>19</td>\n",
       "      <td>0</td>\n",
       "      <td>0.0</td>\n",
       "    </tr>\n",
       "    <tr>\n",
       "      <th>141495</th>\n",
       "      <td>0</td>\n",
       "      <td>27</td>\n",
       "      <td>0</td>\n",
       "      <td>0.0</td>\n",
       "    </tr>\n",
       "    <tr>\n",
       "      <th>144968</th>\n",
       "      <td>0</td>\n",
       "      <td>28</td>\n",
       "      <td>0</td>\n",
       "      <td>0.0</td>\n",
       "    </tr>\n",
       "    <tr>\n",
       "      <th>142661</th>\n",
       "      <td>0</td>\n",
       "      <td>29</td>\n",
       "      <td>0</td>\n",
       "      <td>0.0</td>\n",
       "    </tr>\n",
       "    <tr>\n",
       "      <th>138947</th>\n",
       "      <td>0</td>\n",
       "      <td>32</td>\n",
       "      <td>0</td>\n",
       "      <td>6.0</td>\n",
       "    </tr>\n",
       "    <tr>\n",
       "      <th>138948</th>\n",
       "      <td>0</td>\n",
       "      <td>33</td>\n",
       "      <td>0</td>\n",
       "      <td>3.0</td>\n",
       "    </tr>\n",
       "    <tr>\n",
       "      <th>138949</th>\n",
       "      <td>0</td>\n",
       "      <td>34</td>\n",
       "      <td>0</td>\n",
       "      <td>0.0</td>\n",
       "    </tr>\n",
       "    <tr>\n",
       "      <th>139247</th>\n",
       "      <td>0</td>\n",
       "      <td>35</td>\n",
       "      <td>0</td>\n",
       "      <td>1.0</td>\n",
       "    </tr>\n",
       "    <tr>\n",
       "      <th>142672</th>\n",
       "      <td>0</td>\n",
       "      <td>40</td>\n",
       "      <td>0</td>\n",
       "      <td>0.0</td>\n",
       "    </tr>\n",
       "    <tr>\n",
       "      <th>142065</th>\n",
       "      <td>0</td>\n",
       "      <td>41</td>\n",
       "      <td>0</td>\n",
       "      <td>0.0</td>\n",
       "    </tr>\n",
       "    <tr>\n",
       "      <th>139208</th>\n",
       "      <td>0</td>\n",
       "      <td>42</td>\n",
       "      <td>0</td>\n",
       "      <td>0.0</td>\n",
       "    </tr>\n",
       "    <tr>\n",
       "      <th>142670</th>\n",
       "      <td>0</td>\n",
       "      <td>43</td>\n",
       "      <td>0</td>\n",
       "      <td>1.0</td>\n",
       "    </tr>\n",
       "    <tr>\n",
       "      <th>139207</th>\n",
       "      <td>0</td>\n",
       "      <td>44</td>\n",
       "      <td>0</td>\n",
       "      <td>0.0</td>\n",
       "    </tr>\n",
       "    <tr>\n",
       "      <th>138950</th>\n",
       "      <td>0</td>\n",
       "      <td>45</td>\n",
       "      <td>0</td>\n",
       "      <td>0.0</td>\n",
       "    </tr>\n",
       "    <tr>\n",
       "      <th>143764</th>\n",
       "      <td>0</td>\n",
       "      <td>46</td>\n",
       "      <td>0</td>\n",
       "      <td>0.0</td>\n",
       "    </tr>\n",
       "    <tr>\n",
       "      <th>141505</th>\n",
       "      <td>0</td>\n",
       "      <td>47</td>\n",
       "      <td>0</td>\n",
       "      <td>0.0</td>\n",
       "    </tr>\n",
       "    <tr>\n",
       "      <th>139199</th>\n",
       "      <td>0</td>\n",
       "      <td>48</td>\n",
       "      <td>0</td>\n",
       "      <td>0.0</td>\n",
       "    </tr>\n",
       "    <tr>\n",
       "      <th>138952</th>\n",
       "      <td>0</td>\n",
       "      <td>49</td>\n",
       "      <td>0</td>\n",
       "      <td>0.0</td>\n",
       "    </tr>\n",
       "    <tr>\n",
       "      <th>139176</th>\n",
       "      <td>0</td>\n",
       "      <td>50</td>\n",
       "      <td>0</td>\n",
       "      <td>0.0</td>\n",
       "    </tr>\n",
       "    <tr>\n",
       "      <th>138951</th>\n",
       "      <td>0</td>\n",
       "      <td>51</td>\n",
       "      <td>0</td>\n",
       "      <td>2.0</td>\n",
       "    </tr>\n",
       "    <tr>\n",
       "      <th>139177</th>\n",
       "      <td>0</td>\n",
       "      <td>52</td>\n",
       "      <td>0</td>\n",
       "      <td>0.0</td>\n",
       "    </tr>\n",
       "    <tr>\n",
       "      <th>139178</th>\n",
       "      <td>0</td>\n",
       "      <td>53</td>\n",
       "      <td>0</td>\n",
       "      <td>0.0</td>\n",
       "    </tr>\n",
       "    <tr>\n",
       "      <th>139179</th>\n",
       "      <td>0</td>\n",
       "      <td>54</td>\n",
       "      <td>0</td>\n",
       "      <td>0.0</td>\n",
       "    </tr>\n",
       "    <tr>\n",
       "      <th>143769</th>\n",
       "      <td>0</td>\n",
       "      <td>55</td>\n",
       "      <td>0</td>\n",
       "      <td>0.0</td>\n",
       "    </tr>\n",
       "    <tr>\n",
       "      <th>142671</th>\n",
       "      <td>0</td>\n",
       "      <td>56</td>\n",
       "      <td>0</td>\n",
       "      <td>0.0</td>\n",
       "    </tr>\n",
       "    <tr>\n",
       "      <th>144539</th>\n",
       "      <td>0</td>\n",
       "      <td>57</td>\n",
       "      <td>0</td>\n",
       "      <td>0.0</td>\n",
       "    </tr>\n",
       "    <tr>\n",
       "      <th>139180</th>\n",
       "      <td>0</td>\n",
       "      <td>59</td>\n",
       "      <td>0</td>\n",
       "      <td>0.0</td>\n",
       "    </tr>\n",
       "    <tr>\n",
       "      <th>138953</th>\n",
       "      <td>0</td>\n",
       "      <td>60</td>\n",
       "      <td>0</td>\n",
       "      <td>0.0</td>\n",
       "    </tr>\n",
       "    <tr>\n",
       "      <th>144265</th>\n",
       "      <td>0</td>\n",
       "      <td>61</td>\n",
       "      <td>0</td>\n",
       "      <td>1.0</td>\n",
       "    </tr>\n",
       "    <tr>\n",
       "      <th>141744</th>\n",
       "      <td>0</td>\n",
       "      <td>63</td>\n",
       "      <td>0</td>\n",
       "      <td>0.0</td>\n",
       "    </tr>\n",
       "    <tr>\n",
       "      <th>139181</th>\n",
       "      <td>0</td>\n",
       "      <td>72</td>\n",
       "      <td>0</td>\n",
       "      <td>0.0</td>\n",
       "    </tr>\n",
       "    <tr>\n",
       "      <th>144540</th>\n",
       "      <td>0</td>\n",
       "      <td>73</td>\n",
       "      <td>0</td>\n",
       "      <td>0.0</td>\n",
       "    </tr>\n",
       "    <tr>\n",
       "      <th>139182</th>\n",
       "      <td>0</td>\n",
       "      <td>75</td>\n",
       "      <td>0</td>\n",
       "      <td>1.0</td>\n",
       "    </tr>\n",
       "    <tr>\n",
       "      <th>145827</th>\n",
       "      <td>0</td>\n",
       "      <td>84</td>\n",
       "      <td>0</td>\n",
       "      <td>0.0</td>\n",
       "    </tr>\n",
       "    <tr>\n",
       "      <th>138954</th>\n",
       "      <td>0</td>\n",
       "      <td>85</td>\n",
       "      <td>0</td>\n",
       "      <td>0.0</td>\n",
       "    </tr>\n",
       "    <tr>\n",
       "      <th>144807</th>\n",
       "      <td>0</td>\n",
       "      <td>86</td>\n",
       "      <td>0</td>\n",
       "      <td>0.0</td>\n",
       "    </tr>\n",
       "    <tr>\n",
       "      <th>139183</th>\n",
       "      <td>0</td>\n",
       "      <td>88</td>\n",
       "      <td>0</td>\n",
       "      <td>1.0</td>\n",
       "    </tr>\n",
       "    <tr>\n",
       "      <th>139184</th>\n",
       "      <td>0</td>\n",
       "      <td>89</td>\n",
       "      <td>0</td>\n",
       "      <td>0.0</td>\n",
       "    </tr>\n",
       "    <tr>\n",
       "      <th>139185</th>\n",
       "      <td>0</td>\n",
       "      <td>93</td>\n",
       "      <td>0</td>\n",
       "      <td>0.0</td>\n",
       "    </tr>\n",
       "    <tr>\n",
       "      <th>143885</th>\n",
       "      <td>0</td>\n",
       "      <td>94</td>\n",
       "      <td>0</td>\n",
       "      <td>0.0</td>\n",
       "    </tr>\n",
       "    <tr>\n",
       "      <th>141745</th>\n",
       "      <td>0</td>\n",
       "      <td>95</td>\n",
       "      <td>0</td>\n",
       "      <td>1.0</td>\n",
       "    </tr>\n",
       "    <tr>\n",
       "      <th>141506</th>\n",
       "      <td>0</td>\n",
       "      <td>96</td>\n",
       "      <td>0</td>\n",
       "      <td>1.0</td>\n",
       "    </tr>\n",
       "    <tr>\n",
       "      <th>138938</th>\n",
       "      <td>0</td>\n",
       "      <td>98</td>\n",
       "      <td>0</td>\n",
       "      <td>25.0</td>\n",
       "    </tr>\n",
       "    <tr>\n",
       "      <th>145563</th>\n",
       "      <td>0</td>\n",
       "      <td>109</td>\n",
       "      <td>0</td>\n",
       "      <td>0.0</td>\n",
       "    </tr>\n",
       "    <tr>\n",
       "      <th>139171</th>\n",
       "      <td>0</td>\n",
       "      <td>111</td>\n",
       "      <td>0</td>\n",
       "      <td>1.0</td>\n",
       "    </tr>\n",
       "    <tr>\n",
       "      <th>139172</th>\n",
       "      <td>0</td>\n",
       "      <td>113</td>\n",
       "      <td>0</td>\n",
       "      <td>0.0</td>\n",
       "    </tr>\n",
       "    <tr>\n",
       "      <th>143886</th>\n",
       "      <td>0</td>\n",
       "      <td>115</td>\n",
       "      <td>0</td>\n",
       "      <td>0.0</td>\n",
       "    </tr>\n",
       "    <tr>\n",
       "      <th>141187</th>\n",
       "      <td>0</td>\n",
       "      <td>133</td>\n",
       "      <td>0</td>\n",
       "      <td>0.0</td>\n",
       "    </tr>\n",
       "    <tr>\n",
       "      <th>139173</th>\n",
       "      <td>0</td>\n",
       "      <td>136</td>\n",
       "      <td>0</td>\n",
       "      <td>0.0</td>\n",
       "    </tr>\n",
       "    <tr>\n",
       "      <th>139174</th>\n",
       "      <td>0</td>\n",
       "      <td>149</td>\n",
       "      <td>0</td>\n",
       "      <td>3.0</td>\n",
       "    </tr>\n",
       "  </tbody>\n",
       "</table>\n",
       "</div>"
      ],
      "text/plain": [
       "        shop_id  item_id  date_block_num  target\n",
       "139255        0       19               0     0.0\n",
       "141495        0       27               0     0.0\n",
       "144968        0       28               0     0.0\n",
       "142661        0       29               0     0.0\n",
       "138947        0       32               0     6.0\n",
       "138948        0       33               0     3.0\n",
       "138949        0       34               0     0.0\n",
       "139247        0       35               0     1.0\n",
       "142672        0       40               0     0.0\n",
       "142065        0       41               0     0.0\n",
       "139208        0       42               0     0.0\n",
       "142670        0       43               0     1.0\n",
       "139207        0       44               0     0.0\n",
       "138950        0       45               0     0.0\n",
       "143764        0       46               0     0.0\n",
       "141505        0       47               0     0.0\n",
       "139199        0       48               0     0.0\n",
       "138952        0       49               0     0.0\n",
       "139176        0       50               0     0.0\n",
       "138951        0       51               0     2.0\n",
       "139177        0       52               0     0.0\n",
       "139178        0       53               0     0.0\n",
       "139179        0       54               0     0.0\n",
       "143769        0       55               0     0.0\n",
       "142671        0       56               0     0.0\n",
       "144539        0       57               0     0.0\n",
       "139180        0       59               0     0.0\n",
       "138953        0       60               0     0.0\n",
       "144265        0       61               0     1.0\n",
       "141744        0       63               0     0.0\n",
       "139181        0       72               0     0.0\n",
       "144540        0       73               0     0.0\n",
       "139182        0       75               0     1.0\n",
       "145827        0       84               0     0.0\n",
       "138954        0       85               0     0.0\n",
       "144807        0       86               0     0.0\n",
       "139183        0       88               0     1.0\n",
       "139184        0       89               0     0.0\n",
       "139185        0       93               0     0.0\n",
       "143885        0       94               0     0.0\n",
       "141745        0       95               0     1.0\n",
       "141506        0       96               0     1.0\n",
       "138938        0       98               0    25.0\n",
       "145563        0      109               0     0.0\n",
       "139171        0      111               0     1.0\n",
       "139172        0      113               0     0.0\n",
       "143886        0      115               0     0.0\n",
       "141187        0      133               0     0.0\n",
       "139173        0      136               0     0.0\n",
       "139174        0      149               0     3.0"
      ]
     },
     "execution_count": 6,
     "metadata": {},
     "output_type": "execute_result"
    }
   ],
   "source": [
    "all_data.head(50)\n",
    "#all_data.shape"
   ]
  },
  {
   "cell_type": "code",
   "execution_count": 7,
   "id": "bf0aea35",
   "metadata": {
    "execution": {
     "iopub.execute_input": "2022-02-11T17:41:35.940965Z",
     "iopub.status.busy": "2022-02-11T17:41:35.940267Z",
     "iopub.status.idle": "2022-02-11T17:41:35.998709Z",
     "shell.execute_reply": "2022-02-11T17:41:35.998030Z",
     "shell.execute_reply.started": "2022-02-11T10:59:03.044234Z"
    },
    "papermill": {
     "duration": 0.090973,
     "end_time": "2022-02-11T17:41:35.998878",
     "exception": false,
     "start_time": "2022-02-11T17:41:35.907905",
     "status": "completed"
    },
    "tags": []
   },
   "outputs": [
    {
     "data": {
      "text/plain": [
       "21807"
      ]
     },
     "execution_count": 7,
     "metadata": {},
     "output_type": "execute_result"
    }
   ],
   "source": [
    "# No: of unique values in item_id\n",
    "all_data['item_id'].nunique()"
   ]
  },
  {
   "cell_type": "markdown",
   "id": "2e8cc165",
   "metadata": {
    "papermill": {
     "duration": 0.030514,
     "end_time": "2022-02-11T17:41:36.060924",
     "exception": false,
     "start_time": "2022-02-11T17:41:36.030410",
     "status": "completed"
    },
    "tags": []
   },
   "source": [
    "# Mean encodings without regularization"
   ]
  },
  {
   "cell_type": "markdown",
   "id": "42a29958",
   "metadata": {
    "papermill": {
     "duration": 0.02979,
     "end_time": "2022-02-11T17:41:36.121075",
     "exception": false,
     "start_time": "2022-02-11T17:41:36.091285",
     "status": "completed"
    },
    "tags": []
   },
   "source": [
    "After we did the techinical work, we are ready to actually *mean encode* the desired `item_id` variable. \n",
    "\n",
    "Here are two ways to implement mean encoding features *without* any regularization. You can use this code as a starting point to implement regularized techniques. "
   ]
  },
  {
   "cell_type": "markdown",
   "id": "8762797b",
   "metadata": {
    "papermill": {
     "duration": 0.029619,
     "end_time": "2022-02-11T17:41:36.180871",
     "exception": false,
     "start_time": "2022-02-11T17:41:36.151252",
     "status": "completed"
    },
    "tags": []
   },
   "source": [
    "#### Method 1"
   ]
  },
  {
   "cell_type": "code",
   "execution_count": 8,
   "id": "1a7fc827",
   "metadata": {
    "execution": {
     "iopub.execute_input": "2022-02-11T17:41:36.244768Z",
     "iopub.status.busy": "2022-02-11T17:41:36.244123Z",
     "iopub.status.idle": "2022-02-11T17:41:36.883821Z",
     "shell.execute_reply": "2022-02-11T17:41:36.883170Z",
     "shell.execute_reply.started": "2022-02-11T11:14:47.326571Z"
    },
    "papermill": {
     "duration": 0.672688,
     "end_time": "2022-02-11T17:41:36.883977",
     "exception": false,
     "start_time": "2022-02-11T17:41:36.211289",
     "status": "completed"
    },
    "scrolled": true,
    "tags": []
   },
   "outputs": [
    {
     "name": "stdout",
     "output_type": "stream",
     "text": [
      "0.4830386988621699\n"
     ]
    }
   ],
   "source": [
    "# Calculate a mapping: {item_id: target_mean}\n",
    "item_id_target_mean = all_data.groupby('item_id').target.mean()\n",
    "\n",
    "# In our non-regularized case we just *map* the computed means to the `item_id`'s\n",
    "all_data['item_target_enc'] = all_data['item_id'].map(item_id_target_mean)\n",
    "\n",
    "# Fill NaNs\n",
    "all_data['item_target_enc'].fillna(0.3343, inplace=True) \n",
    "\n",
    "# Print correlation\n",
    "encoded_feature = all_data['item_target_enc'].values\n",
    "print(np.corrcoef(all_data['target'].values, encoded_feature)[0][1])"
   ]
  },
  {
   "cell_type": "code",
   "execution_count": 9,
   "id": "14f88deb",
   "metadata": {
    "execution": {
     "iopub.execute_input": "2022-02-11T17:41:36.948560Z",
     "iopub.status.busy": "2022-02-11T17:41:36.947936Z",
     "iopub.status.idle": "2022-02-11T17:41:36.957571Z",
     "shell.execute_reply": "2022-02-11T17:41:36.958159Z",
     "shell.execute_reply.started": "2022-02-11T11:06:13.467058Z"
    },
    "papermill": {
     "duration": 0.043469,
     "end_time": "2022-02-11T17:41:36.958348",
     "exception": false,
     "start_time": "2022-02-11T17:41:36.914879",
     "status": "completed"
    },
    "tags": []
   },
   "outputs": [
    {
     "data": {
      "text/html": [
       "<div>\n",
       "<style scoped>\n",
       "    .dataframe tbody tr th:only-of-type {\n",
       "        vertical-align: middle;\n",
       "    }\n",
       "\n",
       "    .dataframe tbody tr th {\n",
       "        vertical-align: top;\n",
       "    }\n",
       "\n",
       "    .dataframe thead th {\n",
       "        text-align: right;\n",
       "    }\n",
       "</style>\n",
       "<table border=\"1\" class=\"dataframe\">\n",
       "  <thead>\n",
       "    <tr style=\"text-align: right;\">\n",
       "      <th></th>\n",
       "      <th>shop_id</th>\n",
       "      <th>item_id</th>\n",
       "      <th>date_block_num</th>\n",
       "      <th>target</th>\n",
       "      <th>item_target_enc</th>\n",
       "    </tr>\n",
       "  </thead>\n",
       "  <tbody>\n",
       "    <tr>\n",
       "      <th>139255</th>\n",
       "      <td>0</td>\n",
       "      <td>19</td>\n",
       "      <td>0</td>\n",
       "      <td>0.0</td>\n",
       "      <td>0.022222</td>\n",
       "    </tr>\n",
       "    <tr>\n",
       "      <th>141495</th>\n",
       "      <td>0</td>\n",
       "      <td>27</td>\n",
       "      <td>0</td>\n",
       "      <td>0.0</td>\n",
       "      <td>0.056834</td>\n",
       "    </tr>\n",
       "    <tr>\n",
       "      <th>144968</th>\n",
       "      <td>0</td>\n",
       "      <td>28</td>\n",
       "      <td>0</td>\n",
       "      <td>0.0</td>\n",
       "      <td>0.141176</td>\n",
       "    </tr>\n",
       "    <tr>\n",
       "      <th>142661</th>\n",
       "      <td>0</td>\n",
       "      <td>29</td>\n",
       "      <td>0</td>\n",
       "      <td>0.0</td>\n",
       "      <td>0.037383</td>\n",
       "    </tr>\n",
       "    <tr>\n",
       "      <th>138947</th>\n",
       "      <td>0</td>\n",
       "      <td>32</td>\n",
       "      <td>0</td>\n",
       "      <td>6.0</td>\n",
       "      <td>1.319042</td>\n",
       "    </tr>\n",
       "  </tbody>\n",
       "</table>\n",
       "</div>"
      ],
      "text/plain": [
       "        shop_id  item_id  date_block_num  target  item_target_enc\n",
       "139255        0       19               0     0.0         0.022222\n",
       "141495        0       27               0     0.0         0.056834\n",
       "144968        0       28               0     0.0         0.141176\n",
       "142661        0       29               0     0.0         0.037383\n",
       "138947        0       32               0     6.0         1.319042"
      ]
     },
     "execution_count": 9,
     "metadata": {},
     "output_type": "execute_result"
    }
   ],
   "source": [
    "all_data.head()"
   ]
  },
  {
   "cell_type": "markdown",
   "id": "9d849e05",
   "metadata": {
    "papermill": {
     "duration": 0.030482,
     "end_time": "2022-02-11T17:41:37.020443",
     "exception": false,
     "start_time": "2022-02-11T17:41:36.989961",
     "status": "completed"
    },
    "tags": []
   },
   "source": [
    "#### Method 2"
   ]
  },
  {
   "cell_type": "code",
   "execution_count": 10,
   "id": "fb090e58",
   "metadata": {
    "execution": {
     "iopub.execute_input": "2022-02-11T17:41:37.087987Z",
     "iopub.status.busy": "2022-02-11T17:41:37.087313Z",
     "iopub.status.idle": "2022-02-11T17:41:37.632295Z",
     "shell.execute_reply": "2022-02-11T17:41:37.631357Z",
     "shell.execute_reply.started": "2022-02-11T11:15:42.880251Z"
    },
    "papermill": {
     "duration": 0.579902,
     "end_time": "2022-02-11T17:41:37.632506",
     "exception": false,
     "start_time": "2022-02-11T17:41:37.052604",
     "status": "completed"
    },
    "tags": []
   },
   "outputs": [
    {
     "name": "stdout",
     "output_type": "stream",
     "text": [
      "0.4830386988621699\n"
     ]
    }
   ],
   "source": [
    "'''\n",
    "     Differently to `.target.mean()` function `transform` \n",
    "   will return a dataframe with an index like in `all_data`.\n",
    "   Basically this single line of code is equivalent to the first two lines from of Method 1.\n",
    "'''\n",
    "all_data['item_target_enc'] = all_data.groupby('item_id')['target'].transform('mean')\n",
    "\n",
    "# Fill NaNs\n",
    "all_data['item_target_enc'].fillna(0.3343, inplace=True) \n",
    "\n",
    "# Print correlation\n",
    "encoded_feature = all_data['item_target_enc'].values\n",
    "print(np.corrcoef(all_data['target'].values, encoded_feature)[0][1])"
   ]
  },
  {
   "cell_type": "markdown",
   "id": "d3279c80",
   "metadata": {
    "papermill": {
     "duration": 0.040656,
     "end_time": "2022-02-11T17:41:37.715136",
     "exception": false,
     "start_time": "2022-02-11T17:41:37.674480",
     "status": "completed"
    },
    "tags": []
   },
   "source": [
    "See the printed value? It is the correlation coefficient between the target variable and your new encoded feature. You need to **compute correlation coefficient** between the encodings."
   ]
  },
  {
   "cell_type": "markdown",
   "id": "8b89acc8",
   "metadata": {
    "papermill": {
     "duration": 0.031608,
     "end_time": "2022-02-11T17:41:37.784183",
     "exception": false,
     "start_time": "2022-02-11T17:41:37.752575",
     "status": "completed"
    },
    "tags": []
   },
   "source": [
    "# 1. KFold scheme"
   ]
  },
  {
   "cell_type": "markdown",
   "id": "2f033955",
   "metadata": {
    "papermill": {
     "duration": 0.03101,
     "end_time": "2022-02-11T17:41:37.847462",
     "exception": false,
     "start_time": "2022-02-11T17:41:37.816452",
     "status": "completed"
    },
    "tags": []
   },
   "source": [
    "**Now it's your turn to write the code!** \n",
    "\n",
    "You may use 'Regularization' video as a reference for all further tasks.\n",
    "\n",
    "First, implement KFold scheme with five folds. Use KFold(5) from sklearn.model_selection. \n",
    "\n",
    "1. Split your data in 5 folds with `sklearn.model_selection.KFold` with `shuffle=False` argument.\n",
    "2. Iterate through folds: use all but the current fold to calculate mean target for each level `item_id`, and  fill the current fold.\n",
    "\n",
    "    *  See the **Method 1** from the example implementation. In particular learn what `map` and pd.Series.map functions do. They are pretty handy in many situations."
   ]
  },
  {
   "cell_type": "code",
   "execution_count": 11,
   "id": "b8e9866e",
   "metadata": {
    "execution": {
     "iopub.execute_input": "2022-02-11T17:41:37.917827Z",
     "iopub.status.busy": "2022-02-11T17:41:37.917127Z",
     "iopub.status.idle": "2022-02-11T17:41:45.763388Z",
     "shell.execute_reply": "2022-02-11T17:41:45.762790Z",
     "shell.execute_reply.started": "2022-02-11T11:18:04.707993Z"
    },
    "papermill": {
     "duration": 7.884797,
     "end_time": "2022-02-11T17:41:45.763524",
     "exception": false,
     "start_time": "2022-02-11T17:41:37.878727",
     "status": "completed"
    },
    "tags": []
   },
   "outputs": [
    {
     "name": "stderr",
     "output_type": "stream",
     "text": [
      "/opt/conda/lib/python3.7/site-packages/ipykernel_launcher.py:11: SettingWithCopyWarning: \n",
      "A value is trying to be set on a copy of a slice from a DataFrame.\n",
      "Try using .loc[row_indexer,col_indexer] = value instead\n",
      "\n",
      "See the caveats in the documentation: https://pandas.pydata.org/pandas-docs/stable/user_guide/indexing.html#returning-a-view-versus-a-copy\n",
      "  # This is added back by InteractiveShellApp.init_path()\n"
     ]
    }
   ],
   "source": [
    "# YOUR CODE GOES HERE\n",
    "from sklearn.model_selection import KFold\n",
    "\n",
    "kf = KFold(n_splits=5, shuffle=False)\n",
    "\n",
    "for index_train, index_valid in kf.split(all_data):\n",
    "    X_tr, X_val = all_data.iloc[index_train], all_data.iloc[index_valid]\n",
    "    \n",
    "    # target coding of valid dataset depends on train dataset\n",
    "    X_tr_group = X_tr.groupby('item_id')['target'] \n",
    "    X_val['item_target_enc'] = X_val['item_id'].map(X_tr_group.mean())\n",
    "    \n",
    "    # copy target encoding back to all_data\n",
    "    all_data.iloc[index_valid] = X_val\n",
    "    \n",
    "\n",
    "all_data['item_target_enc'].fillna(0.3343, inplace=True) \n",
    "encoded_feature = all_data['item_target_enc'].values\n",
    "    \n",
    "\n",
    "# You will need to compute correlation like that\n",
    "#corr = np.corrcoef(all_data['target'].values, encoded_feature)[0][1]\n",
    "#print(corr)\n"
   ]
  },
  {
   "cell_type": "code",
   "execution_count": null,
   "id": "60a07619",
   "metadata": {
    "execution": {
     "iopub.execute_input": "2022-02-11T17:39:57.125589Z",
     "iopub.status.busy": "2022-02-11T17:39:57.125089Z",
     "iopub.status.idle": "2022-02-11T17:39:57.224696Z",
     "shell.execute_reply": "2022-02-11T17:39:57.223714Z",
     "shell.execute_reply.started": "2022-02-11T17:39:57.125469Z"
    },
    "papermill": {
     "duration": 0.032897,
     "end_time": "2022-02-11T17:41:45.828203",
     "exception": false,
     "start_time": "2022-02-11T17:41:45.795306",
     "status": "completed"
    },
    "tags": []
   },
   "outputs": [],
   "source": []
  },
  {
   "cell_type": "markdown",
   "id": "9fa28538",
   "metadata": {
    "papermill": {
     "duration": 0.031163,
     "end_time": "2022-02-11T17:41:45.891035",
     "exception": false,
     "start_time": "2022-02-11T17:41:45.859872",
     "status": "completed"
    },
    "tags": []
   },
   "source": [
    "# 2. Leave-one-out scheme"
   ]
  },
  {
   "cell_type": "markdown",
   "id": "46e7a038",
   "metadata": {
    "papermill": {
     "duration": 0.039443,
     "end_time": "2022-02-11T17:41:45.962352",
     "exception": false,
     "start_time": "2022-02-11T17:41:45.922909",
     "status": "completed"
    },
    "tags": []
   },
   "source": [
    "Now, implement leave-one-out scheme. Note that if you just simply set the number of folds to the number of samples and run the code from the **KFold scheme**, you will probably wait for a very long time. \n",
    "\n",
    "To implement a faster version, note, that to calculate mean target value using all the objects but one *given object*, you can:\n",
    "\n",
    "1. Calculate sum of the target values using all the objects.\n",
    "2. Then subtract the target of the *given object* and divide the resulting value by `n_objects - 1`. \n",
    "\n",
    "Note that you do not need to perform `1.` for every object. And `2.` can be implemented without any `for` loop.\n",
    "\n",
    "It is the most convenient to use `.transform` function as in **Method 2**."
   ]
  },
  {
   "cell_type": "code",
   "execution_count": 12,
   "id": "1504b96b",
   "metadata": {
    "execution": {
     "iopub.execute_input": "2022-02-11T17:41:46.049652Z",
     "iopub.status.busy": "2022-02-11T17:41:46.048963Z",
     "iopub.status.idle": "2022-02-11T17:41:47.243328Z",
     "shell.execute_reply": "2022-02-11T17:41:47.242467Z",
     "shell.execute_reply.started": "2022-02-11T11:19:32.213077Z"
    },
    "papermill": {
     "duration": 1.241892,
     "end_time": "2022-02-11T17:41:47.243502",
     "exception": false,
     "start_time": "2022-02-11T17:41:46.001610",
     "status": "completed"
    },
    "tags": []
   },
   "outputs": [
    {
     "name": "stdout",
     "output_type": "stream",
     "text": [
      "0.4803848311293002\n",
      "CPU times: user 902 ms, sys: 526 ms, total: 1.43 s\n",
      "Wall time: 1.19 s\n"
     ]
    }
   ],
   "source": [
    "%%time\n",
    "# YOUR CODE GOES HERE\n",
    "\n",
    "# Calculate sum of the target values using all the objects.\n",
    "target_sum = all_data.groupby('item_id')['target'].transform('sum')\n",
    "\n",
    "# Then subtract the target of the given object and divide the resulting value by n_objects - 1.\n",
    "n_objects = all_data.groupby('item_id')['target'].transform('count')\n",
    "\n",
    "all_data['item_target_enc'] = (target_sum - all_data['target']) / (n_objects - 1)\n",
    "all_data['item_target_enc'].fillna(0.3343, inplace=True)\n",
    "encoded_feature = all_data['item_target_enc'].values\n",
    "\n",
    "\n",
    "corr = np.corrcoef(all_data['target'].values, encoded_feature)[0][1]\n",
    "print(corr)\n"
   ]
  },
  {
   "cell_type": "markdown",
   "id": "8e6740bb",
   "metadata": {
    "papermill": {
     "duration": 0.032865,
     "end_time": "2022-02-11T17:41:47.309345",
     "exception": false,
     "start_time": "2022-02-11T17:41:47.276480",
     "status": "completed"
    },
    "tags": []
   },
   "source": [
    "# 3. Smoothing"
   ]
  },
  {
   "cell_type": "markdown",
   "id": "09aa0962",
   "metadata": {
    "papermill": {
     "duration": 0.032818,
     "end_time": "2022-02-11T17:41:47.374795",
     "exception": false,
     "start_time": "2022-02-11T17:41:47.341977",
     "status": "completed"
    },
    "tags": []
   },
   "source": [
    "Explained starting at 4:03 of [Regularization video](https://www.coursera.org/learn/competitive-data-science/lecture/LGYQ2/regularization)."
   ]
  },
  {
   "cell_type": "markdown",
   "id": "fdbacdd9",
   "metadata": {
    "papermill": {
     "duration": 0.032661,
     "end_time": "2022-02-11T17:41:47.440117",
     "exception": false,
     "start_time": "2022-02-11T17:41:47.407456",
     "status": "completed"
    },
    "tags": []
   },
   "source": [
    "Next, implement smoothing scheme with $\\alpha = 100$. Use the formula from the first slide in the video and $0.3343$ as `globalmean`. Note that `nrows` is the number of objects that belong to a certain category (not the number of rows in the dataset)."
   ]
  },
  {
   "cell_type": "code",
   "execution_count": 13,
   "id": "86dc0697",
   "metadata": {
    "execution": {
     "iopub.execute_input": "2022-02-11T17:41:47.514095Z",
     "iopub.status.busy": "2022-02-11T17:41:47.513322Z",
     "iopub.status.idle": "2022-02-11T17:41:48.676270Z",
     "shell.execute_reply": "2022-02-11T17:41:48.674936Z",
     "shell.execute_reply.started": "2022-02-11T11:19:51.921375Z"
    },
    "papermill": {
     "duration": 1.203442,
     "end_time": "2022-02-11T17:41:48.676461",
     "exception": false,
     "start_time": "2022-02-11T17:41:47.473019",
     "status": "completed"
    },
    "tags": []
   },
   "outputs": [
    {
     "name": "stdout",
     "output_type": "stream",
     "text": [
      "0.4818198797097264\n",
      "CPU times: user 949 ms, sys: 506 ms, total: 1.46 s\n",
      "Wall time: 1.16 s\n"
     ]
    }
   ],
   "source": [
    "%%time\n",
    "\n",
    "# YOUR CODE GOES HERE\n",
    "alpha = 100\n",
    "\n",
    "item_id_target_mean = all_data.groupby('item_id')['target'].transform('mean')\n",
    "n_objects = all_data.groupby('item_id')['target'].transform('count')\n",
    "\n",
    "all_data['item_target_enc'] = (item_id_target_mean * n_objects + 0.3343*alpha) / (n_objects + alpha)\n",
    "\n",
    "all_data['item_target_enc'].fillna(0.3343, inplace=True) \n",
    "encoded_feature = all_data['item_target_enc'].values\n",
    "\n",
    "\n",
    "corr = np.corrcoef(all_data['target'].values, encoded_feature)[0][1]\n",
    "print(corr)"
   ]
  },
  {
   "cell_type": "markdown",
   "id": "f47fece7",
   "metadata": {
    "papermill": {
     "duration": 0.037927,
     "end_time": "2022-02-11T17:41:48.755262",
     "exception": false,
     "start_time": "2022-02-11T17:41:48.717335",
     "status": "completed"
    },
    "tags": []
   },
   "source": [
    "# 4. Expanding mean scheme"
   ]
  },
  {
   "cell_type": "markdown",
   "id": "c367e6c4",
   "metadata": {
    "papermill": {
     "duration": 0.031726,
     "end_time": "2022-02-11T17:41:48.819053",
     "exception": false,
     "start_time": "2022-02-11T17:41:48.787327",
     "status": "completed"
    },
    "tags": []
   },
   "source": [
    "Explained starting at 5:50 of [Regularization video](https://www.coursera.org/learn/competitive-data-science/lecture/LGYQ2/regularization)."
   ]
  },
  {
   "cell_type": "markdown",
   "id": "e10a6f82",
   "metadata": {
    "papermill": {
     "duration": 0.032778,
     "end_time": "2022-02-11T17:41:48.884113",
     "exception": false,
     "start_time": "2022-02-11T17:41:48.851335",
     "status": "completed"
    },
    "tags": []
   },
   "source": [
    "Finally, implement the *expanding mean* scheme. It is basically already implemented for you in the video, but you can challenge yourself and try to implement it yourself. You will need [`cumsum`](https://pandas.pydata.org/pandas-docs/stable/generated/pandas.core.groupby.DataFrameGroupBy.cumsum.html) and [`cumcount`](https://pandas.pydata.org/pandas-docs/stable/generated/pandas.core.groupby.GroupBy.cumcount.html) functions from pandas."
   ]
  },
  {
   "cell_type": "code",
   "execution_count": 14,
   "id": "90da10b1",
   "metadata": {
    "execution": {
     "iopub.execute_input": "2022-02-11T17:41:48.959037Z",
     "iopub.status.busy": "2022-02-11T17:41:48.957733Z",
     "iopub.status.idle": "2022-02-11T17:41:50.718754Z",
     "shell.execute_reply": "2022-02-11T17:41:50.719268Z",
     "shell.execute_reply.started": "2022-02-11T11:20:02.682381Z"
    },
    "papermill": {
     "duration": 1.80307,
     "end_time": "2022-02-11T17:41:50.719478",
     "exception": false,
     "start_time": "2022-02-11T17:41:48.916408",
     "status": "completed"
    },
    "tags": []
   },
   "outputs": [
    {
     "name": "stdout",
     "output_type": "stream",
     "text": [
      "0.5025245211081697\n"
     ]
    }
   ],
   "source": [
    "# YOUR CODE GOES HERE\n",
    "cumsum = all_data.groupby('item_id')['target'].cumsum() - all_data['target']\n",
    "cumcnt = all_data.groupby('item_id').cumcount()\n",
    "\n",
    "all_data['item_target_enc'] = cumsum / cumcnt\n",
    "all_data['item_target_enc'].fillna(0.3343, inplace=True) \n",
    "encoded_feature = all_data['item_target_enc'].values\n",
    "\n",
    "corr = np.corrcoef(all_data['target'].values, encoded_feature)[0][1]\n",
    "print(corr)"
   ]
  }
 ],
 "metadata": {
  "kernelspec": {
   "display_name": "Python 3",
   "language": "python",
   "name": "python3"
  },
  "language_info": {
   "codemirror_mode": {
    "name": "ipython",
    "version": 3
   },
   "file_extension": ".py",
   "mimetype": "text/x-python",
   "name": "python",
   "nbconvert_exporter": "python",
   "pygments_lexer": "ipython3",
   "version": "3.7.12"
  },
  "papermill": {
   "default_parameters": {},
   "duration": 56.427232,
   "end_time": "2022-02-11T17:41:51.666426",
   "environment_variables": {},
   "exception": null,
   "input_path": "__notebook__.ipynb",
   "output_path": "__notebook__.ipynb",
   "parameters": {},
   "start_time": "2022-02-11T17:40:55.239194",
   "version": "2.3.3"
  }
 },
 "nbformat": 4,
 "nbformat_minor": 5
}
