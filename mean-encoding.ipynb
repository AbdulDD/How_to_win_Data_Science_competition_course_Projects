{
 "cells": [
  {
   "cell_type": "markdown",
   "id": "11c8a92a",
   "metadata": {
    "papermill": {
     "duration": 0.026142,
     "end_time": "2022-02-11T17:34:05.275189",
     "exception": false,
     "start_time": "2022-02-11T17:34:05.249047",
     "status": "completed"
    },
    "tags": []
   },
   "source": [
    "Version 1.1.0"
   ]
  },
  {
   "cell_type": "markdown",
   "id": "4eccd4e4",
   "metadata": {
    "papermill": {
     "duration": 0.027855,
     "end_time": "2022-02-11T17:34:05.329376",
     "exception": false,
     "start_time": "2022-02-11T17:34:05.301521",
     "status": "completed"
    },
    "tags": []
   },
   "source": [
    "# Mean encodings"
   ]
  },
  {
   "cell_type": "markdown",
   "id": "65721a67",
   "metadata": {
    "papermill": {
     "duration": 0.025991,
     "end_time": "2022-02-11T17:34:05.381053",
     "exception": false,
     "start_time": "2022-02-11T17:34:05.355062",
     "status": "completed"
    },
    "tags": []
   },
   "source": [
    "In this programming assignment you will be working with `1C` dataset from the final competition. You are asked to encode `item_id` in 4 different ways:\n",
    "\n",
    "    1) Via KFold scheme;  \n",
    "    2) Via Leave-one-out scheme;\n",
    "    3) Via smoothing scheme;\n",
    "    4) Via expanding mean scheme.\n",
    "\n",
    "**You will need to submit** the correlation coefficient between resulting encoding and target variable up to 4 decimal places.\n",
    "\n",
    "### General tips\n",
    "\n",
    "* Fill NANs in the encoding with `0.3343`.\n",
    "* Some encoding schemes depend on sorting order, so in order to avoid confusion, please use the following code snippet to construct the data frame. This snippet also implements mean encoding without regularization."
   ]
  },
  {
   "cell_type": "code",
   "execution_count": 1,
   "id": "345bb10b",
   "metadata": {
    "execution": {
     "iopub.execute_input": "2022-02-11T17:34:05.438107Z",
     "iopub.status.busy": "2022-02-11T17:34:05.436871Z",
     "iopub.status.idle": "2022-02-11T17:34:05.444629Z",
     "shell.execute_reply": "2022-02-11T17:34:05.445032Z",
     "shell.execute_reply.started": "2022-02-11T10:22:07.593525Z"
    },
    "papermill": {
     "duration": 0.038522,
     "end_time": "2022-02-11T17:34:05.445297",
     "exception": false,
     "start_time": "2022-02-11T17:34:05.406775",
     "status": "completed"
    },
    "tags": []
   },
   "outputs": [],
   "source": [
    "import pandas as pd\n",
    "import numpy as np\n",
    "from itertools import product"
   ]
  },
  {
   "cell_type": "markdown",
   "id": "e5ea06ba",
   "metadata": {
    "papermill": {
     "duration": 0.023434,
     "end_time": "2022-02-11T17:34:05.492773",
     "exception": false,
     "start_time": "2022-02-11T17:34:05.469339",
     "status": "completed"
    },
    "tags": []
   },
   "source": [
    "# Read data"
   ]
  },
  {
   "cell_type": "code",
   "execution_count": 2,
   "id": "4845c87e",
   "metadata": {
    "execution": {
     "iopub.execute_input": "2022-02-11T17:34:05.545708Z",
     "iopub.status.busy": "2022-02-11T17:34:05.544986Z",
     "iopub.status.idle": "2022-02-11T17:34:08.000802Z",
     "shell.execute_reply": "2022-02-11T17:34:08.001196Z",
     "shell.execute_reply.started": "2022-02-11T10:22:07.603197Z"
    },
    "papermill": {
     "duration": 2.485038,
     "end_time": "2022-02-11T17:34:08.001353",
     "exception": false,
     "start_time": "2022-02-11T17:34:05.516315",
     "status": "completed"
    },
    "tags": []
   },
   "outputs": [
    {
     "data": {
      "text/html": [
       "<div>\n",
       "<style scoped>\n",
       "    .dataframe tbody tr th:only-of-type {\n",
       "        vertical-align: middle;\n",
       "    }\n",
       "\n",
       "    .dataframe tbody tr th {\n",
       "        vertical-align: top;\n",
       "    }\n",
       "\n",
       "    .dataframe thead th {\n",
       "        text-align: right;\n",
       "    }\n",
       "</style>\n",
       "<table border=\"1\" class=\"dataframe\">\n",
       "  <thead>\n",
       "    <tr style=\"text-align: right;\">\n",
       "      <th></th>\n",
       "      <th>date</th>\n",
       "      <th>date_block_num</th>\n",
       "      <th>shop_id</th>\n",
       "      <th>item_id</th>\n",
       "      <th>item_price</th>\n",
       "      <th>item_cnt_day</th>\n",
       "    </tr>\n",
       "  </thead>\n",
       "  <tbody>\n",
       "    <tr>\n",
       "      <th>2935844</th>\n",
       "      <td>10.10.2015</td>\n",
       "      <td>33</td>\n",
       "      <td>25</td>\n",
       "      <td>7409</td>\n",
       "      <td>299.0</td>\n",
       "      <td>1.0</td>\n",
       "    </tr>\n",
       "    <tr>\n",
       "      <th>2935845</th>\n",
       "      <td>09.10.2015</td>\n",
       "      <td>33</td>\n",
       "      <td>25</td>\n",
       "      <td>7460</td>\n",
       "      <td>299.0</td>\n",
       "      <td>1.0</td>\n",
       "    </tr>\n",
       "    <tr>\n",
       "      <th>2935846</th>\n",
       "      <td>14.10.2015</td>\n",
       "      <td>33</td>\n",
       "      <td>25</td>\n",
       "      <td>7459</td>\n",
       "      <td>349.0</td>\n",
       "      <td>1.0</td>\n",
       "    </tr>\n",
       "    <tr>\n",
       "      <th>2935847</th>\n",
       "      <td>22.10.2015</td>\n",
       "      <td>33</td>\n",
       "      <td>25</td>\n",
       "      <td>7440</td>\n",
       "      <td>299.0</td>\n",
       "      <td>1.0</td>\n",
       "    </tr>\n",
       "    <tr>\n",
       "      <th>2935848</th>\n",
       "      <td>03.10.2015</td>\n",
       "      <td>33</td>\n",
       "      <td>25</td>\n",
       "      <td>7460</td>\n",
       "      <td>299.0</td>\n",
       "      <td>1.0</td>\n",
       "    </tr>\n",
       "  </tbody>\n",
       "</table>\n",
       "</div>"
      ],
      "text/plain": [
       "               date  date_block_num  shop_id  item_id  item_price  \\\n",
       "2935844  10.10.2015              33       25     7409       299.0   \n",
       "2935845  09.10.2015              33       25     7460       299.0   \n",
       "2935846  14.10.2015              33       25     7459       349.0   \n",
       "2935847  22.10.2015              33       25     7440       299.0   \n",
       "2935848  03.10.2015              33       25     7460       299.0   \n",
       "\n",
       "         item_cnt_day  \n",
       "2935844           1.0  \n",
       "2935845           1.0  \n",
       "2935846           1.0  \n",
       "2935847           1.0  \n",
       "2935848           1.0  "
      ]
     },
     "execution_count": 2,
     "metadata": {},
     "output_type": "execute_result"
    }
   ],
   "source": [
    "sales = pd.read_csv('../input/sales-train/Sales_Train.csv')\n",
    "sales.head()\n",
    "sales.tail()\n",
    "#sales.shape"
   ]
  },
  {
   "cell_type": "markdown",
   "id": "9d3ce365",
   "metadata": {
    "papermill": {
     "duration": 0.023966,
     "end_time": "2022-02-11T17:34:08.049688",
     "exception": false,
     "start_time": "2022-02-11T17:34:08.025722",
     "status": "completed"
    },
    "tags": []
   },
   "source": [
    "# Aggregate data"
   ]
  },
  {
   "cell_type": "markdown",
   "id": "c230fdce",
   "metadata": {
    "papermill": {
     "duration": 0.022147,
     "end_time": "2022-02-11T17:34:08.094814",
     "exception": false,
     "start_time": "2022-02-11T17:34:08.072667",
     "status": "completed"
    },
    "tags": []
   },
   "source": [
    "Since the competition task is to make a monthly prediction, we need to aggregate the data to montly level before doing any encodings. The following code-cell serves just that purpose."
   ]
  },
  {
   "cell_type": "code",
   "execution_count": 3,
   "id": "e7190d5e",
   "metadata": {
    "execution": {
     "iopub.execute_input": "2022-02-11T17:34:08.152091Z",
     "iopub.status.busy": "2022-02-11T17:34:08.151452Z",
     "iopub.status.idle": "2022-02-11T17:34:17.576560Z",
     "shell.execute_reply": "2022-02-11T17:34:17.576074Z",
     "shell.execute_reply.started": "2022-02-11T10:22:10.250531Z"
    },
    "papermill": {
     "duration": 9.458041,
     "end_time": "2022-02-11T17:34:17.576679",
     "exception": false,
     "start_time": "2022-02-11T17:34:08.118638",
     "status": "completed"
    },
    "tags": []
   },
   "outputs": [],
   "source": [
    "index_cols = ['shop_id', 'item_id', 'date_block_num']\n",
    "\n",
    "# For every month we create a grid from all shops/items combinations from that month\n",
    "grid = [] \n",
    "for block_num in sales['date_block_num'].unique():\n",
    "    cur_shops = sales[sales['date_block_num']==block_num]['shop_id'].unique()\n",
    "    cur_items = sales[sales['date_block_num']==block_num]['item_id'].unique()\n",
    "    grid.append(np.array(list(product(*[cur_shops, cur_items, [block_num]])),dtype='int32'))\n",
    "\n",
    "#turn the grid into pandas dataframe\n",
    "grid = pd.DataFrame(np.vstack(grid), columns = index_cols,dtype=np.int32)"
   ]
  },
  {
   "cell_type": "code",
   "execution_count": 4,
   "id": "5af8e6ee",
   "metadata": {
    "execution": {
     "iopub.execute_input": "2022-02-11T17:34:17.631939Z",
     "iopub.status.busy": "2022-02-11T17:34:17.631051Z",
     "iopub.status.idle": "2022-02-11T17:34:18.503016Z",
     "shell.execute_reply": "2022-02-11T17:34:18.502456Z",
     "shell.execute_reply.started": "2022-02-11T10:38:06.628659Z"
    },
    "papermill": {
     "duration": 0.902466,
     "end_time": "2022-02-11T17:34:18.503158",
     "exception": false,
     "start_time": "2022-02-11T17:34:17.600692",
     "status": "completed"
    },
    "tags": []
   },
   "outputs": [],
   "source": [
    "sales.head()\n",
    "\n",
    "#get aggregated values for (shop_id, item_id, month)\n",
    "gb = sales.groupby(index_cols,as_index=False).agg({'item_cnt_day':['sum']})\n",
    "\n",
    "#fix column names\n",
    "gb.columns = [col[0] if col[-1]=='' else col[-1] for col in gb.columns.values]\n",
    "\n",
    "#.agg({'item_cnt_day':{'target':'sum'}})"
   ]
  },
  {
   "cell_type": "code",
   "execution_count": 5,
   "id": "dcc3ed6e",
   "metadata": {
    "execution": {
     "iopub.execute_input": "2022-02-11T17:34:18.556807Z",
     "iopub.status.busy": "2022-02-11T17:34:18.555899Z",
     "iopub.status.idle": "2022-02-11T17:34:27.838525Z",
     "shell.execute_reply": "2022-02-11T17:34:27.838057Z",
     "shell.execute_reply.started": "2022-02-11T10:48:57.186038Z"
    },
    "papermill": {
     "duration": 9.311942,
     "end_time": "2022-02-11T17:34:27.838649",
     "exception": false,
     "start_time": "2022-02-11T17:34:18.526707",
     "status": "completed"
    },
    "tags": []
   },
   "outputs": [],
   "source": [
    "\n",
    "#join aggregated data to the grid\n",
    "all_data = pd.merge(grid,gb,how='left',on=index_cols).fillna(0)\n",
    "#sort the data\n",
    "all_data.sort_values(['date_block_num','shop_id','item_id'],inplace=True)\n",
    "#changeing name of sum in to target\n",
    "all_data=all_data.rename(columns = {'sum':'target'})"
   ]
  },
  {
   "cell_type": "code",
   "execution_count": 6,
   "id": "5d885fb8",
   "metadata": {
    "execution": {
     "iopub.execute_input": "2022-02-11T17:34:27.903846Z",
     "iopub.status.busy": "2022-02-11T17:34:27.903004Z",
     "iopub.status.idle": "2022-02-11T17:34:27.908705Z",
     "shell.execute_reply": "2022-02-11T17:34:27.909274Z",
     "shell.execute_reply.started": "2022-02-11T10:49:07.374752Z"
    },
    "papermill": {
     "duration": 0.046937,
     "end_time": "2022-02-11T17:34:27.909458",
     "exception": false,
     "start_time": "2022-02-11T17:34:27.862521",
     "status": "completed"
    },
    "tags": []
   },
   "outputs": [
    {
     "data": {
      "text/html": [
       "<div>\n",
       "<style scoped>\n",
       "    .dataframe tbody tr th:only-of-type {\n",
       "        vertical-align: middle;\n",
       "    }\n",
       "\n",
       "    .dataframe tbody tr th {\n",
       "        vertical-align: top;\n",
       "    }\n",
       "\n",
       "    .dataframe thead th {\n",
       "        text-align: right;\n",
       "    }\n",
       "</style>\n",
       "<table border=\"1\" class=\"dataframe\">\n",
       "  <thead>\n",
       "    <tr style=\"text-align: right;\">\n",
       "      <th></th>\n",
       "      <th>shop_id</th>\n",
       "      <th>item_id</th>\n",
       "      <th>date_block_num</th>\n",
       "      <th>target</th>\n",
       "    </tr>\n",
       "  </thead>\n",
       "  <tbody>\n",
       "    <tr>\n",
       "      <th>139255</th>\n",
       "      <td>0</td>\n",
       "      <td>19</td>\n",
       "      <td>0</td>\n",
       "      <td>0.0</td>\n",
       "    </tr>\n",
       "    <tr>\n",
       "      <th>141495</th>\n",
       "      <td>0</td>\n",
       "      <td>27</td>\n",
       "      <td>0</td>\n",
       "      <td>0.0</td>\n",
       "    </tr>\n",
       "    <tr>\n",
       "      <th>144968</th>\n",
       "      <td>0</td>\n",
       "      <td>28</td>\n",
       "      <td>0</td>\n",
       "      <td>0.0</td>\n",
       "    </tr>\n",
       "    <tr>\n",
       "      <th>142661</th>\n",
       "      <td>0</td>\n",
       "      <td>29</td>\n",
       "      <td>0</td>\n",
       "      <td>0.0</td>\n",
       "    </tr>\n",
       "    <tr>\n",
       "      <th>138947</th>\n",
       "      <td>0</td>\n",
       "      <td>32</td>\n",
       "      <td>0</td>\n",
       "      <td>6.0</td>\n",
       "    </tr>\n",
       "    <tr>\n",
       "      <th>138948</th>\n",
       "      <td>0</td>\n",
       "      <td>33</td>\n",
       "      <td>0</td>\n",
       "      <td>3.0</td>\n",
       "    </tr>\n",
       "    <tr>\n",
       "      <th>138949</th>\n",
       "      <td>0</td>\n",
       "      <td>34</td>\n",
       "      <td>0</td>\n",
       "      <td>0.0</td>\n",
       "    </tr>\n",
       "    <tr>\n",
       "      <th>139247</th>\n",
       "      <td>0</td>\n",
       "      <td>35</td>\n",
       "      <td>0</td>\n",
       "      <td>1.0</td>\n",
       "    </tr>\n",
       "    <tr>\n",
       "      <th>142672</th>\n",
       "      <td>0</td>\n",
       "      <td>40</td>\n",
       "      <td>0</td>\n",
       "      <td>0.0</td>\n",
       "    </tr>\n",
       "    <tr>\n",
       "      <th>142065</th>\n",
       "      <td>0</td>\n",
       "      <td>41</td>\n",
       "      <td>0</td>\n",
       "      <td>0.0</td>\n",
       "    </tr>\n",
       "    <tr>\n",
       "      <th>139208</th>\n",
       "      <td>0</td>\n",
       "      <td>42</td>\n",
       "      <td>0</td>\n",
       "      <td>0.0</td>\n",
       "    </tr>\n",
       "    <tr>\n",
       "      <th>142670</th>\n",
       "      <td>0</td>\n",
       "      <td>43</td>\n",
       "      <td>0</td>\n",
       "      <td>1.0</td>\n",
       "    </tr>\n",
       "    <tr>\n",
       "      <th>139207</th>\n",
       "      <td>0</td>\n",
       "      <td>44</td>\n",
       "      <td>0</td>\n",
       "      <td>0.0</td>\n",
       "    </tr>\n",
       "    <tr>\n",
       "      <th>138950</th>\n",
       "      <td>0</td>\n",
       "      <td>45</td>\n",
       "      <td>0</td>\n",
       "      <td>0.0</td>\n",
       "    </tr>\n",
       "    <tr>\n",
       "      <th>143764</th>\n",
       "      <td>0</td>\n",
       "      <td>46</td>\n",
       "      <td>0</td>\n",
       "      <td>0.0</td>\n",
       "    </tr>\n",
       "    <tr>\n",
       "      <th>141505</th>\n",
       "      <td>0</td>\n",
       "      <td>47</td>\n",
       "      <td>0</td>\n",
       "      <td>0.0</td>\n",
       "    </tr>\n",
       "    <tr>\n",
       "      <th>139199</th>\n",
       "      <td>0</td>\n",
       "      <td>48</td>\n",
       "      <td>0</td>\n",
       "      <td>0.0</td>\n",
       "    </tr>\n",
       "    <tr>\n",
       "      <th>138952</th>\n",
       "      <td>0</td>\n",
       "      <td>49</td>\n",
       "      <td>0</td>\n",
       "      <td>0.0</td>\n",
       "    </tr>\n",
       "    <tr>\n",
       "      <th>139176</th>\n",
       "      <td>0</td>\n",
       "      <td>50</td>\n",
       "      <td>0</td>\n",
       "      <td>0.0</td>\n",
       "    </tr>\n",
       "    <tr>\n",
       "      <th>138951</th>\n",
       "      <td>0</td>\n",
       "      <td>51</td>\n",
       "      <td>0</td>\n",
       "      <td>2.0</td>\n",
       "    </tr>\n",
       "    <tr>\n",
       "      <th>139177</th>\n",
       "      <td>0</td>\n",
       "      <td>52</td>\n",
       "      <td>0</td>\n",
       "      <td>0.0</td>\n",
       "    </tr>\n",
       "    <tr>\n",
       "      <th>139178</th>\n",
       "      <td>0</td>\n",
       "      <td>53</td>\n",
       "      <td>0</td>\n",
       "      <td>0.0</td>\n",
       "    </tr>\n",
       "    <tr>\n",
       "      <th>139179</th>\n",
       "      <td>0</td>\n",
       "      <td>54</td>\n",
       "      <td>0</td>\n",
       "      <td>0.0</td>\n",
       "    </tr>\n",
       "    <tr>\n",
       "      <th>143769</th>\n",
       "      <td>0</td>\n",
       "      <td>55</td>\n",
       "      <td>0</td>\n",
       "      <td>0.0</td>\n",
       "    </tr>\n",
       "    <tr>\n",
       "      <th>142671</th>\n",
       "      <td>0</td>\n",
       "      <td>56</td>\n",
       "      <td>0</td>\n",
       "      <td>0.0</td>\n",
       "    </tr>\n",
       "    <tr>\n",
       "      <th>144539</th>\n",
       "      <td>0</td>\n",
       "      <td>57</td>\n",
       "      <td>0</td>\n",
       "      <td>0.0</td>\n",
       "    </tr>\n",
       "    <tr>\n",
       "      <th>139180</th>\n",
       "      <td>0</td>\n",
       "      <td>59</td>\n",
       "      <td>0</td>\n",
       "      <td>0.0</td>\n",
       "    </tr>\n",
       "    <tr>\n",
       "      <th>138953</th>\n",
       "      <td>0</td>\n",
       "      <td>60</td>\n",
       "      <td>0</td>\n",
       "      <td>0.0</td>\n",
       "    </tr>\n",
       "    <tr>\n",
       "      <th>144265</th>\n",
       "      <td>0</td>\n",
       "      <td>61</td>\n",
       "      <td>0</td>\n",
       "      <td>1.0</td>\n",
       "    </tr>\n",
       "    <tr>\n",
       "      <th>141744</th>\n",
       "      <td>0</td>\n",
       "      <td>63</td>\n",
       "      <td>0</td>\n",
       "      <td>0.0</td>\n",
       "    </tr>\n",
       "    <tr>\n",
       "      <th>139181</th>\n",
       "      <td>0</td>\n",
       "      <td>72</td>\n",
       "      <td>0</td>\n",
       "      <td>0.0</td>\n",
       "    </tr>\n",
       "    <tr>\n",
       "      <th>144540</th>\n",
       "      <td>0</td>\n",
       "      <td>73</td>\n",
       "      <td>0</td>\n",
       "      <td>0.0</td>\n",
       "    </tr>\n",
       "    <tr>\n",
       "      <th>139182</th>\n",
       "      <td>0</td>\n",
       "      <td>75</td>\n",
       "      <td>0</td>\n",
       "      <td>1.0</td>\n",
       "    </tr>\n",
       "    <tr>\n",
       "      <th>145827</th>\n",
       "      <td>0</td>\n",
       "      <td>84</td>\n",
       "      <td>0</td>\n",
       "      <td>0.0</td>\n",
       "    </tr>\n",
       "    <tr>\n",
       "      <th>138954</th>\n",
       "      <td>0</td>\n",
       "      <td>85</td>\n",
       "      <td>0</td>\n",
       "      <td>0.0</td>\n",
       "    </tr>\n",
       "    <tr>\n",
       "      <th>144807</th>\n",
       "      <td>0</td>\n",
       "      <td>86</td>\n",
       "      <td>0</td>\n",
       "      <td>0.0</td>\n",
       "    </tr>\n",
       "    <tr>\n",
       "      <th>139183</th>\n",
       "      <td>0</td>\n",
       "      <td>88</td>\n",
       "      <td>0</td>\n",
       "      <td>1.0</td>\n",
       "    </tr>\n",
       "    <tr>\n",
       "      <th>139184</th>\n",
       "      <td>0</td>\n",
       "      <td>89</td>\n",
       "      <td>0</td>\n",
       "      <td>0.0</td>\n",
       "    </tr>\n",
       "    <tr>\n",
       "      <th>139185</th>\n",
       "      <td>0</td>\n",
       "      <td>93</td>\n",
       "      <td>0</td>\n",
       "      <td>0.0</td>\n",
       "    </tr>\n",
       "    <tr>\n",
       "      <th>143885</th>\n",
       "      <td>0</td>\n",
       "      <td>94</td>\n",
       "      <td>0</td>\n",
       "      <td>0.0</td>\n",
       "    </tr>\n",
       "    <tr>\n",
       "      <th>141745</th>\n",
       "      <td>0</td>\n",
       "      <td>95</td>\n",
       "      <td>0</td>\n",
       "      <td>1.0</td>\n",
       "    </tr>\n",
       "    <tr>\n",
       "      <th>141506</th>\n",
       "      <td>0</td>\n",
       "      <td>96</td>\n",
       "      <td>0</td>\n",
       "      <td>1.0</td>\n",
       "    </tr>\n",
       "    <tr>\n",
       "      <th>138938</th>\n",
       "      <td>0</td>\n",
       "      <td>98</td>\n",
       "      <td>0</td>\n",
       "      <td>25.0</td>\n",
       "    </tr>\n",
       "    <tr>\n",
       "      <th>145563</th>\n",
       "      <td>0</td>\n",
       "      <td>109</td>\n",
       "      <td>0</td>\n",
       "      <td>0.0</td>\n",
       "    </tr>\n",
       "    <tr>\n",
       "      <th>139171</th>\n",
       "      <td>0</td>\n",
       "      <td>111</td>\n",
       "      <td>0</td>\n",
       "      <td>1.0</td>\n",
       "    </tr>\n",
       "    <tr>\n",
       "      <th>139172</th>\n",
       "      <td>0</td>\n",
       "      <td>113</td>\n",
       "      <td>0</td>\n",
       "      <td>0.0</td>\n",
       "    </tr>\n",
       "    <tr>\n",
       "      <th>143886</th>\n",
       "      <td>0</td>\n",
       "      <td>115</td>\n",
       "      <td>0</td>\n",
       "      <td>0.0</td>\n",
       "    </tr>\n",
       "    <tr>\n",
       "      <th>141187</th>\n",
       "      <td>0</td>\n",
       "      <td>133</td>\n",
       "      <td>0</td>\n",
       "      <td>0.0</td>\n",
       "    </tr>\n",
       "    <tr>\n",
       "      <th>139173</th>\n",
       "      <td>0</td>\n",
       "      <td>136</td>\n",
       "      <td>0</td>\n",
       "      <td>0.0</td>\n",
       "    </tr>\n",
       "    <tr>\n",
       "      <th>139174</th>\n",
       "      <td>0</td>\n",
       "      <td>149</td>\n",
       "      <td>0</td>\n",
       "      <td>3.0</td>\n",
       "    </tr>\n",
       "  </tbody>\n",
       "</table>\n",
       "</div>"
      ],
      "text/plain": [
       "        shop_id  item_id  date_block_num  target\n",
       "139255        0       19               0     0.0\n",
       "141495        0       27               0     0.0\n",
       "144968        0       28               0     0.0\n",
       "142661        0       29               0     0.0\n",
       "138947        0       32               0     6.0\n",
       "138948        0       33               0     3.0\n",
       "138949        0       34               0     0.0\n",
       "139247        0       35               0     1.0\n",
       "142672        0       40               0     0.0\n",
       "142065        0       41               0     0.0\n",
       "139208        0       42               0     0.0\n",
       "142670        0       43               0     1.0\n",
       "139207        0       44               0     0.0\n",
       "138950        0       45               0     0.0\n",
       "143764        0       46               0     0.0\n",
       "141505        0       47               0     0.0\n",
       "139199        0       48               0     0.0\n",
       "138952        0       49               0     0.0\n",
       "139176        0       50               0     0.0\n",
       "138951        0       51               0     2.0\n",
       "139177        0       52               0     0.0\n",
       "139178        0       53               0     0.0\n",
       "139179        0       54               0     0.0\n",
       "143769        0       55               0     0.0\n",
       "142671        0       56               0     0.0\n",
       "144539        0       57               0     0.0\n",
       "139180        0       59               0     0.0\n",
       "138953        0       60               0     0.0\n",
       "144265        0       61               0     1.0\n",
       "141744        0       63               0     0.0\n",
       "139181        0       72               0     0.0\n",
       "144540        0       73               0     0.0\n",
       "139182        0       75               0     1.0\n",
       "145827        0       84               0     0.0\n",
       "138954        0       85               0     0.0\n",
       "144807        0       86               0     0.0\n",
       "139183        0       88               0     1.0\n",
       "139184        0       89               0     0.0\n",
       "139185        0       93               0     0.0\n",
       "143885        0       94               0     0.0\n",
       "141745        0       95               0     1.0\n",
       "141506        0       96               0     1.0\n",
       "138938        0       98               0    25.0\n",
       "145563        0      109               0     0.0\n",
       "139171        0      111               0     1.0\n",
       "139172        0      113               0     0.0\n",
       "143886        0      115               0     0.0\n",
       "141187        0      133               0     0.0\n",
       "139173        0      136               0     0.0\n",
       "139174        0      149               0     3.0"
      ]
     },
     "execution_count": 6,
     "metadata": {},
     "output_type": "execute_result"
    }
   ],
   "source": [
    "all_data.head(50)\n",
    "#all_data.shape"
   ]
  },
  {
   "cell_type": "code",
   "execution_count": 7,
   "id": "f96ae83f",
   "metadata": {
    "execution": {
     "iopub.execute_input": "2022-02-11T17:34:27.992720Z",
     "iopub.status.busy": "2022-02-11T17:34:27.991997Z",
     "iopub.status.idle": "2022-02-11T17:34:28.047179Z",
     "shell.execute_reply": "2022-02-11T17:34:28.046586Z",
     "shell.execute_reply.started": "2022-02-11T10:59:03.044234Z"
    },
    "papermill": {
     "duration": 0.09758,
     "end_time": "2022-02-11T17:34:28.047304",
     "exception": false,
     "start_time": "2022-02-11T17:34:27.949724",
     "status": "completed"
    },
    "tags": []
   },
   "outputs": [
    {
     "data": {
      "text/plain": [
       "21807"
      ]
     },
     "execution_count": 7,
     "metadata": {},
     "output_type": "execute_result"
    }
   ],
   "source": [
    "# No: of unique values in item_id\n",
    "all_data['item_id'].nunique()"
   ]
  },
  {
   "cell_type": "markdown",
   "id": "1096ba73",
   "metadata": {
    "papermill": {
     "duration": 0.024906,
     "end_time": "2022-02-11T17:34:28.097245",
     "exception": false,
     "start_time": "2022-02-11T17:34:28.072339",
     "status": "completed"
    },
    "tags": []
   },
   "source": [
    "# Mean encodings without regularization"
   ]
  },
  {
   "cell_type": "markdown",
   "id": "6113b543",
   "metadata": {
    "papermill": {
     "duration": 0.024341,
     "end_time": "2022-02-11T17:34:28.147001",
     "exception": false,
     "start_time": "2022-02-11T17:34:28.122660",
     "status": "completed"
    },
    "tags": []
   },
   "source": [
    "After we did the techinical work, we are ready to actually *mean encode* the desired `item_id` variable. \n",
    "\n",
    "Here are two ways to implement mean encoding features *without* any regularization. You can use this code as a starting point to implement regularized techniques. "
   ]
  },
  {
   "cell_type": "markdown",
   "id": "a4707b8a",
   "metadata": {
    "papermill": {
     "duration": 0.025455,
     "end_time": "2022-02-11T17:34:28.198168",
     "exception": false,
     "start_time": "2022-02-11T17:34:28.172713",
     "status": "completed"
    },
    "tags": []
   },
   "source": [
    "#### Method 1"
   ]
  },
  {
   "cell_type": "code",
   "execution_count": 8,
   "id": "1f76923e",
   "metadata": {
    "execution": {
     "iopub.execute_input": "2022-02-11T17:34:28.254464Z",
     "iopub.status.busy": "2022-02-11T17:34:28.253905Z",
     "iopub.status.idle": "2022-02-11T17:34:28.798338Z",
     "shell.execute_reply": "2022-02-11T17:34:28.797949Z",
     "shell.execute_reply.started": "2022-02-11T11:14:47.326571Z"
    },
    "papermill": {
     "duration": 0.575312,
     "end_time": "2022-02-11T17:34:28.798460",
     "exception": false,
     "start_time": "2022-02-11T17:34:28.223148",
     "status": "completed"
    },
    "scrolled": true,
    "tags": []
   },
   "outputs": [
    {
     "name": "stdout",
     "output_type": "stream",
     "text": [
      "0.4830386988621699\n"
     ]
    }
   ],
   "source": [
    "# Calculate a mapping: {item_id: target_mean}\n",
    "item_id_target_mean = all_data.groupby('item_id').target.mean()\n",
    "\n",
    "# In our non-regularized case we just *map* the computed means to the `item_id`'s\n",
    "all_data['item_target_enc'] = all_data['item_id'].map(item_id_target_mean)\n",
    "\n",
    "# Fill NaNs\n",
    "all_data['item_target_enc'].fillna(0.3343, inplace=True) \n",
    "\n",
    "# Print correlation\n",
    "encoded_feature = all_data['item_target_enc'].values\n",
    "print(np.corrcoef(all_data['target'].values, encoded_feature)[0][1])"
   ]
  },
  {
   "cell_type": "code",
   "execution_count": 9,
   "id": "4d199b25",
   "metadata": {
    "execution": {
     "iopub.execute_input": "2022-02-11T17:34:28.855695Z",
     "iopub.status.busy": "2022-02-11T17:34:28.855126Z",
     "iopub.status.idle": "2022-02-11T17:34:28.860237Z",
     "shell.execute_reply": "2022-02-11T17:34:28.860652Z",
     "shell.execute_reply.started": "2022-02-11T11:06:13.467058Z"
    },
    "papermill": {
     "duration": 0.037453,
     "end_time": "2022-02-11T17:34:28.860811",
     "exception": false,
     "start_time": "2022-02-11T17:34:28.823358",
     "status": "completed"
    },
    "tags": []
   },
   "outputs": [
    {
     "data": {
      "text/html": [
       "<div>\n",
       "<style scoped>\n",
       "    .dataframe tbody tr th:only-of-type {\n",
       "        vertical-align: middle;\n",
       "    }\n",
       "\n",
       "    .dataframe tbody tr th {\n",
       "        vertical-align: top;\n",
       "    }\n",
       "\n",
       "    .dataframe thead th {\n",
       "        text-align: right;\n",
       "    }\n",
       "</style>\n",
       "<table border=\"1\" class=\"dataframe\">\n",
       "  <thead>\n",
       "    <tr style=\"text-align: right;\">\n",
       "      <th></th>\n",
       "      <th>shop_id</th>\n",
       "      <th>item_id</th>\n",
       "      <th>date_block_num</th>\n",
       "      <th>target</th>\n",
       "      <th>item_target_enc</th>\n",
       "    </tr>\n",
       "  </thead>\n",
       "  <tbody>\n",
       "    <tr>\n",
       "      <th>139255</th>\n",
       "      <td>0</td>\n",
       "      <td>19</td>\n",
       "      <td>0</td>\n",
       "      <td>0.0</td>\n",
       "      <td>0.022222</td>\n",
       "    </tr>\n",
       "    <tr>\n",
       "      <th>141495</th>\n",
       "      <td>0</td>\n",
       "      <td>27</td>\n",
       "      <td>0</td>\n",
       "      <td>0.0</td>\n",
       "      <td>0.056834</td>\n",
       "    </tr>\n",
       "    <tr>\n",
       "      <th>144968</th>\n",
       "      <td>0</td>\n",
       "      <td>28</td>\n",
       "      <td>0</td>\n",
       "      <td>0.0</td>\n",
       "      <td>0.141176</td>\n",
       "    </tr>\n",
       "    <tr>\n",
       "      <th>142661</th>\n",
       "      <td>0</td>\n",
       "      <td>29</td>\n",
       "      <td>0</td>\n",
       "      <td>0.0</td>\n",
       "      <td>0.037383</td>\n",
       "    </tr>\n",
       "    <tr>\n",
       "      <th>138947</th>\n",
       "      <td>0</td>\n",
       "      <td>32</td>\n",
       "      <td>0</td>\n",
       "      <td>6.0</td>\n",
       "      <td>1.319042</td>\n",
       "    </tr>\n",
       "  </tbody>\n",
       "</table>\n",
       "</div>"
      ],
      "text/plain": [
       "        shop_id  item_id  date_block_num  target  item_target_enc\n",
       "139255        0       19               0     0.0         0.022222\n",
       "141495        0       27               0     0.0         0.056834\n",
       "144968        0       28               0     0.0         0.141176\n",
       "142661        0       29               0     0.0         0.037383\n",
       "138947        0       32               0     6.0         1.319042"
      ]
     },
     "execution_count": 9,
     "metadata": {},
     "output_type": "execute_result"
    }
   ],
   "source": [
    "all_data.head()"
   ]
  },
  {
   "cell_type": "markdown",
   "id": "adaf6c3a",
   "metadata": {
    "papermill": {
     "duration": 0.025538,
     "end_time": "2022-02-11T17:34:28.912188",
     "exception": false,
     "start_time": "2022-02-11T17:34:28.886650",
     "status": "completed"
    },
    "tags": []
   },
   "source": [
    "#### Method 2"
   ]
  },
  {
   "cell_type": "code",
   "execution_count": 10,
   "id": "1ae60db9",
   "metadata": {
    "execution": {
     "iopub.execute_input": "2022-02-11T17:34:28.969978Z",
     "iopub.status.busy": "2022-02-11T17:34:28.969212Z",
     "iopub.status.idle": "2022-02-11T17:34:29.439973Z",
     "shell.execute_reply": "2022-02-11T17:34:29.439444Z",
     "shell.execute_reply.started": "2022-02-11T11:15:42.880251Z"
    },
    "papermill": {
     "duration": 0.502762,
     "end_time": "2022-02-11T17:34:29.440398",
     "exception": false,
     "start_time": "2022-02-11T17:34:28.937636",
     "status": "completed"
    },
    "tags": []
   },
   "outputs": [
    {
     "name": "stdout",
     "output_type": "stream",
     "text": [
      "0.4830386988621699\n"
     ]
    }
   ],
   "source": [
    "'''\n",
    "     Differently to `.target.mean()` function `transform` \n",
    "   will return a dataframe with an index like in `all_data`.\n",
    "   Basically this single line of code is equivalent to the first two lines from of Method 1.\n",
    "'''\n",
    "all_data['item_target_enc'] = all_data.groupby('item_id')['target'].transform('mean')\n",
    "\n",
    "# Fill NaNs\n",
    "all_data['item_target_enc'].fillna(0.3343, inplace=True) \n",
    "\n",
    "# Print correlation\n",
    "encoded_feature = all_data['item_target_enc'].values\n",
    "print(np.corrcoef(all_data['target'].values, encoded_feature)[0][1])"
   ]
  },
  {
   "cell_type": "markdown",
   "id": "e37ee5a9",
   "metadata": {
    "papermill": {
     "duration": 0.03127,
     "end_time": "2022-02-11T17:34:29.498648",
     "exception": false,
     "start_time": "2022-02-11T17:34:29.467378",
     "status": "completed"
    },
    "tags": []
   },
   "source": [
    "See the printed value? It is the correlation coefficient between the target variable and your new encoded feature. You need to **compute correlation coefficient** between the encodings."
   ]
  },
  {
   "cell_type": "markdown",
   "id": "2af744f3",
   "metadata": {
    "papermill": {
     "duration": 0.025883,
     "end_time": "2022-02-11T17:34:29.555295",
     "exception": false,
     "start_time": "2022-02-11T17:34:29.529412",
     "status": "completed"
    },
    "tags": []
   },
   "source": [
    "# 1. KFold scheme"
   ]
  },
  {
   "cell_type": "markdown",
   "id": "275807c0",
   "metadata": {
    "papermill": {
     "duration": 0.025654,
     "end_time": "2022-02-11T17:34:29.606169",
     "exception": false,
     "start_time": "2022-02-11T17:34:29.580515",
     "status": "completed"
    },
    "tags": []
   },
   "source": [
    "**Now it's your turn to write the code!** \n",
    "\n",
    "You may use 'Regularization' video as a reference for all further tasks.\n",
    "\n",
    "First, implement KFold scheme with five folds. Use KFold(5) from sklearn.model_selection. \n",
    "\n",
    "1. Split your data in 5 folds with `sklearn.model_selection.KFold` with `shuffle=False` argument.\n",
    "2. Iterate through folds: use all but the current fold to calculate mean target for each level `item_id`, and  fill the current fold.\n",
    "\n",
    "    *  See the **Method 1** from the example implementation. In particular learn what `map` and pd.Series.map functions do. They are pretty handy in many situations."
   ]
  },
  {
   "cell_type": "code",
   "execution_count": 11,
   "id": "43f5bcee",
   "metadata": {
    "execution": {
     "iopub.execute_input": "2022-02-11T17:34:29.659998Z",
     "iopub.status.busy": "2022-02-11T17:34:29.659440Z",
     "iopub.status.idle": "2022-02-11T17:34:35.534355Z",
     "shell.execute_reply": "2022-02-11T17:34:35.535024Z",
     "shell.execute_reply.started": "2022-02-11T11:18:04.707993Z"
    },
    "papermill": {
     "duration": 5.904264,
     "end_time": "2022-02-11T17:34:35.535196",
     "exception": false,
     "start_time": "2022-02-11T17:34:29.630932",
     "status": "completed"
    },
    "tags": []
   },
   "outputs": [
    {
     "name": "stderr",
     "output_type": "stream",
     "text": [
      "/opt/conda/lib/python3.7/site-packages/ipykernel_launcher.py:11: SettingWithCopyWarning: \n",
      "A value is trying to be set on a copy of a slice from a DataFrame.\n",
      "Try using .loc[row_indexer,col_indexer] = value instead\n",
      "\n",
      "See the caveats in the documentation: https://pandas.pydata.org/pandas-docs/stable/user_guide/indexing.html#returning-a-view-versus-a-copy\n",
      "  # This is added back by InteractiveShellApp.init_path()\n"
     ]
    },
    {
     "name": "stdout",
     "output_type": "stream",
     "text": [
      "0.4164590712798811\n"
     ]
    }
   ],
   "source": [
    "# YOUR CODE GOES HERE\n",
    "from sklearn.model_selection import KFold\n",
    "\n",
    "kf = KFold(n_splits=5, shuffle=False)\n",
    "\n",
    "for index_train, index_valid in kf.split(all_data):\n",
    "    X_tr, X_val = all_data.iloc[index_train], all_data.iloc[index_valid]\n",
    "    \n",
    "    # target coding of valid dataset depends on train dataset\n",
    "    X_tr_group = X_tr.groupby('item_id')['target'] \n",
    "    X_val['item_target_enc'] = X_val['item_id'].map(X_tr_group.mean())\n",
    "    \n",
    "    # copy target encoding back to all_data\n",
    "    all_data.iloc[index_valid] = X_val\n",
    "    \n",
    "\n",
    "all_data['item_target_enc'].fillna(0.3343, inplace=True) \n",
    "encoded_feature = all_data['item_target_enc'].values\n",
    "    \n",
    "\n",
    "# You will need to compute correlation like that\n",
    "corr = np.corrcoef(all_data['target'].values, encoded_feature)[0][1]\n",
    "print(corr)\n"
   ]
  },
  {
   "cell_type": "markdown",
   "id": "b70618e5",
   "metadata": {
    "papermill": {
     "duration": 0.02649,
     "end_time": "2022-02-11T17:34:35.588517",
     "exception": false,
     "start_time": "2022-02-11T17:34:35.562027",
     "status": "completed"
    },
    "tags": []
   },
   "source": [
    "# 2. Leave-one-out scheme"
   ]
  },
  {
   "cell_type": "markdown",
   "id": "e1cfeb36",
   "metadata": {
    "papermill": {
     "duration": 0.02612,
     "end_time": "2022-02-11T17:34:35.640831",
     "exception": false,
     "start_time": "2022-02-11T17:34:35.614711",
     "status": "completed"
    },
    "tags": []
   },
   "source": [
    "Now, implement leave-one-out scheme. Note that if you just simply set the number of folds to the number of samples and run the code from the **KFold scheme**, you will probably wait for a very long time. \n",
    "\n",
    "To implement a faster version, note, that to calculate mean target value using all the objects but one *given object*, you can:\n",
    "\n",
    "1. Calculate sum of the target values using all the objects.\n",
    "2. Then subtract the target of the *given object* and divide the resulting value by `n_objects - 1`. \n",
    "\n",
    "Note that you do not need to perform `1.` for every object. And `2.` can be implemented without any `for` loop.\n",
    "\n",
    "It is the most convenient to use `.transform` function as in **Method 2**."
   ]
  },
  {
   "cell_type": "code",
   "execution_count": 12,
   "id": "0433f7be",
   "metadata": {
    "execution": {
     "iopub.execute_input": "2022-02-11T17:34:35.696581Z",
     "iopub.status.busy": "2022-02-11T17:34:35.695972Z",
     "iopub.status.idle": "2022-02-11T17:34:36.521729Z",
     "shell.execute_reply": "2022-02-11T17:34:36.521133Z",
     "shell.execute_reply.started": "2022-02-11T11:19:32.213077Z"
    },
    "papermill": {
     "duration": 0.854573,
     "end_time": "2022-02-11T17:34:36.521897",
     "exception": false,
     "start_time": "2022-02-11T17:34:35.667324",
     "status": "completed"
    },
    "tags": []
   },
   "outputs": [
    {
     "name": "stdout",
     "output_type": "stream",
     "text": [
      "0.4803848311293002\n",
      "CPU times: user 743 ms, sys: 181 ms, total: 925 ms\n",
      "Wall time: 815 ms\n"
     ]
    }
   ],
   "source": [
    "%%time\n",
    "# YOUR CODE GOES HERE\n",
    "\n",
    "# Calculate sum of the target values using all the objects.\n",
    "target_sum = all_data.groupby('item_id')['target'].transform('sum')\n",
    "\n",
    "# Then subtract the target of the given object and divide the resulting value by n_objects - 1.\n",
    "n_objects = all_data.groupby('item_id')['target'].transform('count')\n",
    "\n",
    "all_data['item_target_enc'] = (target_sum - all_data['target']) / (n_objects - 1)\n",
    "all_data['item_target_enc'].fillna(0.3343, inplace=True)\n",
    "encoded_feature = all_data['item_target_enc'].values\n",
    "\n",
    "\n",
    "corr = np.corrcoef(all_data['target'].values, encoded_feature)[0][1]\n",
    "print(corr)\n"
   ]
  },
  {
   "cell_type": "markdown",
   "id": "9e392969",
   "metadata": {
    "papermill": {
     "duration": 0.027312,
     "end_time": "2022-02-11T17:34:36.577216",
     "exception": false,
     "start_time": "2022-02-11T17:34:36.549904",
     "status": "completed"
    },
    "tags": []
   },
   "source": [
    "# 3. Smoothing"
   ]
  },
  {
   "cell_type": "markdown",
   "id": "7462a812",
   "metadata": {
    "papermill": {
     "duration": 0.02759,
     "end_time": "2022-02-11T17:34:36.632307",
     "exception": false,
     "start_time": "2022-02-11T17:34:36.604717",
     "status": "completed"
    },
    "tags": []
   },
   "source": [
    "Explained starting at 4:03 of [Regularization video](https://www.coursera.org/learn/competitive-data-science/lecture/LGYQ2/regularization)."
   ]
  },
  {
   "cell_type": "markdown",
   "id": "d273e745",
   "metadata": {
    "papermill": {
     "duration": 0.027488,
     "end_time": "2022-02-11T17:34:36.688075",
     "exception": false,
     "start_time": "2022-02-11T17:34:36.660587",
     "status": "completed"
    },
    "tags": []
   },
   "source": [
    "Next, implement smoothing scheme with $\\alpha = 100$. Use the formula from the first slide in the video and $0.3343$ as `globalmean`. Note that `nrows` is the number of objects that belong to a certain category (not the number of rows in the dataset)."
   ]
  },
  {
   "cell_type": "code",
   "execution_count": 13,
   "id": "ec9fe6e5",
   "metadata": {
    "execution": {
     "iopub.execute_input": "2022-02-11T17:34:36.751741Z",
     "iopub.status.busy": "2022-02-11T17:34:36.750973Z",
     "iopub.status.idle": "2022-02-11T17:34:37.621271Z",
     "shell.execute_reply": "2022-02-11T17:34:37.620243Z",
     "shell.execute_reply.started": "2022-02-11T11:19:51.921375Z"
    },
    "papermill": {
     "duration": 0.90402,
     "end_time": "2022-02-11T17:34:37.621435",
     "exception": false,
     "start_time": "2022-02-11T17:34:36.717415",
     "status": "completed"
    },
    "tags": []
   },
   "outputs": [
    {
     "name": "stdout",
     "output_type": "stream",
     "text": [
      "0.4818198797097264\n",
      "CPU times: user 825 ms, sys: 191 ms, total: 1.02 s\n",
      "Wall time: 864 ms\n"
     ]
    }
   ],
   "source": [
    "%%time\n",
    "\n",
    "# YOUR CODE GOES HERE\n",
    "alpha = 100\n",
    "\n",
    "item_id_target_mean = all_data.groupby('item_id')['target'].transform('mean')\n",
    "n_objects = all_data.groupby('item_id')['target'].transform('count')\n",
    "\n",
    "all_data['item_target_enc'] = (item_id_target_mean * n_objects + 0.3343*alpha) / (n_objects + alpha)\n",
    "\n",
    "all_data['item_target_enc'].fillna(0.3343, inplace=True) \n",
    "encoded_feature = all_data['item_target_enc'].values\n",
    "\n",
    "\n",
    "corr = np.corrcoef(all_data['target'].values, encoded_feature)[0][1]\n",
    "print(corr)"
   ]
  },
  {
   "cell_type": "markdown",
   "id": "8d28e326",
   "metadata": {
    "papermill": {
     "duration": 0.03173,
     "end_time": "2022-02-11T17:34:37.684128",
     "exception": false,
     "start_time": "2022-02-11T17:34:37.652398",
     "status": "completed"
    },
    "tags": []
   },
   "source": [
    "# 4. Expanding mean scheme"
   ]
  },
  {
   "cell_type": "markdown",
   "id": "286c4395",
   "metadata": {
    "papermill": {
     "duration": 0.033469,
     "end_time": "2022-02-11T17:34:37.748906",
     "exception": false,
     "start_time": "2022-02-11T17:34:37.715437",
     "status": "completed"
    },
    "tags": []
   },
   "source": [
    "Explained starting at 5:50 of [Regularization video](https://www.coursera.org/learn/competitive-data-science/lecture/LGYQ2/regularization)."
   ]
  },
  {
   "cell_type": "markdown",
   "id": "438aa8f5",
   "metadata": {
    "papermill": {
     "duration": 0.0305,
     "end_time": "2022-02-11T17:34:37.811213",
     "exception": false,
     "start_time": "2022-02-11T17:34:37.780713",
     "status": "completed"
    },
    "tags": []
   },
   "source": [
    "Finally, implement the *expanding mean* scheme. It is basically already implemented for you in the video, but you can challenge yourself and try to implement it yourself. You will need [`cumsum`](https://pandas.pydata.org/pandas-docs/stable/generated/pandas.core.groupby.DataFrameGroupBy.cumsum.html) and [`cumcount`](https://pandas.pydata.org/pandas-docs/stable/generated/pandas.core.groupby.GroupBy.cumcount.html) functions from pandas."
   ]
  },
  {
   "cell_type": "code",
   "execution_count": 14,
   "id": "7c9274bb",
   "metadata": {
    "execution": {
     "iopub.execute_input": "2022-02-11T17:34:37.881579Z",
     "iopub.status.busy": "2022-02-11T17:34:37.880404Z",
     "iopub.status.idle": "2022-02-11T17:34:39.136717Z",
     "shell.execute_reply": "2022-02-11T17:34:39.134952Z",
     "shell.execute_reply.started": "2022-02-11T11:20:02.682381Z"
    },
    "papermill": {
     "duration": 1.293774,
     "end_time": "2022-02-11T17:34:39.136896",
     "exception": false,
     "start_time": "2022-02-11T17:34:37.843122",
     "status": "completed"
    },
    "tags": []
   },
   "outputs": [
    {
     "name": "stdout",
     "output_type": "stream",
     "text": [
      "0.5025245211081697\n"
     ]
    }
   ],
   "source": [
    "# YOUR CODE GOES HERE\n",
    "cumsum = all_data.groupby('item_id')['target'].cumsum() - all_data['target']\n",
    "cumcnt = all_data.groupby('item_id').cumcount()\n",
    "\n",
    "all_data['item_target_enc'] = cumsum / cumcnt\n",
    "all_data['item_target_enc'].fillna(0.3343, inplace=True) \n",
    "encoded_feature = all_data['item_target_enc'].values\n",
    "\n",
    "corr = np.corrcoef(all_data['target'].values, encoded_feature)[0][1]\n",
    "print(corr)"
   ]
  }
 ],
 "metadata": {
  "kernelspec": {
   "display_name": "Python 3",
   "language": "python",
   "name": "python3"
  },
  "language_info": {
   "codemirror_mode": {
    "name": "ipython",
    "version": 3
   },
   "file_extension": ".py",
   "mimetype": "text/x-python",
   "name": "python",
   "nbconvert_exporter": "python",
   "pygments_lexer": "ipython3",
   "version": "3.7.12"
  },
  "papermill": {
   "default_parameters": {},
   "duration": 44.283956,
   "end_time": "2022-02-11T17:34:39.975402",
   "environment_variables": {},
   "exception": null,
   "input_path": "__notebook__.ipynb",
   "output_path": "__notebook__.ipynb",
   "parameters": {},
   "start_time": "2022-02-11T17:33:55.691446",
   "version": "2.3.3"
  }
 },
 "nbformat": 4,
 "nbformat_minor": 5
}
