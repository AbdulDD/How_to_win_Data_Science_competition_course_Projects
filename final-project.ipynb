{
 "cells": [
  {
   "cell_type": "markdown",
   "id": "fe50b965",
   "metadata": {
    "papermill": {
     "duration": 0.022145,
     "end_time": "2022-03-16T06:08:41.008992",
     "exception": false,
     "start_time": "2022-03-16T06:08:40.986847",
     "status": "completed"
    },
    "tags": []
   },
   "source": [
    "# Goal:\n",
    "1. The task is to forecast the sales for every item in every shop in the testing period.\n",
    "2. To apply different strategies and learn."
   ]
  },
  {
   "cell_type": "code",
   "execution_count": 1,
   "id": "4334165a",
   "metadata": {
    "execution": {
     "iopub.execute_input": "2022-03-16T06:08:41.064654Z",
     "iopub.status.busy": "2022-03-16T06:08:41.064039Z",
     "iopub.status.idle": "2022-03-16T06:08:42.000677Z",
     "shell.execute_reply": "2022-03-16T06:08:41.999929Z",
     "shell.execute_reply.started": "2022-03-16T05:59:01.903426Z"
    },
    "papermill": {
     "duration": 0.969445,
     "end_time": "2022-03-16T06:08:42.000848",
     "exception": false,
     "start_time": "2022-03-16T06:08:41.031403",
     "status": "completed"
    },
    "tags": []
   },
   "outputs": [],
   "source": [
    "# Importing required libraries\n",
    "import pandas as pd\n",
    "\n",
    "# Visualization libraries\n",
    "import matplotlib.pyplot as plt\n",
    "import seaborn as sns\n",
    "\n",
    "import datetime as dt"
   ]
  },
  {
   "cell_type": "code",
   "execution_count": 2,
   "id": "8b228cc9",
   "metadata": {
    "execution": {
     "iopub.execute_input": "2022-03-16T06:08:42.048472Z",
     "iopub.status.busy": "2022-03-16T06:08:42.047601Z",
     "iopub.status.idle": "2022-03-16T06:08:42.056717Z",
     "shell.execute_reply": "2022-03-16T06:08:42.057302Z",
     "shell.execute_reply.started": "2022-03-16T05:59:08.828401Z"
    },
    "papermill": {
     "duration": 0.035187,
     "end_time": "2022-03-16T06:08:42.057471",
     "exception": false,
     "start_time": "2022-03-16T06:08:42.022284",
     "status": "completed"
    },
    "tags": []
   },
   "outputs": [],
   "source": [
    "# Import customized py library\n",
    "import customized_py_library as Cus_Lib"
   ]
  },
  {
   "cell_type": "code",
   "execution_count": 3,
   "id": "870e8d72",
   "metadata": {
    "execution": {
     "iopub.execute_input": "2022-03-16T06:08:42.103331Z",
     "iopub.status.busy": "2022-03-16T06:08:42.102698Z",
     "iopub.status.idle": "2022-03-16T06:08:44.814135Z",
     "shell.execute_reply": "2022-03-16T06:08:44.813425Z",
     "shell.execute_reply.started": "2022-03-16T05:59:12.182471Z"
    },
    "papermill": {
     "duration": 2.735215,
     "end_time": "2022-03-16T06:08:44.814277",
     "exception": false,
     "start_time": "2022-03-16T06:08:42.079062",
     "status": "completed"
    },
    "tags": []
   },
   "outputs": [],
   "source": [
    "# Loading Data\n",
    "Train_Data = pd.read_csv(\"../input/competitive-data-science-predict-future-sales/sales_train.csv\")\n",
    "Test_Data = pd.read_csv(\"../input/competitive-data-science-predict-future-sales/test.csv\")\n",
    "sample_sub = pd.read_csv(\"../input/competitive-data-science-predict-future-sales/sample_submission.csv\")"
   ]
  },
  {
   "cell_type": "markdown",
   "id": "9256a24c",
   "metadata": {
    "papermill": {
     "duration": 0.021015,
     "end_time": "2022-03-16T06:08:44.857758",
     "exception": false,
     "start_time": "2022-03-16T06:08:44.836743",
     "status": "completed"
    },
    "tags": []
   },
   "source": [
    "# Understanding Data"
   ]
  },
  {
   "cell_type": "code",
   "execution_count": 4,
   "id": "a0776735",
   "metadata": {
    "execution": {
     "iopub.execute_input": "2022-03-16T06:08:44.909551Z",
     "iopub.status.busy": "2022-03-16T06:08:44.908869Z",
     "iopub.status.idle": "2022-03-16T06:08:44.919650Z",
     "shell.execute_reply": "2022-03-16T06:08:44.920159Z",
     "shell.execute_reply.started": "2022-03-15T18:22:28.342602Z"
    },
    "jupyter": {
     "source_hidden": true
    },
    "papermill": {
     "duration": 0.041268,
     "end_time": "2022-03-16T06:08:44.920319",
     "exception": false,
     "start_time": "2022-03-16T06:08:44.879051",
     "status": "completed"
    },
    "tags": []
   },
   "outputs": [
    {
     "data": {
      "text/html": [
       "<div>\n",
       "<style scoped>\n",
       "    .dataframe tbody tr th:only-of-type {\n",
       "        vertical-align: middle;\n",
       "    }\n",
       "\n",
       "    .dataframe tbody tr th {\n",
       "        vertical-align: top;\n",
       "    }\n",
       "\n",
       "    .dataframe thead th {\n",
       "        text-align: right;\n",
       "    }\n",
       "</style>\n",
       "<table border=\"1\" class=\"dataframe\">\n",
       "  <thead>\n",
       "    <tr style=\"text-align: right;\">\n",
       "      <th></th>\n",
       "      <th>ID</th>\n",
       "      <th>item_cnt_month</th>\n",
       "    </tr>\n",
       "  </thead>\n",
       "  <tbody>\n",
       "    <tr>\n",
       "      <th>0</th>\n",
       "      <td>0</td>\n",
       "      <td>0.5</td>\n",
       "    </tr>\n",
       "    <tr>\n",
       "      <th>1</th>\n",
       "      <td>1</td>\n",
       "      <td>0.5</td>\n",
       "    </tr>\n",
       "    <tr>\n",
       "      <th>2</th>\n",
       "      <td>2</td>\n",
       "      <td>0.5</td>\n",
       "    </tr>\n",
       "    <tr>\n",
       "      <th>3</th>\n",
       "      <td>3</td>\n",
       "      <td>0.5</td>\n",
       "    </tr>\n",
       "    <tr>\n",
       "      <th>4</th>\n",
       "      <td>4</td>\n",
       "      <td>0.5</td>\n",
       "    </tr>\n",
       "  </tbody>\n",
       "</table>\n",
       "</div>"
      ],
      "text/plain": [
       "   ID  item_cnt_month\n",
       "0   0             0.5\n",
       "1   1             0.5\n",
       "2   2             0.5\n",
       "3   3             0.5\n",
       "4   4             0.5"
      ]
     },
     "execution_count": 4,
     "metadata": {},
     "output_type": "execute_result"
    }
   ],
   "source": [
    "sample_sub.head()"
   ]
  },
  {
   "cell_type": "code",
   "execution_count": 5,
   "id": "ffe28e0d",
   "metadata": {
    "execution": {
     "iopub.execute_input": "2022-03-16T06:08:44.969391Z",
     "iopub.status.busy": "2022-03-16T06:08:44.968738Z",
     "iopub.status.idle": "2022-03-16T06:08:44.972747Z",
     "shell.execute_reply": "2022-03-16T06:08:44.972276Z",
     "shell.execute_reply.started": "2022-03-16T05:56:11.287224Z"
    },
    "papermill": {
     "duration": 0.030481,
     "end_time": "2022-03-16T06:08:44.972879",
     "exception": false,
     "start_time": "2022-03-16T06:08:44.942398",
     "status": "completed"
    },
    "tags": []
   },
   "outputs": [
    {
     "data": {
      "text/plain": [
       "((2935849, 6), (214200, 3))"
      ]
     },
     "execution_count": 5,
     "metadata": {},
     "output_type": "execute_result"
    }
   ],
   "source": [
    "# Understanding Train Data\n",
    "# Shape of Data\n",
    "Train_Data.shape, Test_Data.shape\n",
    "\n",
    "# Info of Data\n",
    "#Train_Data.info(), Test_Data.info()\n",
    "\n",
    "# Print the Data\n",
    "#Train_Data.head()\n",
    "#Test_Data.head()"
   ]
  },
  {
   "cell_type": "markdown",
   "id": "9f57e77f",
   "metadata": {
    "papermill": {
     "duration": 0.021626,
     "end_time": "2022-03-16T06:08:45.016672",
     "exception": false,
     "start_time": "2022-03-16T06:08:44.995046",
     "status": "completed"
    },
    "tags": []
   },
   "source": [
    "**Exploring the Train Dataset**"
   ]
  },
  {
   "cell_type": "code",
   "execution_count": 6,
   "id": "98ee6cfe",
   "metadata": {
    "execution": {
     "iopub.execute_input": "2022-03-16T06:08:45.071265Z",
     "iopub.status.busy": "2022-03-16T06:08:45.070633Z",
     "iopub.status.idle": "2022-03-16T06:08:45.116901Z",
     "shell.execute_reply": "2022-03-16T06:08:45.116341Z",
     "shell.execute_reply.started": "2022-03-16T05:56:16.300155Z"
    },
    "papermill": {
     "duration": 0.0765,
     "end_time": "2022-03-16T06:08:45.117034",
     "exception": false,
     "start_time": "2022-03-16T06:08:45.040534",
     "status": "completed"
    },
    "tags": []
   },
   "outputs": [
    {
     "data": {
      "text/plain": [
       "(60, 21807)"
      ]
     },
     "execution_count": 6,
     "metadata": {},
     "output_type": "execute_result"
    }
   ],
   "source": [
    "# Unique no. of IDs\n",
    "Train_Data['shop_id'].nunique(), Train_Data['item_id'].nunique()"
   ]
  },
  {
   "cell_type": "code",
   "execution_count": 7,
   "id": "12d993c4",
   "metadata": {
    "execution": {
     "iopub.execute_input": "2022-03-16T06:08:45.337171Z",
     "iopub.status.busy": "2022-03-16T06:08:45.336523Z",
     "iopub.status.idle": "2022-03-16T06:08:47.069820Z",
     "shell.execute_reply": "2022-03-16T06:08:47.070336Z",
     "shell.execute_reply.started": "2022-03-16T05:59:21.899456Z"
    },
    "papermill": {
     "duration": 1.931037,
     "end_time": "2022-03-16T06:08:47.070503",
     "exception": false,
     "start_time": "2022-03-16T06:08:45.139466",
     "status": "completed"
    },
    "tags": []
   },
   "outputs": [
    {
     "data": {
      "text/html": [
       "<div>\n",
       "<style scoped>\n",
       "    .dataframe tbody tr th:only-of-type {\n",
       "        vertical-align: middle;\n",
       "    }\n",
       "\n",
       "    .dataframe tbody tr th {\n",
       "        vertical-align: top;\n",
       "    }\n",
       "\n",
       "    .dataframe thead th {\n",
       "        text-align: right;\n",
       "    }\n",
       "</style>\n",
       "<table border=\"1\" class=\"dataframe\">\n",
       "  <thead>\n",
       "    <tr style=\"text-align: right;\">\n",
       "      <th></th>\n",
       "      <th>date_block_num</th>\n",
       "      <th>shop_id</th>\n",
       "      <th>item_id</th>\n",
       "      <th>item_price</th>\n",
       "      <th>item_cnt_day</th>\n",
       "      <th>day</th>\n",
       "      <th>month</th>\n",
       "      <th>year</th>\n",
       "    </tr>\n",
       "  </thead>\n",
       "  <tbody>\n",
       "    <tr>\n",
       "      <th>49800</th>\n",
       "      <td>0</td>\n",
       "      <td>18</td>\n",
       "      <td>5823</td>\n",
       "      <td>2500.0</td>\n",
       "      <td>1.0</td>\n",
       "      <td>1</td>\n",
       "      <td>1</td>\n",
       "      <td>2013</td>\n",
       "    </tr>\n",
       "    <tr>\n",
       "      <th>29784</th>\n",
       "      <td>0</td>\n",
       "      <td>27</td>\n",
       "      <td>5573</td>\n",
       "      <td>849.0</td>\n",
       "      <td>1.0</td>\n",
       "      <td>1</td>\n",
       "      <td>1</td>\n",
       "      <td>2013</td>\n",
       "    </tr>\n",
       "    <tr>\n",
       "      <th>35476</th>\n",
       "      <td>0</td>\n",
       "      <td>7</td>\n",
       "      <td>1006</td>\n",
       "      <td>399.0</td>\n",
       "      <td>1.0</td>\n",
       "      <td>1</td>\n",
       "      <td>1</td>\n",
       "      <td>2013</td>\n",
       "    </tr>\n",
       "    <tr>\n",
       "      <th>8330</th>\n",
       "      <td>0</td>\n",
       "      <td>19</td>\n",
       "      <td>17707</td>\n",
       "      <td>899.0</td>\n",
       "      <td>1.0</td>\n",
       "      <td>1</td>\n",
       "      <td>1</td>\n",
       "      <td>2013</td>\n",
       "    </tr>\n",
       "    <tr>\n",
       "      <th>57384</th>\n",
       "      <td>0</td>\n",
       "      <td>14</td>\n",
       "      <td>19548</td>\n",
       "      <td>149.0</td>\n",
       "      <td>1.0</td>\n",
       "      <td>1</td>\n",
       "      <td>1</td>\n",
       "      <td>2013</td>\n",
       "    </tr>\n",
       "    <tr>\n",
       "      <th>...</th>\n",
       "      <td>...</td>\n",
       "      <td>...</td>\n",
       "      <td>...</td>\n",
       "      <td>...</td>\n",
       "      <td>...</td>\n",
       "      <td>...</td>\n",
       "      <td>...</td>\n",
       "      <td>...</td>\n",
       "    </tr>\n",
       "    <tr>\n",
       "      <th>2885098</th>\n",
       "      <td>33</td>\n",
       "      <td>41</td>\n",
       "      <td>21386</td>\n",
       "      <td>169.0</td>\n",
       "      <td>1.0</td>\n",
       "      <td>31</td>\n",
       "      <td>10</td>\n",
       "      <td>2015</td>\n",
       "    </tr>\n",
       "    <tr>\n",
       "      <th>2930981</th>\n",
       "      <td>33</td>\n",
       "      <td>21</td>\n",
       "      <td>988</td>\n",
       "      <td>199.0</td>\n",
       "      <td>1.0</td>\n",
       "      <td>31</td>\n",
       "      <td>10</td>\n",
       "      <td>2015</td>\n",
       "    </tr>\n",
       "    <tr>\n",
       "      <th>2885097</th>\n",
       "      <td>33</td>\n",
       "      <td>41</td>\n",
       "      <td>21377</td>\n",
       "      <td>169.0</td>\n",
       "      <td>1.0</td>\n",
       "      <td>31</td>\n",
       "      <td>10</td>\n",
       "      <td>2015</td>\n",
       "    </tr>\n",
       "    <tr>\n",
       "      <th>2930993</th>\n",
       "      <td>33</td>\n",
       "      <td>22</td>\n",
       "      <td>10207</td>\n",
       "      <td>1199.0</td>\n",
       "      <td>1.0</td>\n",
       "      <td>31</td>\n",
       "      <td>10</td>\n",
       "      <td>2015</td>\n",
       "    </tr>\n",
       "    <tr>\n",
       "      <th>2928850</th>\n",
       "      <td>33</td>\n",
       "      <td>24</td>\n",
       "      <td>3042</td>\n",
       "      <td>3199.0</td>\n",
       "      <td>1.0</td>\n",
       "      <td>31</td>\n",
       "      <td>10</td>\n",
       "      <td>2015</td>\n",
       "    </tr>\n",
       "  </tbody>\n",
       "</table>\n",
       "<p>2935849 rows × 8 columns</p>\n",
       "</div>"
      ],
      "text/plain": [
       "         date_block_num  shop_id  item_id  item_price  item_cnt_day  day  \\\n",
       "49800                 0       18     5823      2500.0           1.0    1   \n",
       "29784                 0       27     5573       849.0           1.0    1   \n",
       "35476                 0        7     1006       399.0           1.0    1   \n",
       "8330                  0       19    17707       899.0           1.0    1   \n",
       "57384                 0       14    19548       149.0           1.0    1   \n",
       "...                 ...      ...      ...         ...           ...  ...   \n",
       "2885098              33       41    21386       169.0           1.0   31   \n",
       "2930981              33       21      988       199.0           1.0   31   \n",
       "2885097              33       41    21377       169.0           1.0   31   \n",
       "2930993              33       22    10207      1199.0           1.0   31   \n",
       "2928850              33       24     3042      3199.0           1.0   31   \n",
       "\n",
       "         month  year  \n",
       "49800        1  2013  \n",
       "29784        1  2013  \n",
       "35476        1  2013  \n",
       "8330         1  2013  \n",
       "57384        1  2013  \n",
       "...        ...   ...  \n",
       "2885098     10  2015  \n",
       "2930981     10  2015  \n",
       "2885097     10  2015  \n",
       "2930993     10  2015  \n",
       "2928850     10  2015  \n",
       "\n",
       "[2935849 rows x 8 columns]"
      ]
     },
     "execution_count": 7,
     "metadata": {},
     "output_type": "execute_result"
    }
   ],
   "source": [
    "# Datetime setting\n",
    "Cus_Lib.Datetimeset(Train_Data)"
   ]
  },
  {
   "cell_type": "markdown",
   "id": "c8741706",
   "metadata": {
    "papermill": {
     "duration": 0.022948,
     "end_time": "2022-03-16T06:08:47.117025",
     "exception": false,
     "start_time": "2022-03-16T06:08:47.094077",
     "status": "completed"
    },
    "tags": []
   },
   "source": [
    "**Finding percentage of Datasets before merging**"
   ]
  },
  {
   "cell_type": "code",
   "execution_count": 8,
   "id": "519c14e5",
   "metadata": {
    "execution": {
     "iopub.execute_input": "2022-03-16T06:08:47.175362Z",
     "iopub.status.busy": "2022-03-16T06:08:47.174733Z",
     "iopub.status.idle": "2022-03-16T06:08:47.178275Z",
     "shell.execute_reply": "2022-03-16T06:08:47.178749Z",
     "shell.execute_reply.started": "2022-03-16T05:59:42.491306Z"
    },
    "papermill": {
     "duration": 0.038712,
     "end_time": "2022-03-16T06:08:47.178928",
     "exception": false,
     "start_time": "2022-03-16T06:08:47.140216",
     "status": "completed"
    },
    "tags": []
   },
   "outputs": [
    {
     "data": {
      "text/html": [
       "<div>\n",
       "<style scoped>\n",
       "    .dataframe tbody tr th:only-of-type {\n",
       "        vertical-align: middle;\n",
       "    }\n",
       "\n",
       "    .dataframe tbody tr th {\n",
       "        vertical-align: top;\n",
       "    }\n",
       "\n",
       "    .dataframe thead th {\n",
       "        text-align: right;\n",
       "    }\n",
       "</style>\n",
       "<table border=\"1\" class=\"dataframe\">\n",
       "  <thead>\n",
       "    <tr style=\"text-align: right;\">\n",
       "      <th></th>\n",
       "      <th>date_block_num</th>\n",
       "      <th>shop_id</th>\n",
       "      <th>item_id</th>\n",
       "      <th>item_price</th>\n",
       "      <th>item_cnt_day</th>\n",
       "      <th>day</th>\n",
       "      <th>month</th>\n",
       "      <th>year</th>\n",
       "    </tr>\n",
       "  </thead>\n",
       "  <tbody>\n",
       "    <tr>\n",
       "      <th>49800</th>\n",
       "      <td>0</td>\n",
       "      <td>18</td>\n",
       "      <td>5823</td>\n",
       "      <td>2500.0</td>\n",
       "      <td>1.0</td>\n",
       "      <td>1</td>\n",
       "      <td>1</td>\n",
       "      <td>2013</td>\n",
       "    </tr>\n",
       "    <tr>\n",
       "      <th>29784</th>\n",
       "      <td>0</td>\n",
       "      <td>27</td>\n",
       "      <td>5573</td>\n",
       "      <td>849.0</td>\n",
       "      <td>1.0</td>\n",
       "      <td>1</td>\n",
       "      <td>1</td>\n",
       "      <td>2013</td>\n",
       "    </tr>\n",
       "    <tr>\n",
       "      <th>35476</th>\n",
       "      <td>0</td>\n",
       "      <td>7</td>\n",
       "      <td>1006</td>\n",
       "      <td>399.0</td>\n",
       "      <td>1.0</td>\n",
       "      <td>1</td>\n",
       "      <td>1</td>\n",
       "      <td>2013</td>\n",
       "    </tr>\n",
       "    <tr>\n",
       "      <th>8330</th>\n",
       "      <td>0</td>\n",
       "      <td>19</td>\n",
       "      <td>17707</td>\n",
       "      <td>899.0</td>\n",
       "      <td>1.0</td>\n",
       "      <td>1</td>\n",
       "      <td>1</td>\n",
       "      <td>2013</td>\n",
       "    </tr>\n",
       "    <tr>\n",
       "      <th>57384</th>\n",
       "      <td>0</td>\n",
       "      <td>14</td>\n",
       "      <td>19548</td>\n",
       "      <td>149.0</td>\n",
       "      <td>1.0</td>\n",
       "      <td>1</td>\n",
       "      <td>1</td>\n",
       "      <td>2013</td>\n",
       "    </tr>\n",
       "  </tbody>\n",
       "</table>\n",
       "</div>"
      ],
      "text/plain": [
       "       date_block_num  shop_id  item_id  item_price  item_cnt_day  day  month  \\\n",
       "49800               0       18     5823      2500.0           1.0    1      1   \n",
       "29784               0       27     5573       849.0           1.0    1      1   \n",
       "35476               0        7     1006       399.0           1.0    1      1   \n",
       "8330                0       19    17707       899.0           1.0    1      1   \n",
       "57384               0       14    19548       149.0           1.0    1      1   \n",
       "\n",
       "       year  \n",
       "49800  2013  \n",
       "29784  2013  \n",
       "35476  2013  \n",
       "8330   2013  \n",
       "57384  2013  "
      ]
     },
     "execution_count": 8,
     "metadata": {},
     "output_type": "execute_result"
    }
   ],
   "source": [
    "Train_Data.head()"
   ]
  },
  {
   "cell_type": "code",
   "execution_count": 9,
   "id": "d15cbdc7",
   "metadata": {
    "execution": {
     "iopub.execute_input": "2022-03-16T06:08:47.234307Z",
     "iopub.status.busy": "2022-03-16T06:08:47.233316Z",
     "iopub.status.idle": "2022-03-16T06:08:47.236661Z",
     "shell.execute_reply": "2022-03-16T06:08:47.237398Z",
     "shell.execute_reply.started": "2022-03-16T06:08:00.400495Z"
    },
    "papermill": {
     "duration": 0.033538,
     "end_time": "2022-03-16T06:08:47.237621",
     "exception": false,
     "start_time": "2022-03-16T06:08:47.204083",
     "status": "completed"
    },
    "tags": []
   },
   "outputs": [
    {
     "name": "stdout",
     "output_type": "stream",
     "text": [
      "No. of Observations (Training Dataset): 0.9320010577613237\n",
      "No. of Observations (Testing Dataset): 0.0679989422386763\n"
     ]
    }
   ],
   "source": [
    "Cus_Lib.Percent(2935849, 214200)"
   ]
  },
  {
   "cell_type": "markdown",
   "id": "9ac31ca9",
   "metadata": {
    "papermill": {
     "duration": 0.023898,
     "end_time": "2022-03-16T06:08:47.287345",
     "exception": false,
     "start_time": "2022-03-16T06:08:47.263447",
     "status": "completed"
    },
    "tags": []
   },
   "source": [
    "**Lets Merge Training and Testing Dataset for EDA**"
   ]
  },
  {
   "cell_type": "code",
   "execution_count": 10,
   "id": "4fb48805",
   "metadata": {
    "execution": {
     "iopub.execute_input": "2022-03-16T06:08:47.339391Z",
     "iopub.status.busy": "2022-03-16T06:08:47.338707Z",
     "iopub.status.idle": "2022-03-16T06:08:47.951967Z",
     "shell.execute_reply": "2022-03-16T06:08:47.952464Z",
     "shell.execute_reply.started": "2022-03-16T05:59:53.154807Z"
    },
    "papermill": {
     "duration": 0.641105,
     "end_time": "2022-03-16T06:08:47.952641",
     "exception": false,
     "start_time": "2022-03-16T06:08:47.311536",
     "status": "completed"
    },
    "tags": []
   },
   "outputs": [],
   "source": [
    "#Merged_Data = pd.merge(Train_Data, Test_Data, how = 'left')\n",
    "DF = pd.merge(Test_Data, Train_Data, on = ('shop_id', 'item_id'), how = 'left')"
   ]
  },
  {
   "cell_type": "code",
   "execution_count": 11,
   "id": "79a833bd",
   "metadata": {
    "execution": {
     "iopub.execute_input": "2022-03-16T06:08:48.005123Z",
     "iopub.status.busy": "2022-03-16T06:08:48.004485Z",
     "iopub.status.idle": "2022-03-16T06:08:48.008892Z",
     "shell.execute_reply": "2022-03-16T06:08:48.009356Z",
     "shell.execute_reply.started": "2022-03-16T05:59:56.497973Z"
    },
    "papermill": {
     "duration": 0.032611,
     "end_time": "2022-03-16T06:08:48.009520",
     "exception": false,
     "start_time": "2022-03-16T06:08:47.976909",
     "status": "completed"
    },
    "tags": []
   },
   "outputs": [
    {
     "data": {
      "text/plain": [
       "(1327235, 9)"
      ]
     },
     "execution_count": 11,
     "metadata": {},
     "output_type": "execute_result"
    }
   ],
   "source": [
    "DF.shape"
   ]
  },
  {
   "cell_type": "code",
   "execution_count": 12,
   "id": "de917309",
   "metadata": {
    "execution": {
     "iopub.execute_input": "2022-03-16T06:08:48.063340Z",
     "iopub.status.busy": "2022-03-16T06:08:48.062679Z",
     "iopub.status.idle": "2022-03-16T06:08:49.244845Z",
     "shell.execute_reply": "2022-03-16T06:08:49.245509Z",
     "shell.execute_reply.started": "2022-03-16T06:00:21.404015Z"
    },
    "papermill": {
     "duration": 1.210462,
     "end_time": "2022-03-16T06:08:49.245731",
     "exception": false,
     "start_time": "2022-03-16T06:08:48.035269",
     "status": "completed"
    },
    "tags": []
   },
   "outputs": [
    {
     "name": "stdout",
     "output_type": "stream",
     "text": [
      "Duplcated observations: 5\n",
      "Droped observations: 5\n",
      "New Shape: (1327230, 9)\n"
     ]
    }
   ],
   "source": [
    "Cus_Lib.Drop_duplicate_value(DF)"
   ]
  },
  {
   "cell_type": "code",
   "execution_count": 13,
   "id": "45ea60c3",
   "metadata": {
    "execution": {
     "iopub.execute_input": "2022-03-16T06:08:49.301369Z",
     "iopub.status.busy": "2022-03-16T06:08:49.300770Z",
     "iopub.status.idle": "2022-03-16T06:08:49.325537Z",
     "shell.execute_reply": "2022-03-16T06:08:49.326014Z",
     "shell.execute_reply.started": "2022-03-16T06:00:33.201931Z"
    },
    "papermill": {
     "duration": 0.053137,
     "end_time": "2022-03-16T06:08:49.326195",
     "exception": false,
     "start_time": "2022-03-16T06:08:49.273058",
     "status": "completed"
    },
    "tags": []
   },
   "outputs": [
    {
     "data": {
      "text/plain": [
       "(42, 5100)"
      ]
     },
     "execution_count": 13,
     "metadata": {},
     "output_type": "execute_result"
    }
   ],
   "source": [
    "DF['shop_id'].nunique(), DF['item_id'].nunique()"
   ]
  },
  {
   "cell_type": "markdown",
   "id": "e3e55070",
   "metadata": {
    "papermill": {
     "duration": 0.025478,
     "end_time": "2022-03-16T06:08:49.377314",
     "exception": false,
     "start_time": "2022-03-16T06:08:49.351836",
     "status": "completed"
    },
    "tags": []
   },
   "source": [
    "# Exploratory Data Analysis\n",
    "\n",
    "1. Data Cleaning.\n",
    "2. Data Preprocessing.\n",
    "3. Data visualization."
   ]
  },
  {
   "cell_type": "markdown",
   "id": "39a77e4a",
   "metadata": {
    "papermill": {
     "duration": 0.025362,
     "end_time": "2022-03-16T06:08:49.428596",
     "exception": false,
     "start_time": "2022-03-16T06:08:49.403234",
     "status": "completed"
    },
    "tags": []
   },
   "source": [
    "1. Data Cleaning"
   ]
  },
  {
   "cell_type": "code",
   "execution_count": 14,
   "id": "63f13137",
   "metadata": {
    "execution": {
     "iopub.execute_input": "2022-03-16T06:08:49.483614Z",
     "iopub.status.busy": "2022-03-16T06:08:49.483018Z",
     "iopub.status.idle": "2022-03-16T06:08:49.530255Z",
     "shell.execute_reply": "2022-03-16T06:08:49.530810Z",
     "shell.execute_reply.started": "2022-03-16T06:01:17.648722Z"
    },
    "papermill": {
     "duration": 0.076426,
     "end_time": "2022-03-16T06:08:49.530986",
     "exception": false,
     "start_time": "2022-03-16T06:08:49.454560",
     "status": "completed"
    },
    "tags": []
   },
   "outputs": [
    {
     "data": {
      "text/html": [
       "<div>\n",
       "<style scoped>\n",
       "    .dataframe tbody tr th:only-of-type {\n",
       "        vertical-align: middle;\n",
       "    }\n",
       "\n",
       "    .dataframe tbody tr th {\n",
       "        vertical-align: top;\n",
       "    }\n",
       "\n",
       "    .dataframe thead th {\n",
       "        text-align: right;\n",
       "    }\n",
       "</style>\n",
       "<table border=\"1\" class=\"dataframe\">\n",
       "  <thead>\n",
       "    <tr style=\"text-align: right;\">\n",
       "      <th></th>\n",
       "      <th>NaN values</th>\n",
       "      <th>NaN percent</th>\n",
       "    </tr>\n",
       "  </thead>\n",
       "  <tbody>\n",
       "    <tr>\n",
       "      <th>ID</th>\n",
       "      <td>0</td>\n",
       "      <td>0.000000</td>\n",
       "    </tr>\n",
       "    <tr>\n",
       "      <th>shop_id</th>\n",
       "      <td>0</td>\n",
       "      <td>0.000000</td>\n",
       "    </tr>\n",
       "    <tr>\n",
       "      <th>item_id</th>\n",
       "      <td>0</td>\n",
       "      <td>0.000000</td>\n",
       "    </tr>\n",
       "    <tr>\n",
       "      <th>date_block_num</th>\n",
       "      <td>102796</td>\n",
       "      <td>7.745124</td>\n",
       "    </tr>\n",
       "    <tr>\n",
       "      <th>item_price</th>\n",
       "      <td>102796</td>\n",
       "      <td>7.745124</td>\n",
       "    </tr>\n",
       "    <tr>\n",
       "      <th>item_cnt_day</th>\n",
       "      <td>102796</td>\n",
       "      <td>7.745124</td>\n",
       "    </tr>\n",
       "    <tr>\n",
       "      <th>day</th>\n",
       "      <td>102796</td>\n",
       "      <td>7.745124</td>\n",
       "    </tr>\n",
       "    <tr>\n",
       "      <th>month</th>\n",
       "      <td>102796</td>\n",
       "      <td>7.745124</td>\n",
       "    </tr>\n",
       "    <tr>\n",
       "      <th>year</th>\n",
       "      <td>102796</td>\n",
       "      <td>7.745124</td>\n",
       "    </tr>\n",
       "  </tbody>\n",
       "</table>\n",
       "</div>"
      ],
      "text/plain": [
       "                NaN values  NaN percent\n",
       "ID                       0     0.000000\n",
       "shop_id                  0     0.000000\n",
       "item_id                  0     0.000000\n",
       "date_block_num      102796     7.745124\n",
       "item_price          102796     7.745124\n",
       "item_cnt_day        102796     7.745124\n",
       "day                 102796     7.745124\n",
       "month               102796     7.745124\n",
       "year                102796     7.745124"
      ]
     },
     "execution_count": 14,
     "metadata": {},
     "output_type": "execute_result"
    }
   ],
   "source": [
    "Cus_Lib.find_NaN_V(DF)"
   ]
  },
  {
   "cell_type": "code",
   "execution_count": null,
   "id": "4b72f242",
   "metadata": {
    "execution": {
     "iopub.execute_input": "2022-03-15T18:22:32.474852Z",
     "iopub.status.busy": "2022-03-15T18:22:32.474552Z",
     "iopub.status.idle": "2022-03-15T18:22:32.517355Z",
     "shell.execute_reply": "2022-03-15T18:22:32.51596Z",
     "shell.execute_reply.started": "2022-03-15T18:22:32.474812Z"
    },
    "papermill": {
     "duration": 0.026412,
     "end_time": "2022-03-16T06:08:49.583851",
     "exception": false,
     "start_time": "2022-03-16T06:08:49.557439",
     "status": "completed"
    },
    "tags": []
   },
   "outputs": [],
   "source": []
  },
  {
   "cell_type": "markdown",
   "id": "e1651c68",
   "metadata": {
    "papermill": {
     "duration": 0.026025,
     "end_time": "2022-03-16T06:08:49.636325",
     "exception": false,
     "start_time": "2022-03-16T06:08:49.610300",
     "status": "completed"
    },
    "tags": []
   },
   "source": [
    "# Train & Test split"
   ]
  },
  {
   "cell_type": "code",
   "execution_count": null,
   "id": "3f852e7c",
   "metadata": {
    "papermill": {
     "duration": 0.026491,
     "end_time": "2022-03-16T06:08:49.689262",
     "exception": false,
     "start_time": "2022-03-16T06:08:49.662771",
     "status": "completed"
    },
    "tags": []
   },
   "outputs": [],
   "source": []
  }
 ],
 "metadata": {
  "kernelspec": {
   "display_name": "Python 3",
   "language": "python",
   "name": "python3"
  },
  "language_info": {
   "codemirror_mode": {
    "name": "ipython",
    "version": 3
   },
   "file_extension": ".py",
   "mimetype": "text/x-python",
   "name": "python",
   "nbconvert_exporter": "python",
   "pygments_lexer": "ipython3",
   "version": "3.7.12"
  },
  "papermill": {
   "default_parameters": {},
   "duration": 18.588728,
   "end_time": "2022-03-16T06:08:50.325255",
   "environment_variables": {},
   "exception": null,
   "input_path": "__notebook__.ipynb",
   "output_path": "__notebook__.ipynb",
   "parameters": {},
   "start_time": "2022-03-16T06:08:31.736527",
   "version": "2.3.3"
  }
 },
 "nbformat": 4,
 "nbformat_minor": 5
}
