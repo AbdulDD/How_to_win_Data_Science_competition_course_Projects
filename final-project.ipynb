{
 "cells": [
  {
   "cell_type": "markdown",
   "id": "69c26257",
   "metadata": {
    "papermill": {
     "duration": 0.029728,
     "end_time": "2022-03-18T17:51:49.683677",
     "exception": false,
     "start_time": "2022-03-18T17:51:49.653949",
     "status": "completed"
    },
    "tags": []
   },
   "source": [
    "# Goal:\n",
    "1. The task is to forecast the sales for every item in every shop in the testing period.\n",
    "2. To apply different strategies and learn."
   ]
  },
  {
   "cell_type": "code",
   "execution_count": 1,
   "id": "9ad261a3",
   "metadata": {
    "execution": {
     "iopub.execute_input": "2022-03-18T17:51:49.747315Z",
     "iopub.status.busy": "2022-03-18T17:51:49.746061Z",
     "iopub.status.idle": "2022-03-18T17:51:50.961863Z",
     "shell.execute_reply": "2022-03-18T17:51:50.962690Z"
    },
    "papermill": {
     "duration": 1.249879,
     "end_time": "2022-03-18T17:51:50.963058",
     "exception": false,
     "start_time": "2022-03-18T17:51:49.713179",
     "status": "completed"
    },
    "tags": []
   },
   "outputs": [],
   "source": [
    "# Importing required libraries\n",
    "import pandas as pd\n",
    "import numpy as np\n",
    "\n",
    "# Visualization libraries\n",
    "import matplotlib.pyplot as plt\n",
    "import seaborn as sns\n",
    "\n",
    "import datetime as dt"
   ]
  },
  {
   "cell_type": "code",
   "execution_count": 2,
   "id": "51a6a48b",
   "metadata": {
    "execution": {
     "iopub.execute_input": "2022-03-18T17:51:51.028187Z",
     "iopub.status.busy": "2022-03-18T17:51:51.027519Z",
     "iopub.status.idle": "2022-03-18T17:51:51.040996Z",
     "shell.execute_reply": "2022-03-18T17:51:51.041599Z",
     "shell.execute_reply.started": "2022-03-18T09:49:22.219065Z"
    },
    "papermill": {
     "duration": 0.049683,
     "end_time": "2022-03-18T17:51:51.041786",
     "exception": false,
     "start_time": "2022-03-18T17:51:50.992103",
     "status": "completed"
    },
    "tags": []
   },
   "outputs": [],
   "source": [
    "# Import customized py library\n",
    "import customized_py_library as CL"
   ]
  },
  {
   "cell_type": "code",
   "execution_count": 3,
   "id": "79791a13",
   "metadata": {
    "execution": {
     "iopub.execute_input": "2022-03-18T17:51:51.106727Z",
     "iopub.status.busy": "2022-03-18T17:51:51.103264Z",
     "iopub.status.idle": "2022-03-18T17:51:54.350340Z",
     "shell.execute_reply": "2022-03-18T17:51:54.349545Z",
     "shell.execute_reply.started": "2022-03-18T09:49:24.064712Z"
    },
    "papermill": {
     "duration": 3.279921,
     "end_time": "2022-03-18T17:51:54.350582",
     "exception": false,
     "start_time": "2022-03-18T17:51:51.070661",
     "status": "completed"
    },
    "tags": []
   },
   "outputs": [],
   "source": [
    "# Loading Data\n",
    "Train_Data = pd.read_csv(\"../input/competitive-data-science-predict-future-sales/sales_train.csv\")\n",
    "Test_Data = pd.read_csv(\"../input/competitive-data-science-predict-future-sales/test.csv\")\n",
    "sample_sub = pd.read_csv(\"../input/competitive-data-science-predict-future-sales/sample_submission.csv\")"
   ]
  },
  {
   "cell_type": "markdown",
   "id": "e563e987",
   "metadata": {
    "papermill": {
     "duration": 0.028787,
     "end_time": "2022-03-18T17:51:54.409195",
     "exception": false,
     "start_time": "2022-03-18T17:51:54.380408",
     "status": "completed"
    },
    "tags": []
   },
   "source": [
    "# Understanding Data"
   ]
  },
  {
   "cell_type": "code",
   "execution_count": 4,
   "id": "ecd2d652",
   "metadata": {
    "execution": {
     "iopub.execute_input": "2022-03-18T17:51:54.475870Z",
     "iopub.status.busy": "2022-03-18T17:51:54.474859Z",
     "iopub.status.idle": "2022-03-18T17:51:54.491535Z",
     "shell.execute_reply": "2022-03-18T17:51:54.492046Z",
     "shell.execute_reply.started": "2022-03-18T09:49:26.892232Z"
    },
    "jupyter": {
     "source_hidden": true
    },
    "papermill": {
     "duration": 0.054548,
     "end_time": "2022-03-18T17:51:54.492238",
     "exception": false,
     "start_time": "2022-03-18T17:51:54.437690",
     "status": "completed"
    },
    "tags": []
   },
   "outputs": [
    {
     "data": {
      "text/html": [
       "<div>\n",
       "<style scoped>\n",
       "    .dataframe tbody tr th:only-of-type {\n",
       "        vertical-align: middle;\n",
       "    }\n",
       "\n",
       "    .dataframe tbody tr th {\n",
       "        vertical-align: top;\n",
       "    }\n",
       "\n",
       "    .dataframe thead th {\n",
       "        text-align: right;\n",
       "    }\n",
       "</style>\n",
       "<table border=\"1\" class=\"dataframe\">\n",
       "  <thead>\n",
       "    <tr style=\"text-align: right;\">\n",
       "      <th></th>\n",
       "      <th>ID</th>\n",
       "      <th>item_cnt_month</th>\n",
       "    </tr>\n",
       "  </thead>\n",
       "  <tbody>\n",
       "    <tr>\n",
       "      <th>0</th>\n",
       "      <td>0</td>\n",
       "      <td>0.5</td>\n",
       "    </tr>\n",
       "    <tr>\n",
       "      <th>1</th>\n",
       "      <td>1</td>\n",
       "      <td>0.5</td>\n",
       "    </tr>\n",
       "    <tr>\n",
       "      <th>2</th>\n",
       "      <td>2</td>\n",
       "      <td>0.5</td>\n",
       "    </tr>\n",
       "    <tr>\n",
       "      <th>3</th>\n",
       "      <td>3</td>\n",
       "      <td>0.5</td>\n",
       "    </tr>\n",
       "    <tr>\n",
       "      <th>4</th>\n",
       "      <td>4</td>\n",
       "      <td>0.5</td>\n",
       "    </tr>\n",
       "  </tbody>\n",
       "</table>\n",
       "</div>"
      ],
      "text/plain": [
       "   ID  item_cnt_month\n",
       "0   0             0.5\n",
       "1   1             0.5\n",
       "2   2             0.5\n",
       "3   3             0.5\n",
       "4   4             0.5"
      ]
     },
     "execution_count": 4,
     "metadata": {},
     "output_type": "execute_result"
    }
   ],
   "source": [
    "sample_sub.head()"
   ]
  },
  {
   "cell_type": "code",
   "execution_count": 5,
   "id": "ccccaaf7",
   "metadata": {
    "execution": {
     "iopub.execute_input": "2022-03-18T17:51:54.560296Z",
     "iopub.status.busy": "2022-03-18T17:51:54.559562Z",
     "iopub.status.idle": "2022-03-18T17:51:54.564622Z",
     "shell.execute_reply": "2022-03-18T17:51:54.565180Z",
     "shell.execute_reply.started": "2022-03-18T09:49:28.851099Z"
    },
    "papermill": {
     "duration": 0.040737,
     "end_time": "2022-03-18T17:51:54.565394",
     "exception": false,
     "start_time": "2022-03-18T17:51:54.524657",
     "status": "completed"
    },
    "tags": []
   },
   "outputs": [
    {
     "data": {
      "text/plain": [
       "((2935849, 6), (214200, 3))"
      ]
     },
     "execution_count": 5,
     "metadata": {},
     "output_type": "execute_result"
    }
   ],
   "source": [
    "# Understanding Train Data\n",
    "# Shape of Data\n",
    "Train_Data.shape, Test_Data.shape\n",
    "\n",
    "# Info of Data\n",
    "#Train_Data.info(), Test_Data.info()\n",
    "\n",
    "# Print the Data\n",
    "#Train_Data.head()\n",
    "#Test_Data.head()"
   ]
  },
  {
   "cell_type": "markdown",
   "id": "80831754",
   "metadata": {
    "papermill": {
     "duration": 0.029369,
     "end_time": "2022-03-18T17:51:54.624624",
     "exception": false,
     "start_time": "2022-03-18T17:51:54.595255",
     "status": "completed"
    },
    "tags": []
   },
   "source": [
    "**Exploring the Train Dataset**"
   ]
  },
  {
   "cell_type": "code",
   "execution_count": 6,
   "id": "29dfca07",
   "metadata": {
    "execution": {
     "iopub.execute_input": "2022-03-18T17:51:54.695967Z",
     "iopub.status.busy": "2022-03-18T17:51:54.695198Z",
     "iopub.status.idle": "2022-03-18T17:51:54.746293Z",
     "shell.execute_reply": "2022-03-18T17:51:54.745711Z",
     "shell.execute_reply.started": "2022-03-18T09:49:34.457949Z"
    },
    "papermill": {
     "duration": 0.092171,
     "end_time": "2022-03-18T17:51:54.746489",
     "exception": false,
     "start_time": "2022-03-18T17:51:54.654318",
     "status": "completed"
    },
    "tags": []
   },
   "outputs": [
    {
     "data": {
      "text/plain": [
       "(60, 21807)"
      ]
     },
     "execution_count": 6,
     "metadata": {},
     "output_type": "execute_result"
    }
   ],
   "source": [
    "# Unique no. of IDs\n",
    "Train_Data['shop_id'].nunique(), Train_Data['item_id'].nunique()"
   ]
  },
  {
   "cell_type": "markdown",
   "id": "631f9d76",
   "metadata": {
    "papermill": {
     "duration": 0.029898,
     "end_time": "2022-03-18T17:51:54.806773",
     "exception": false,
     "start_time": "2022-03-18T17:51:54.776875",
     "status": "completed"
    },
    "tags": []
   },
   "source": [
    "**Datetime setting**"
   ]
  },
  {
   "cell_type": "code",
   "execution_count": 7,
   "id": "caf26f10",
   "metadata": {
    "execution": {
     "iopub.execute_input": "2022-03-18T17:51:54.871653Z",
     "iopub.status.busy": "2022-03-18T17:51:54.870805Z",
     "iopub.status.idle": "2022-03-18T17:51:57.078732Z",
     "shell.execute_reply": "2022-03-18T17:51:57.078118Z",
     "shell.execute_reply.started": "2022-03-18T09:49:52.791714Z"
    },
    "papermill": {
     "duration": 2.241421,
     "end_time": "2022-03-18T17:51:57.078920",
     "exception": false,
     "start_time": "2022-03-18T17:51:54.837499",
     "status": "completed"
    },
    "tags": []
   },
   "outputs": [
    {
     "data": {
      "text/html": [
       "<div>\n",
       "<style scoped>\n",
       "    .dataframe tbody tr th:only-of-type {\n",
       "        vertical-align: middle;\n",
       "    }\n",
       "\n",
       "    .dataframe tbody tr th {\n",
       "        vertical-align: top;\n",
       "    }\n",
       "\n",
       "    .dataframe thead th {\n",
       "        text-align: right;\n",
       "    }\n",
       "</style>\n",
       "<table border=\"1\" class=\"dataframe\">\n",
       "  <thead>\n",
       "    <tr style=\"text-align: right;\">\n",
       "      <th></th>\n",
       "      <th>date_block_num</th>\n",
       "      <th>shop_id</th>\n",
       "      <th>item_id</th>\n",
       "      <th>item_price</th>\n",
       "      <th>item_cnt_day</th>\n",
       "      <th>day</th>\n",
       "      <th>month</th>\n",
       "      <th>year</th>\n",
       "    </tr>\n",
       "  </thead>\n",
       "  <tbody>\n",
       "    <tr>\n",
       "      <th>49800</th>\n",
       "      <td>0</td>\n",
       "      <td>18</td>\n",
       "      <td>5823</td>\n",
       "      <td>2500.0</td>\n",
       "      <td>1.0</td>\n",
       "      <td>1</td>\n",
       "      <td>1</td>\n",
       "      <td>2013</td>\n",
       "    </tr>\n",
       "    <tr>\n",
       "      <th>29784</th>\n",
       "      <td>0</td>\n",
       "      <td>27</td>\n",
       "      <td>5573</td>\n",
       "      <td>849.0</td>\n",
       "      <td>1.0</td>\n",
       "      <td>1</td>\n",
       "      <td>1</td>\n",
       "      <td>2013</td>\n",
       "    </tr>\n",
       "    <tr>\n",
       "      <th>35476</th>\n",
       "      <td>0</td>\n",
       "      <td>7</td>\n",
       "      <td>1006</td>\n",
       "      <td>399.0</td>\n",
       "      <td>1.0</td>\n",
       "      <td>1</td>\n",
       "      <td>1</td>\n",
       "      <td>2013</td>\n",
       "    </tr>\n",
       "    <tr>\n",
       "      <th>8330</th>\n",
       "      <td>0</td>\n",
       "      <td>19</td>\n",
       "      <td>17707</td>\n",
       "      <td>899.0</td>\n",
       "      <td>1.0</td>\n",
       "      <td>1</td>\n",
       "      <td>1</td>\n",
       "      <td>2013</td>\n",
       "    </tr>\n",
       "    <tr>\n",
       "      <th>57384</th>\n",
       "      <td>0</td>\n",
       "      <td>14</td>\n",
       "      <td>19548</td>\n",
       "      <td>149.0</td>\n",
       "      <td>1.0</td>\n",
       "      <td>1</td>\n",
       "      <td>1</td>\n",
       "      <td>2013</td>\n",
       "    </tr>\n",
       "    <tr>\n",
       "      <th>...</th>\n",
       "      <td>...</td>\n",
       "      <td>...</td>\n",
       "      <td>...</td>\n",
       "      <td>...</td>\n",
       "      <td>...</td>\n",
       "      <td>...</td>\n",
       "      <td>...</td>\n",
       "      <td>...</td>\n",
       "    </tr>\n",
       "    <tr>\n",
       "      <th>2885098</th>\n",
       "      <td>33</td>\n",
       "      <td>41</td>\n",
       "      <td>21386</td>\n",
       "      <td>169.0</td>\n",
       "      <td>1.0</td>\n",
       "      <td>31</td>\n",
       "      <td>10</td>\n",
       "      <td>2015</td>\n",
       "    </tr>\n",
       "    <tr>\n",
       "      <th>2930981</th>\n",
       "      <td>33</td>\n",
       "      <td>21</td>\n",
       "      <td>988</td>\n",
       "      <td>199.0</td>\n",
       "      <td>1.0</td>\n",
       "      <td>31</td>\n",
       "      <td>10</td>\n",
       "      <td>2015</td>\n",
       "    </tr>\n",
       "    <tr>\n",
       "      <th>2885097</th>\n",
       "      <td>33</td>\n",
       "      <td>41</td>\n",
       "      <td>21377</td>\n",
       "      <td>169.0</td>\n",
       "      <td>1.0</td>\n",
       "      <td>31</td>\n",
       "      <td>10</td>\n",
       "      <td>2015</td>\n",
       "    </tr>\n",
       "    <tr>\n",
       "      <th>2930993</th>\n",
       "      <td>33</td>\n",
       "      <td>22</td>\n",
       "      <td>10207</td>\n",
       "      <td>1199.0</td>\n",
       "      <td>1.0</td>\n",
       "      <td>31</td>\n",
       "      <td>10</td>\n",
       "      <td>2015</td>\n",
       "    </tr>\n",
       "    <tr>\n",
       "      <th>2928850</th>\n",
       "      <td>33</td>\n",
       "      <td>24</td>\n",
       "      <td>3042</td>\n",
       "      <td>3199.0</td>\n",
       "      <td>1.0</td>\n",
       "      <td>31</td>\n",
       "      <td>10</td>\n",
       "      <td>2015</td>\n",
       "    </tr>\n",
       "  </tbody>\n",
       "</table>\n",
       "<p>2935849 rows × 8 columns</p>\n",
       "</div>"
      ],
      "text/plain": [
       "         date_block_num  shop_id  item_id  item_price  item_cnt_day  day  \\\n",
       "49800                 0       18     5823      2500.0           1.0    1   \n",
       "29784                 0       27     5573       849.0           1.0    1   \n",
       "35476                 0        7     1006       399.0           1.0    1   \n",
       "8330                  0       19    17707       899.0           1.0    1   \n",
       "57384                 0       14    19548       149.0           1.0    1   \n",
       "...                 ...      ...      ...         ...           ...  ...   \n",
       "2885098              33       41    21386       169.0           1.0   31   \n",
       "2930981              33       21      988       199.0           1.0   31   \n",
       "2885097              33       41    21377       169.0           1.0   31   \n",
       "2930993              33       22    10207      1199.0           1.0   31   \n",
       "2928850              33       24     3042      3199.0           1.0   31   \n",
       "\n",
       "         month  year  \n",
       "49800        1  2013  \n",
       "29784        1  2013  \n",
       "35476        1  2013  \n",
       "8330         1  2013  \n",
       "57384        1  2013  \n",
       "...        ...   ...  \n",
       "2885098     10  2015  \n",
       "2930981     10  2015  \n",
       "2885097     10  2015  \n",
       "2930993     10  2015  \n",
       "2928850     10  2015  \n",
       "\n",
       "[2935849 rows x 8 columns]"
      ]
     },
     "execution_count": 7,
     "metadata": {},
     "output_type": "execute_result"
    }
   ],
   "source": [
    "# Datetime setting\n",
    "CL.Datetimeset(Train_Data)"
   ]
  },
  {
   "cell_type": "markdown",
   "id": "1e8c674b",
   "metadata": {
    "papermill": {
     "duration": 0.030196,
     "end_time": "2022-03-18T17:51:57.139503",
     "exception": false,
     "start_time": "2022-03-18T17:51:57.109307",
     "status": "completed"
    },
    "tags": []
   },
   "source": [
    "# Merging Datasets"
   ]
  },
  {
   "cell_type": "markdown",
   "id": "2720445b",
   "metadata": {
    "papermill": {
     "duration": 0.031008,
     "end_time": "2022-03-18T17:51:57.200956",
     "exception": false,
     "start_time": "2022-03-18T17:51:57.169948",
     "status": "completed"
    },
    "tags": []
   },
   "source": [
    "**Finding percentage of Datasets before merging**"
   ]
  },
  {
   "cell_type": "code",
   "execution_count": 8,
   "id": "bd4332cb",
   "metadata": {
    "execution": {
     "iopub.execute_input": "2022-03-18T17:51:57.274878Z",
     "iopub.status.busy": "2022-03-18T17:51:57.274166Z",
     "iopub.status.idle": "2022-03-18T17:51:57.277435Z",
     "shell.execute_reply": "2022-03-18T17:51:57.278042Z",
     "shell.execute_reply.started": "2022-03-18T09:50:10.356387Z"
    },
    "papermill": {
     "duration": 0.047268,
     "end_time": "2022-03-18T17:51:57.278212",
     "exception": false,
     "start_time": "2022-03-18T17:51:57.230944",
     "status": "completed"
    },
    "tags": []
   },
   "outputs": [
    {
     "data": {
      "text/html": [
       "<div>\n",
       "<style scoped>\n",
       "    .dataframe tbody tr th:only-of-type {\n",
       "        vertical-align: middle;\n",
       "    }\n",
       "\n",
       "    .dataframe tbody tr th {\n",
       "        vertical-align: top;\n",
       "    }\n",
       "\n",
       "    .dataframe thead th {\n",
       "        text-align: right;\n",
       "    }\n",
       "</style>\n",
       "<table border=\"1\" class=\"dataframe\">\n",
       "  <thead>\n",
       "    <tr style=\"text-align: right;\">\n",
       "      <th></th>\n",
       "      <th>date_block_num</th>\n",
       "      <th>shop_id</th>\n",
       "      <th>item_id</th>\n",
       "      <th>item_price</th>\n",
       "      <th>item_cnt_day</th>\n",
       "      <th>day</th>\n",
       "      <th>month</th>\n",
       "      <th>year</th>\n",
       "    </tr>\n",
       "  </thead>\n",
       "  <tbody>\n",
       "    <tr>\n",
       "      <th>49800</th>\n",
       "      <td>0</td>\n",
       "      <td>18</td>\n",
       "      <td>5823</td>\n",
       "      <td>2500.0</td>\n",
       "      <td>1.0</td>\n",
       "      <td>1</td>\n",
       "      <td>1</td>\n",
       "      <td>2013</td>\n",
       "    </tr>\n",
       "    <tr>\n",
       "      <th>29784</th>\n",
       "      <td>0</td>\n",
       "      <td>27</td>\n",
       "      <td>5573</td>\n",
       "      <td>849.0</td>\n",
       "      <td>1.0</td>\n",
       "      <td>1</td>\n",
       "      <td>1</td>\n",
       "      <td>2013</td>\n",
       "    </tr>\n",
       "    <tr>\n",
       "      <th>35476</th>\n",
       "      <td>0</td>\n",
       "      <td>7</td>\n",
       "      <td>1006</td>\n",
       "      <td>399.0</td>\n",
       "      <td>1.0</td>\n",
       "      <td>1</td>\n",
       "      <td>1</td>\n",
       "      <td>2013</td>\n",
       "    </tr>\n",
       "    <tr>\n",
       "      <th>8330</th>\n",
       "      <td>0</td>\n",
       "      <td>19</td>\n",
       "      <td>17707</td>\n",
       "      <td>899.0</td>\n",
       "      <td>1.0</td>\n",
       "      <td>1</td>\n",
       "      <td>1</td>\n",
       "      <td>2013</td>\n",
       "    </tr>\n",
       "    <tr>\n",
       "      <th>57384</th>\n",
       "      <td>0</td>\n",
       "      <td>14</td>\n",
       "      <td>19548</td>\n",
       "      <td>149.0</td>\n",
       "      <td>1.0</td>\n",
       "      <td>1</td>\n",
       "      <td>1</td>\n",
       "      <td>2013</td>\n",
       "    </tr>\n",
       "  </tbody>\n",
       "</table>\n",
       "</div>"
      ],
      "text/plain": [
       "       date_block_num  shop_id  item_id  item_price  item_cnt_day  day  month  \\\n",
       "49800               0       18     5823      2500.0           1.0    1      1   \n",
       "29784               0       27     5573       849.0           1.0    1      1   \n",
       "35476               0        7     1006       399.0           1.0    1      1   \n",
       "8330                0       19    17707       899.0           1.0    1      1   \n",
       "57384               0       14    19548       149.0           1.0    1      1   \n",
       "\n",
       "       year  \n",
       "49800  2013  \n",
       "29784  2013  \n",
       "35476  2013  \n",
       "8330   2013  \n",
       "57384  2013  "
      ]
     },
     "execution_count": 8,
     "metadata": {},
     "output_type": "execute_result"
    }
   ],
   "source": [
    "Train_Data.head()"
   ]
  },
  {
   "cell_type": "code",
   "execution_count": 9,
   "id": "f44020d6",
   "metadata": {
    "execution": {
     "iopub.execute_input": "2022-03-18T17:51:57.345106Z",
     "iopub.status.busy": "2022-03-18T17:51:57.344075Z",
     "iopub.status.idle": "2022-03-18T17:51:57.349319Z",
     "shell.execute_reply": "2022-03-18T17:51:57.350037Z",
     "shell.execute_reply.started": "2022-03-18T09:50:23.737619Z"
    },
    "papermill": {
     "duration": 0.041192,
     "end_time": "2022-03-18T17:51:57.350214",
     "exception": false,
     "start_time": "2022-03-18T17:51:57.309022",
     "status": "completed"
    },
    "tags": []
   },
   "outputs": [
    {
     "name": "stdout",
     "output_type": "stream",
     "text": [
      "No. of Observations (Training Dataset): 0.9320010577613237\n",
      "No. of Observations (Testing Dataset): 0.0679989422386763\n"
     ]
    }
   ],
   "source": [
    "CL.Percent(2935849, 214200)"
   ]
  },
  {
   "cell_type": "markdown",
   "id": "af4164b1",
   "metadata": {
    "papermill": {
     "duration": 0.031114,
     "end_time": "2022-03-18T17:51:57.412524",
     "exception": false,
     "start_time": "2022-03-18T17:51:57.381410",
     "status": "completed"
    },
    "tags": []
   },
   "source": [
    "**Exploring relevent columns before merge**"
   ]
  },
  {
   "cell_type": "code",
   "execution_count": 10,
   "id": "0d68e0d1",
   "metadata": {
    "execution": {
     "iopub.execute_input": "2022-03-18T17:51:57.479987Z",
     "iopub.status.busy": "2022-03-18T17:51:57.479246Z",
     "iopub.status.idle": "2022-03-18T17:51:57.488473Z",
     "shell.execute_reply": "2022-03-18T17:51:57.488966Z",
     "shell.execute_reply.started": "2022-03-18T09:50:47.440283Z"
    },
    "papermill": {
     "duration": 0.044349,
     "end_time": "2022-03-18T17:51:57.489129",
     "exception": false,
     "start_time": "2022-03-18T17:51:57.444780",
     "status": "completed"
    },
    "tags": []
   },
   "outputs": [
    {
     "name": "stdout",
     "output_type": "stream",
     "text": [
      "-----------\n",
      "Shape:  (2935849, 8)\n",
      "date_block_num\n",
      "shop_id\n",
      "item_id\n",
      "item_price\n",
      "item_cnt_day\n",
      "day\n",
      "month\n",
      "year\n",
      "-----------\n",
      "Shape:  (214200, 3)\n",
      "ID\n",
      "shop_id\n",
      "item_id\n"
     ]
    },
    {
     "data": {
      "text/plain": [
       "(None, None)"
      ]
     },
     "execution_count": 10,
     "metadata": {},
     "output_type": "execute_result"
    }
   ],
   "source": [
    "CL.Get_colname(Train_Data), CL.Get_colname(Test_Data)"
   ]
  },
  {
   "cell_type": "code",
   "execution_count": 11,
   "id": "5582eacc",
   "metadata": {
    "execution": {
     "iopub.execute_input": "2022-03-18T17:51:57.560176Z",
     "iopub.status.busy": "2022-03-18T17:51:57.559052Z",
     "iopub.status.idle": "2022-03-18T17:51:57.703192Z",
     "shell.execute_reply": "2022-03-18T17:51:57.702646Z",
     "shell.execute_reply.started": "2022-03-18T09:50:51.256653Z"
    },
    "papermill": {
     "duration": 0.182163,
     "end_time": "2022-03-18T17:51:57.703347",
     "exception": false,
     "start_time": "2022-03-18T17:51:57.521184",
     "status": "completed"
    },
    "tags": []
   },
   "outputs": [
    {
     "data": {
      "text/plain": [
       "(array([18, 27,  7, 19, 14,  8, 28, 51, 54, 42, 46, 37, 15, 41, 13, 38,  2,\n",
       "        56,  6,  3, 31, 29, 35, 23, 45,  4, 53, 50, 47, 59, 25, 44, 52, 16,\n",
       "        32, 22, 26, 21, 24, 30, 10, 43,  1,  0, 12,  5, 57, 58, 55, 17,  9,\n",
       "        49, 39, 40, 48, 34, 33, 20, 11, 36]),\n",
       " array([ 5,  4,  6,  3,  2,  7, 10, 12, 28, 31, 26, 25, 22, 24, 21, 15, 16,\n",
       "        18, 14, 19, 42, 50, 49, 53, 52, 47, 48, 57, 58, 59, 55, 56, 36, 37,\n",
       "        35, 38, 34, 46, 41, 44, 39, 45]),\n",
       " array([ 2,  3,  4,  5,  6,  7, 10, 12, 14, 15, 16, 18, 19, 21, 22, 24, 25,\n",
       "        26, 28, 31, 34, 35, 36, 37, 38, 39, 41, 42, 44, 45, 46, 47, 48, 49,\n",
       "        50, 52, 53, 55, 56, 57, 58, 59]))"
      ]
     },
     "execution_count": 11,
     "metadata": {},
     "output_type": "execute_result"
    }
   ],
   "source": [
    "Train_Data.shop_id.unique(), Test_Data.shop_id.unique(), np.intersect1d(Train_Data.shop_id, Test_Data.shop_id)"
   ]
  },
  {
   "cell_type": "code",
   "execution_count": 12,
   "id": "ba8b983c",
   "metadata": {
    "execution": {
     "iopub.execute_input": "2022-03-18T17:51:57.776685Z",
     "iopub.status.busy": "2022-03-18T17:51:57.775586Z",
     "iopub.status.idle": "2022-03-18T17:51:58.026106Z",
     "shell.execute_reply": "2022-03-18T17:51:58.025414Z",
     "shell.execute_reply.started": "2022-03-18T09:50:58.14781Z"
    },
    "papermill": {
     "duration": 0.289722,
     "end_time": "2022-03-18T17:51:58.026251",
     "exception": false,
     "start_time": "2022-03-18T17:51:57.736529",
     "status": "completed"
    },
    "tags": []
   },
   "outputs": [
    {
     "data": {
      "text/plain": [
       "(array([ 5823,  5573,  1006, ..., 11905,  7136, 18723]),\n",
       " array([ 5037,  5320,  5233, ..., 15757, 19648,   969]),\n",
       " array([   30,    31,    32, ..., 22164, 22166, 22167]))"
      ]
     },
     "execution_count": 12,
     "metadata": {},
     "output_type": "execute_result"
    }
   ],
   "source": [
    "Train_Data.item_id.unique(), Test_Data.item_id.unique(), np.intersect1d(Train_Data.item_id, Test_Data.item_id)"
   ]
  },
  {
   "cell_type": "markdown",
   "id": "3701e8be",
   "metadata": {
    "papermill": {
     "duration": 0.033592,
     "end_time": "2022-03-18T17:51:58.094110",
     "exception": false,
     "start_time": "2022-03-18T17:51:58.060518",
     "status": "completed"
    },
    "tags": []
   },
   "source": [
    "**Lets Merge Training and Testing Dataset for EDA**"
   ]
  },
  {
   "cell_type": "code",
   "execution_count": 13,
   "id": "ca579a0a",
   "metadata": {
    "execution": {
     "iopub.execute_input": "2022-03-18T17:51:58.167647Z",
     "iopub.status.busy": "2022-03-18T17:51:58.166200Z",
     "iopub.status.idle": "2022-03-18T17:51:58.873457Z",
     "shell.execute_reply": "2022-03-18T17:51:58.874117Z",
     "shell.execute_reply.started": "2022-03-18T09:51:02.388458Z"
    },
    "papermill": {
     "duration": 0.74689,
     "end_time": "2022-03-18T17:51:58.874383",
     "exception": false,
     "start_time": "2022-03-18T17:51:58.127493",
     "status": "completed"
    },
    "tags": []
   },
   "outputs": [],
   "source": [
    "#Merged_Data = pd.merge(Train_Data, Test_Data, how = 'left')\n",
    "DF = pd.merge(Test_Data, Train_Data, on = ('shop_id', 'item_id'), how = 'left')"
   ]
  },
  {
   "cell_type": "code",
   "execution_count": 14,
   "id": "95d0024f",
   "metadata": {
    "execution": {
     "iopub.execute_input": "2022-03-18T17:51:58.964273Z",
     "iopub.status.busy": "2022-03-18T17:51:58.962081Z",
     "iopub.status.idle": "2022-03-18T17:51:58.969847Z",
     "shell.execute_reply": "2022-03-18T17:51:58.968646Z",
     "shell.execute_reply.started": "2022-03-18T09:51:16.457509Z"
    },
    "papermill": {
     "duration": 0.055163,
     "end_time": "2022-03-18T17:51:58.970134",
     "exception": false,
     "start_time": "2022-03-18T17:51:58.914971",
     "status": "completed"
    },
    "tags": []
   },
   "outputs": [
    {
     "name": "stdout",
     "output_type": "stream",
     "text": [
      "-----------\n",
      "Shape:  (1327235, 9)\n",
      "ID\n",
      "shop_id\n",
      "item_id\n",
      "date_block_num\n",
      "item_price\n",
      "item_cnt_day\n",
      "day\n",
      "month\n",
      "year\n"
     ]
    }
   ],
   "source": [
    "CL.Get_colname(DF)"
   ]
  },
  {
   "cell_type": "markdown",
   "id": "bd68a4dd",
   "metadata": {
    "papermill": {
     "duration": 0.036253,
     "end_time": "2022-03-18T17:51:59.051185",
     "exception": false,
     "start_time": "2022-03-18T17:51:59.014932",
     "status": "completed"
    },
    "tags": []
   },
   "source": [
    "**Merged Dataset**"
   ]
  },
  {
   "cell_type": "code",
   "execution_count": 15,
   "id": "80529fbb",
   "metadata": {
    "execution": {
     "iopub.execute_input": "2022-03-18T17:51:59.161081Z",
     "iopub.status.busy": "2022-03-18T17:51:59.160078Z",
     "iopub.status.idle": "2022-03-18T17:51:59.165296Z",
     "shell.execute_reply": "2022-03-18T17:51:59.164700Z",
     "shell.execute_reply.started": "2022-03-18T09:52:29.204637Z"
    },
    "papermill": {
     "duration": 0.075825,
     "end_time": "2022-03-18T17:51:59.165488",
     "exception": false,
     "start_time": "2022-03-18T17:51:59.089663",
     "status": "completed"
    },
    "tags": []
   },
   "outputs": [
    {
     "data": {
      "text/html": [
       "<div>\n",
       "<style scoped>\n",
       "    .dataframe tbody tr th:only-of-type {\n",
       "        vertical-align: middle;\n",
       "    }\n",
       "\n",
       "    .dataframe tbody tr th {\n",
       "        vertical-align: top;\n",
       "    }\n",
       "\n",
       "    .dataframe thead th {\n",
       "        text-align: right;\n",
       "    }\n",
       "</style>\n",
       "<table border=\"1\" class=\"dataframe\">\n",
       "  <thead>\n",
       "    <tr style=\"text-align: right;\">\n",
       "      <th></th>\n",
       "      <th>ID</th>\n",
       "      <th>shop_id</th>\n",
       "      <th>item_id</th>\n",
       "      <th>date_block_num</th>\n",
       "      <th>item_price</th>\n",
       "      <th>item_cnt_day</th>\n",
       "      <th>day</th>\n",
       "      <th>month</th>\n",
       "      <th>year</th>\n",
       "    </tr>\n",
       "  </thead>\n",
       "  <tbody>\n",
       "    <tr>\n",
       "      <th>0</th>\n",
       "      <td>0</td>\n",
       "      <td>5</td>\n",
       "      <td>5037</td>\n",
       "      <td>20.0</td>\n",
       "      <td>2599.0</td>\n",
       "      <td>1.0</td>\n",
       "      <td>21.0</td>\n",
       "      <td>9.0</td>\n",
       "      <td>2014.0</td>\n",
       "    </tr>\n",
       "    <tr>\n",
       "      <th>1</th>\n",
       "      <td>0</td>\n",
       "      <td>5</td>\n",
       "      <td>5037</td>\n",
       "      <td>22.0</td>\n",
       "      <td>2599.0</td>\n",
       "      <td>1.0</td>\n",
       "      <td>29.0</td>\n",
       "      <td>11.0</td>\n",
       "      <td>2014.0</td>\n",
       "    </tr>\n",
       "    <tr>\n",
       "      <th>2</th>\n",
       "      <td>0</td>\n",
       "      <td>5</td>\n",
       "      <td>5037</td>\n",
       "      <td>23.0</td>\n",
       "      <td>1999.0</td>\n",
       "      <td>1.0</td>\n",
       "      <td>20.0</td>\n",
       "      <td>12.0</td>\n",
       "      <td>2014.0</td>\n",
       "    </tr>\n",
       "    <tr>\n",
       "      <th>3</th>\n",
       "      <td>0</td>\n",
       "      <td>5</td>\n",
       "      <td>5037</td>\n",
       "      <td>23.0</td>\n",
       "      <td>1999.0</td>\n",
       "      <td>1.0</td>\n",
       "      <td>28.0</td>\n",
       "      <td>12.0</td>\n",
       "      <td>2014.0</td>\n",
       "    </tr>\n",
       "    <tr>\n",
       "      <th>4</th>\n",
       "      <td>0</td>\n",
       "      <td>5</td>\n",
       "      <td>5037</td>\n",
       "      <td>24.0</td>\n",
       "      <td>1999.0</td>\n",
       "      <td>1.0</td>\n",
       "      <td>2.0</td>\n",
       "      <td>1.0</td>\n",
       "      <td>2015.0</td>\n",
       "    </tr>\n",
       "    <tr>\n",
       "      <th>5</th>\n",
       "      <td>0</td>\n",
       "      <td>5</td>\n",
       "      <td>5037</td>\n",
       "      <td>24.0</td>\n",
       "      <td>1999.0</td>\n",
       "      <td>1.0</td>\n",
       "      <td>7.0</td>\n",
       "      <td>1.0</td>\n",
       "      <td>2015.0</td>\n",
       "    </tr>\n",
       "    <tr>\n",
       "      <th>6</th>\n",
       "      <td>0</td>\n",
       "      <td>5</td>\n",
       "      <td>5037</td>\n",
       "      <td>28.0</td>\n",
       "      <td>1299.0</td>\n",
       "      <td>1.0</td>\n",
       "      <td>29.0</td>\n",
       "      <td>5.0</td>\n",
       "      <td>2015.0</td>\n",
       "    </tr>\n",
       "    <tr>\n",
       "      <th>7</th>\n",
       "      <td>0</td>\n",
       "      <td>5</td>\n",
       "      <td>5037</td>\n",
       "      <td>29.0</td>\n",
       "      <td>1499.0</td>\n",
       "      <td>1.0</td>\n",
       "      <td>28.0</td>\n",
       "      <td>6.0</td>\n",
       "      <td>2015.0</td>\n",
       "    </tr>\n",
       "    <tr>\n",
       "      <th>8</th>\n",
       "      <td>0</td>\n",
       "      <td>5</td>\n",
       "      <td>5037</td>\n",
       "      <td>30.0</td>\n",
       "      <td>1499.0</td>\n",
       "      <td>1.0</td>\n",
       "      <td>5.0</td>\n",
       "      <td>7.0</td>\n",
       "      <td>2015.0</td>\n",
       "    </tr>\n",
       "    <tr>\n",
       "      <th>9</th>\n",
       "      <td>0</td>\n",
       "      <td>5</td>\n",
       "      <td>5037</td>\n",
       "      <td>31.0</td>\n",
       "      <td>1499.0</td>\n",
       "      <td>1.0</td>\n",
       "      <td>14.0</td>\n",
       "      <td>8.0</td>\n",
       "      <td>2015.0</td>\n",
       "    </tr>\n",
       "    <tr>\n",
       "      <th>10</th>\n",
       "      <td>0</td>\n",
       "      <td>5</td>\n",
       "      <td>5037</td>\n",
       "      <td>31.0</td>\n",
       "      <td>749.5</td>\n",
       "      <td>1.0</td>\n",
       "      <td>20.0</td>\n",
       "      <td>8.0</td>\n",
       "      <td>2015.0</td>\n",
       "    </tr>\n",
       "    <tr>\n",
       "      <th>11</th>\n",
       "      <td>0</td>\n",
       "      <td>5</td>\n",
       "      <td>5037</td>\n",
       "      <td>31.0</td>\n",
       "      <td>749.0</td>\n",
       "      <td>1.0</td>\n",
       "      <td>31.0</td>\n",
       "      <td>8.0</td>\n",
       "      <td>2015.0</td>\n",
       "    </tr>\n",
       "    <tr>\n",
       "      <th>12</th>\n",
       "      <td>0</td>\n",
       "      <td>5</td>\n",
       "      <td>5037</td>\n",
       "      <td>32.0</td>\n",
       "      <td>749.5</td>\n",
       "      <td>1.0</td>\n",
       "      <td>5.0</td>\n",
       "      <td>9.0</td>\n",
       "      <td>2015.0</td>\n",
       "    </tr>\n",
       "    <tr>\n",
       "      <th>13</th>\n",
       "      <td>1</td>\n",
       "      <td>5</td>\n",
       "      <td>5320</td>\n",
       "      <td>NaN</td>\n",
       "      <td>NaN</td>\n",
       "      <td>NaN</td>\n",
       "      <td>NaN</td>\n",
       "      <td>NaN</td>\n",
       "      <td>NaN</td>\n",
       "    </tr>\n",
       "    <tr>\n",
       "      <th>14</th>\n",
       "      <td>2</td>\n",
       "      <td>5</td>\n",
       "      <td>5233</td>\n",
       "      <td>28.0</td>\n",
       "      <td>1199.0</td>\n",
       "      <td>2.0</td>\n",
       "      <td>17.0</td>\n",
       "      <td>5.0</td>\n",
       "      <td>2015.0</td>\n",
       "    </tr>\n",
       "    <tr>\n",
       "      <th>15</th>\n",
       "      <td>2</td>\n",
       "      <td>5</td>\n",
       "      <td>5233</td>\n",
       "      <td>28.0</td>\n",
       "      <td>599.0</td>\n",
       "      <td>1.0</td>\n",
       "      <td>29.0</td>\n",
       "      <td>5.0</td>\n",
       "      <td>2015.0</td>\n",
       "    </tr>\n",
       "    <tr>\n",
       "      <th>16</th>\n",
       "      <td>2</td>\n",
       "      <td>5</td>\n",
       "      <td>5233</td>\n",
       "      <td>29.0</td>\n",
       "      <td>599.0</td>\n",
       "      <td>1.0</td>\n",
       "      <td>9.0</td>\n",
       "      <td>6.0</td>\n",
       "      <td>2015.0</td>\n",
       "    </tr>\n",
       "    <tr>\n",
       "      <th>17</th>\n",
       "      <td>2</td>\n",
       "      <td>5</td>\n",
       "      <td>5233</td>\n",
       "      <td>29.0</td>\n",
       "      <td>599.0</td>\n",
       "      <td>1.0</td>\n",
       "      <td>20.0</td>\n",
       "      <td>6.0</td>\n",
       "      <td>2015.0</td>\n",
       "    </tr>\n",
       "    <tr>\n",
       "      <th>18</th>\n",
       "      <td>2</td>\n",
       "      <td>5</td>\n",
       "      <td>5233</td>\n",
       "      <td>31.0</td>\n",
       "      <td>599.0</td>\n",
       "      <td>1.0</td>\n",
       "      <td>25.0</td>\n",
       "      <td>8.0</td>\n",
       "      <td>2015.0</td>\n",
       "    </tr>\n",
       "    <tr>\n",
       "      <th>19</th>\n",
       "      <td>2</td>\n",
       "      <td>5</td>\n",
       "      <td>5233</td>\n",
       "      <td>32.0</td>\n",
       "      <td>599.0</td>\n",
       "      <td>1.0</td>\n",
       "      <td>1.0</td>\n",
       "      <td>9.0</td>\n",
       "      <td>2015.0</td>\n",
       "    </tr>\n",
       "    <tr>\n",
       "      <th>20</th>\n",
       "      <td>2</td>\n",
       "      <td>5</td>\n",
       "      <td>5233</td>\n",
       "      <td>32.0</td>\n",
       "      <td>1199.0</td>\n",
       "      <td>1.0</td>\n",
       "      <td>15.0</td>\n",
       "      <td>9.0</td>\n",
       "      <td>2015.0</td>\n",
       "    </tr>\n",
       "    <tr>\n",
       "      <th>21</th>\n",
       "      <td>2</td>\n",
       "      <td>5</td>\n",
       "      <td>5233</td>\n",
       "      <td>32.0</td>\n",
       "      <td>1199.0</td>\n",
       "      <td>1.0</td>\n",
       "      <td>26.0</td>\n",
       "      <td>9.0</td>\n",
       "      <td>2015.0</td>\n",
       "    </tr>\n",
       "    <tr>\n",
       "      <th>22</th>\n",
       "      <td>2</td>\n",
       "      <td>5</td>\n",
       "      <td>5233</td>\n",
       "      <td>33.0</td>\n",
       "      <td>1199.0</td>\n",
       "      <td>1.0</td>\n",
       "      <td>8.0</td>\n",
       "      <td>10.0</td>\n",
       "      <td>2015.0</td>\n",
       "    </tr>\n",
       "    <tr>\n",
       "      <th>23</th>\n",
       "      <td>3</td>\n",
       "      <td>5</td>\n",
       "      <td>5232</td>\n",
       "      <td>31.0</td>\n",
       "      <td>599.0</td>\n",
       "      <td>1.0</td>\n",
       "      <td>28.0</td>\n",
       "      <td>8.0</td>\n",
       "      <td>2015.0</td>\n",
       "    </tr>\n",
       "    <tr>\n",
       "      <th>24</th>\n",
       "      <td>4</td>\n",
       "      <td>5</td>\n",
       "      <td>5268</td>\n",
       "      <td>NaN</td>\n",
       "      <td>NaN</td>\n",
       "      <td>NaN</td>\n",
       "      <td>NaN</td>\n",
       "      <td>NaN</td>\n",
       "      <td>NaN</td>\n",
       "    </tr>\n",
       "    <tr>\n",
       "      <th>25</th>\n",
       "      <td>5</td>\n",
       "      <td>5</td>\n",
       "      <td>5039</td>\n",
       "      <td>20.0</td>\n",
       "      <td>2599.0</td>\n",
       "      <td>1.0</td>\n",
       "      <td>12.0</td>\n",
       "      <td>9.0</td>\n",
       "      <td>2014.0</td>\n",
       "    </tr>\n",
       "    <tr>\n",
       "      <th>26</th>\n",
       "      <td>5</td>\n",
       "      <td>5</td>\n",
       "      <td>5039</td>\n",
       "      <td>20.0</td>\n",
       "      <td>2599.0</td>\n",
       "      <td>1.0</td>\n",
       "      <td>17.0</td>\n",
       "      <td>9.0</td>\n",
       "      <td>2014.0</td>\n",
       "    </tr>\n",
       "    <tr>\n",
       "      <th>27</th>\n",
       "      <td>5</td>\n",
       "      <td>5</td>\n",
       "      <td>5039</td>\n",
       "      <td>23.0</td>\n",
       "      <td>2599.0</td>\n",
       "      <td>1.0</td>\n",
       "      <td>13.0</td>\n",
       "      <td>12.0</td>\n",
       "      <td>2014.0</td>\n",
       "    </tr>\n",
       "    <tr>\n",
       "      <th>28</th>\n",
       "      <td>5</td>\n",
       "      <td>5</td>\n",
       "      <td>5039</td>\n",
       "      <td>23.0</td>\n",
       "      <td>1999.0</td>\n",
       "      <td>1.0</td>\n",
       "      <td>19.0</td>\n",
       "      <td>12.0</td>\n",
       "      <td>2014.0</td>\n",
       "    </tr>\n",
       "    <tr>\n",
       "      <th>29</th>\n",
       "      <td>5</td>\n",
       "      <td>5</td>\n",
       "      <td>5039</td>\n",
       "      <td>23.0</td>\n",
       "      <td>1999.0</td>\n",
       "      <td>1.0</td>\n",
       "      <td>27.0</td>\n",
       "      <td>12.0</td>\n",
       "      <td>2014.0</td>\n",
       "    </tr>\n",
       "  </tbody>\n",
       "</table>\n",
       "</div>"
      ],
      "text/plain": [
       "    ID  shop_id  item_id  date_block_num  item_price  item_cnt_day   day  \\\n",
       "0    0        5     5037            20.0      2599.0           1.0  21.0   \n",
       "1    0        5     5037            22.0      2599.0           1.0  29.0   \n",
       "2    0        5     5037            23.0      1999.0           1.0  20.0   \n",
       "3    0        5     5037            23.0      1999.0           1.0  28.0   \n",
       "4    0        5     5037            24.0      1999.0           1.0   2.0   \n",
       "5    0        5     5037            24.0      1999.0           1.0   7.0   \n",
       "6    0        5     5037            28.0      1299.0           1.0  29.0   \n",
       "7    0        5     5037            29.0      1499.0           1.0  28.0   \n",
       "8    0        5     5037            30.0      1499.0           1.0   5.0   \n",
       "9    0        5     5037            31.0      1499.0           1.0  14.0   \n",
       "10   0        5     5037            31.0       749.5           1.0  20.0   \n",
       "11   0        5     5037            31.0       749.0           1.0  31.0   \n",
       "12   0        5     5037            32.0       749.5           1.0   5.0   \n",
       "13   1        5     5320             NaN         NaN           NaN   NaN   \n",
       "14   2        5     5233            28.0      1199.0           2.0  17.0   \n",
       "15   2        5     5233            28.0       599.0           1.0  29.0   \n",
       "16   2        5     5233            29.0       599.0           1.0   9.0   \n",
       "17   2        5     5233            29.0       599.0           1.0  20.0   \n",
       "18   2        5     5233            31.0       599.0           1.0  25.0   \n",
       "19   2        5     5233            32.0       599.0           1.0   1.0   \n",
       "20   2        5     5233            32.0      1199.0           1.0  15.0   \n",
       "21   2        5     5233            32.0      1199.0           1.0  26.0   \n",
       "22   2        5     5233            33.0      1199.0           1.0   8.0   \n",
       "23   3        5     5232            31.0       599.0           1.0  28.0   \n",
       "24   4        5     5268             NaN         NaN           NaN   NaN   \n",
       "25   5        5     5039            20.0      2599.0           1.0  12.0   \n",
       "26   5        5     5039            20.0      2599.0           1.0  17.0   \n",
       "27   5        5     5039            23.0      2599.0           1.0  13.0   \n",
       "28   5        5     5039            23.0      1999.0           1.0  19.0   \n",
       "29   5        5     5039            23.0      1999.0           1.0  27.0   \n",
       "\n",
       "    month    year  \n",
       "0     9.0  2014.0  \n",
       "1    11.0  2014.0  \n",
       "2    12.0  2014.0  \n",
       "3    12.0  2014.0  \n",
       "4     1.0  2015.0  \n",
       "5     1.0  2015.0  \n",
       "6     5.0  2015.0  \n",
       "7     6.0  2015.0  \n",
       "8     7.0  2015.0  \n",
       "9     8.0  2015.0  \n",
       "10    8.0  2015.0  \n",
       "11    8.0  2015.0  \n",
       "12    9.0  2015.0  \n",
       "13    NaN     NaN  \n",
       "14    5.0  2015.0  \n",
       "15    5.0  2015.0  \n",
       "16    6.0  2015.0  \n",
       "17    6.0  2015.0  \n",
       "18    8.0  2015.0  \n",
       "19    9.0  2015.0  \n",
       "20    9.0  2015.0  \n",
       "21    9.0  2015.0  \n",
       "22   10.0  2015.0  \n",
       "23    8.0  2015.0  \n",
       "24    NaN     NaN  \n",
       "25    9.0  2014.0  \n",
       "26    9.0  2014.0  \n",
       "27   12.0  2014.0  \n",
       "28   12.0  2014.0  \n",
       "29   12.0  2014.0  "
      ]
     },
     "execution_count": 15,
     "metadata": {},
     "output_type": "execute_result"
    }
   ],
   "source": [
    "DF.head(30)"
   ]
  },
  {
   "cell_type": "markdown",
   "id": "f3f1a101",
   "metadata": {
    "papermill": {
     "duration": 0.034491,
     "end_time": "2022-03-18T17:51:59.236513",
     "exception": false,
     "start_time": "2022-03-18T17:51:59.202022",
     "status": "completed"
    },
    "tags": []
   },
   "source": [
    "# Exploratory Data Analysis"
   ]
  },
  {
   "cell_type": "markdown",
   "id": "d52270e4",
   "metadata": {
    "papermill": {
     "duration": 0.034554,
     "end_time": "2022-03-18T17:51:59.307310",
     "exception": false,
     "start_time": "2022-03-18T17:51:59.272756",
     "status": "completed"
    },
    "tags": []
   },
   "source": [
    "**1. Data Cleaning**"
   ]
  },
  {
   "cell_type": "code",
   "execution_count": 16,
   "id": "cd48f888",
   "metadata": {
    "execution": {
     "iopub.execute_input": "2022-03-18T17:51:59.383881Z",
     "iopub.status.busy": "2022-03-18T17:51:59.382590Z",
     "iopub.status.idle": "2022-03-18T17:51:59.442568Z",
     "shell.execute_reply": "2022-03-18T17:51:59.441985Z"
    },
    "papermill": {
     "duration": 0.100116,
     "end_time": "2022-03-18T17:51:59.442870",
     "exception": false,
     "start_time": "2022-03-18T17:51:59.342754",
     "status": "completed"
    },
    "tags": []
   },
   "outputs": [
    {
     "data": {
      "text/html": [
       "<div>\n",
       "<style scoped>\n",
       "    .dataframe tbody tr th:only-of-type {\n",
       "        vertical-align: middle;\n",
       "    }\n",
       "\n",
       "    .dataframe tbody tr th {\n",
       "        vertical-align: top;\n",
       "    }\n",
       "\n",
       "    .dataframe thead th {\n",
       "        text-align: right;\n",
       "    }\n",
       "</style>\n",
       "<table border=\"1\" class=\"dataframe\">\n",
       "  <thead>\n",
       "    <tr style=\"text-align: right;\">\n",
       "      <th></th>\n",
       "      <th>NaN values</th>\n",
       "      <th>NaN percent</th>\n",
       "    </tr>\n",
       "  </thead>\n",
       "  <tbody>\n",
       "    <tr>\n",
       "      <th>ID</th>\n",
       "      <td>0</td>\n",
       "      <td>0.000000</td>\n",
       "    </tr>\n",
       "    <tr>\n",
       "      <th>shop_id</th>\n",
       "      <td>0</td>\n",
       "      <td>0.000000</td>\n",
       "    </tr>\n",
       "    <tr>\n",
       "      <th>item_id</th>\n",
       "      <td>0</td>\n",
       "      <td>0.000000</td>\n",
       "    </tr>\n",
       "    <tr>\n",
       "      <th>date_block_num</th>\n",
       "      <td>102796</td>\n",
       "      <td>7.745124</td>\n",
       "    </tr>\n",
       "    <tr>\n",
       "      <th>item_price</th>\n",
       "      <td>102796</td>\n",
       "      <td>7.745124</td>\n",
       "    </tr>\n",
       "    <tr>\n",
       "      <th>item_cnt_day</th>\n",
       "      <td>102796</td>\n",
       "      <td>7.745124</td>\n",
       "    </tr>\n",
       "    <tr>\n",
       "      <th>day</th>\n",
       "      <td>102796</td>\n",
       "      <td>7.745124</td>\n",
       "    </tr>\n",
       "    <tr>\n",
       "      <th>month</th>\n",
       "      <td>102796</td>\n",
       "      <td>7.745124</td>\n",
       "    </tr>\n",
       "    <tr>\n",
       "      <th>year</th>\n",
       "      <td>102796</td>\n",
       "      <td>7.745124</td>\n",
       "    </tr>\n",
       "  </tbody>\n",
       "</table>\n",
       "</div>"
      ],
      "text/plain": [
       "                NaN values  NaN percent\n",
       "ID                       0     0.000000\n",
       "shop_id                  0     0.000000\n",
       "item_id                  0     0.000000\n",
       "date_block_num      102796     7.745124\n",
       "item_price          102796     7.745124\n",
       "item_cnt_day        102796     7.745124\n",
       "day                 102796     7.745124\n",
       "month               102796     7.745124\n",
       "year                102796     7.745124"
      ]
     },
     "execution_count": 16,
     "metadata": {},
     "output_type": "execute_result"
    }
   ],
   "source": [
    "# Handling Null values\n",
    "CL.find_NaN_V(DF)"
   ]
  },
  {
   "cell_type": "code",
   "execution_count": 17,
   "id": "969b2a3a",
   "metadata": {
    "execution": {
     "iopub.execute_input": "2022-03-18T17:51:59.520606Z",
     "iopub.status.busy": "2022-03-18T17:51:59.519539Z",
     "iopub.status.idle": "2022-03-18T17:51:59.522771Z",
     "shell.execute_reply": "2022-03-18T17:51:59.522057Z",
     "shell.execute_reply.started": "2022-03-18T09:53:53.364491Z"
    },
    "papermill": {
     "duration": 0.044036,
     "end_time": "2022-03-18T17:51:59.522937",
     "exception": false,
     "start_time": "2022-03-18T17:51:59.478901",
     "status": "completed"
    },
    "tags": []
   },
   "outputs": [],
   "source": [
    "#Handling duplicated values"
   ]
  },
  {
   "cell_type": "code",
   "execution_count": 18,
   "id": "2542ad60",
   "metadata": {
    "execution": {
     "iopub.execute_input": "2022-03-18T17:51:59.605882Z",
     "iopub.status.busy": "2022-03-18T17:51:59.604882Z",
     "iopub.status.idle": "2022-03-18T17:51:59.608809Z",
     "shell.execute_reply": "2022-03-18T17:51:59.608060Z"
    },
    "papermill": {
     "duration": 0.047902,
     "end_time": "2022-03-18T17:51:59.608975",
     "exception": false,
     "start_time": "2022-03-18T17:51:59.561073",
     "status": "completed"
    },
    "tags": []
   },
   "outputs": [],
   "source": [
    "# Handling Outliers"
   ]
  },
  {
   "cell_type": "markdown",
   "id": "e53174cb",
   "metadata": {
    "papermill": {
     "duration": 0.036054,
     "end_time": "2022-03-18T17:51:59.680893",
     "exception": false,
     "start_time": "2022-03-18T17:51:59.644839",
     "status": "completed"
    },
    "tags": []
   },
   "source": [
    "**2. Data preprocessing**"
   ]
  },
  {
   "cell_type": "code",
   "execution_count": 19,
   "id": "c6a68830",
   "metadata": {
    "execution": {
     "iopub.execute_input": "2022-03-18T17:51:59.758474Z",
     "iopub.status.busy": "2022-03-18T17:51:59.757794Z",
     "iopub.status.idle": "2022-03-18T17:51:59.760315Z",
     "shell.execute_reply": "2022-03-18T17:51:59.759634Z"
    },
    "papermill": {
     "duration": 0.042761,
     "end_time": "2022-03-18T17:51:59.760495",
     "exception": false,
     "start_time": "2022-03-18T17:51:59.717734",
     "status": "completed"
    },
    "tags": []
   },
   "outputs": [],
   "source": [
    "# Normalization"
   ]
  },
  {
   "cell_type": "code",
   "execution_count": 20,
   "id": "c5b7bf0d",
   "metadata": {
    "execution": {
     "iopub.execute_input": "2022-03-18T17:51:59.840416Z",
     "iopub.status.busy": "2022-03-18T17:51:59.839345Z",
     "iopub.status.idle": "2022-03-18T17:51:59.841651Z",
     "shell.execute_reply": "2022-03-18T17:51:59.842154Z"
    },
    "papermill": {
     "duration": 0.044626,
     "end_time": "2022-03-18T17:51:59.842351",
     "exception": false,
     "start_time": "2022-03-18T17:51:59.797725",
     "status": "completed"
    },
    "tags": []
   },
   "outputs": [],
   "source": [
    "# "
   ]
  },
  {
   "cell_type": "markdown",
   "id": "c9866d25",
   "metadata": {
    "papermill": {
     "duration": 0.036709,
     "end_time": "2022-03-18T17:51:59.916661",
     "exception": false,
     "start_time": "2022-03-18T17:51:59.879952",
     "status": "completed"
    },
    "tags": []
   },
   "source": [
    "# Train & Test split"
   ]
  },
  {
   "cell_type": "code",
   "execution_count": null,
   "id": "a70c8dd6",
   "metadata": {
    "papermill": {
     "duration": 0.035714,
     "end_time": "2022-03-18T17:51:59.988555",
     "exception": false,
     "start_time": "2022-03-18T17:51:59.952841",
     "status": "completed"
    },
    "tags": []
   },
   "outputs": [],
   "source": []
  }
 ],
 "metadata": {
  "kernelspec": {
   "display_name": "Python 3",
   "language": "python",
   "name": "python3"
  },
  "language_info": {
   "codemirror_mode": {
    "name": "ipython",
    "version": 3
   },
   "file_extension": ".py",
   "mimetype": "text/x-python",
   "name": "python",
   "nbconvert_exporter": "python",
   "pygments_lexer": "ipython3",
   "version": "3.7.12"
  },
  "papermill": {
   "default_parameters": {},
   "duration": 22.596939,
   "end_time": "2022-03-18T17:52:00.839355",
   "environment_variables": {},
   "exception": null,
   "input_path": "__notebook__.ipynb",
   "output_path": "__notebook__.ipynb",
   "parameters": {},
   "start_time": "2022-03-18T17:51:38.242416",
   "version": "2.3.3"
  }
 },
 "nbformat": 4,
 "nbformat_minor": 5
}
