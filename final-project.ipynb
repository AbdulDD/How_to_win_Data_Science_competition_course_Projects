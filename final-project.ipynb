{
 "cells": [
  {
   "cell_type": "markdown",
   "id": "898702e9",
   "metadata": {
    "papermill": {
     "duration": 0.029371,
     "end_time": "2022-03-15T18:24:48.665669",
     "exception": false,
     "start_time": "2022-03-15T18:24:48.636298",
     "status": "completed"
    },
    "tags": []
   },
   "source": [
    "# Goal:\n",
    "1. The task is to forecast the sales for every item in every shop in the testing period.\n",
    "2. To apply different strategies and learn."
   ]
  },
  {
   "cell_type": "code",
   "execution_count": 1,
   "id": "36352015",
   "metadata": {
    "execution": {
     "iopub.execute_input": "2022-03-15T18:24:48.727501Z",
     "iopub.status.busy": "2022-03-15T18:24:48.726168Z",
     "iopub.status.idle": "2022-03-15T18:24:49.851400Z",
     "shell.execute_reply": "2022-03-15T18:24:49.850583Z",
     "shell.execute_reply.started": "2022-03-15T18:22:27.184930Z"
    },
    "papermill": {
     "duration": 1.157687,
     "end_time": "2022-03-15T18:24:49.851588",
     "exception": false,
     "start_time": "2022-03-15T18:24:48.693901",
     "status": "completed"
    },
    "tags": []
   },
   "outputs": [],
   "source": [
    "# Importing required libraries\n",
    "import pandas as pd\n",
    "\n",
    "# Visualization libraries\n",
    "import matplotlib.pyplot as plt\n",
    "import seaborn as sns\n",
    "\n",
    "import datetime as dt"
   ]
  },
  {
   "cell_type": "code",
   "execution_count": 2,
   "id": "82ac5d86",
   "metadata": {
    "execution": {
     "iopub.execute_input": "2022-03-15T18:24:49.912259Z",
     "iopub.status.busy": "2022-03-15T18:24:49.911571Z",
     "iopub.status.idle": "2022-03-15T18:24:49.924078Z",
     "shell.execute_reply": "2022-03-15T18:24:49.924736Z",
     "shell.execute_reply.started": "2022-03-15T18:23:32.305269Z"
    },
    "papermill": {
     "duration": 0.045364,
     "end_time": "2022-03-15T18:24:49.924909",
     "exception": false,
     "start_time": "2022-03-15T18:24:49.879545",
     "status": "completed"
    },
    "tags": []
   },
   "outputs": [],
   "source": [
    "# Importing required functions\n",
    "\n",
    "# Data time formula\n",
    "def Datetimeset(DF):\n",
    "    \n",
    "    \"\"\"\n",
    "    Takes DataFrame and convert sting feature named \"date\" to datetime feature and also create \n",
    "    three saperate columns namely day, month, year.\n",
    "    \"\"\"\n",
    "    \n",
    "    import datetime as dt\n",
    "    \n",
    "    DF['date'] = pd.to_datetime(DF['date'], format='%d.%m.%Y')\n",
    "    \n",
    "    DF.sort_values(by = 'date', inplace = True)\n",
    "    DF['day'] = DF['date'].dt.day\n",
    "    DF['month'] = DF['date'].dt.month\n",
    "    DF['year'] = DF['date'].dt.year\n",
    "    \n",
    "    DF.drop('date', axis=1, inplace=True)\n",
    "    \n",
    "    return DF\n",
    "\n",
    "\n",
    "# Lets find percentage of share\n",
    "def Percent(Tr_Observations, Test_Observations):\n",
    "    \n",
    "    Tr_Obs_percent = Tr_Observations/(Tr_Observations + Test_Observations)\n",
    "    Test_Obs_percent = Test_Observations/(Tr_Observations + Test_Observations)\n",
    "    print('Training Dataset percentage:', Tr_Obs_percent)\n",
    "    print('Testing Dataset percentage:', Test_Obs_percent)\n",
    "\n",
    "# Let's find Null values\n",
    "def find_NaN_V(DF):\n",
    "    Nullvalues = pd.DataFrame({'NaN values': DF.isnull().sum(), 'NaN percent': DF.isnull().mean()*100})\n",
    "    return Nullvalues\n",
    "\n",
    "# Lets find duplicated values and remove them\n",
    "def Drop_duplicate_value(DF):\n",
    "    print('Duplcated observations:', DF.duplicated().sum())\n",
    "    Droped_value_count = DF.duplicated().sum()\n",
    "    DF = DF.drop_duplicates()\n",
    "    \n",
    "    print('Droped observations:', Droped_value_count)\n",
    "    print('New Shape:', DF.shape)\n",
    "    \n",
    "\n",
    "# Lets do linear regression\n",
    "def Linear_Reg(Tr_Exmpls, Tr_lbls, Val_Exmpls, Val_lbls):\n",
    "    \n",
    "    from sklearn.linear_model import LinearRegression\n",
    "    from sklearn.metrics import r2_score\n",
    "    \n",
    "    model = LinearRegression().fit(Tr_Exmpls, Tr_lbls)\n",
    "    print('Training Score:', model.score(Tr_Exmpls, Tr_lbls))\n",
    "    print('Validation Score:', model.score(Val_Exmpls, Val_lbls))\n"
   ]
  },
  {
   "cell_type": "code",
   "execution_count": 3,
   "id": "f72365ac",
   "metadata": {
    "execution": {
     "iopub.execute_input": "2022-03-15T18:24:49.984455Z",
     "iopub.status.busy": "2022-03-15T18:24:49.983747Z",
     "iopub.status.idle": "2022-03-15T18:24:52.683065Z",
     "shell.execute_reply": "2022-03-15T18:24:52.683636Z",
     "shell.execute_reply.started": "2022-03-15T18:22:27.222781Z"
    },
    "papermill": {
     "duration": 2.731932,
     "end_time": "2022-03-15T18:24:52.683844",
     "exception": false,
     "start_time": "2022-03-15T18:24:49.951912",
     "status": "completed"
    },
    "tags": []
   },
   "outputs": [],
   "source": [
    "# Loading Data\n",
    "Train_Data = pd.read_csv(\"../input/competitive-data-science-predict-future-sales/sales_train.csv\")\n",
    "Test_Data = pd.read_csv(\"../input/competitive-data-science-predict-future-sales/test.csv\")\n",
    "sample_sub = pd.read_csv(\"../input/competitive-data-science-predict-future-sales/sample_submission.csv\")"
   ]
  },
  {
   "cell_type": "markdown",
   "id": "5a064737",
   "metadata": {
    "papermill": {
     "duration": 0.027302,
     "end_time": "2022-03-15T18:24:52.738682",
     "exception": false,
     "start_time": "2022-03-15T18:24:52.711380",
     "status": "completed"
    },
    "tags": []
   },
   "source": [
    "# Understanding Data"
   ]
  },
  {
   "cell_type": "code",
   "execution_count": 4,
   "id": "ffb2411b",
   "metadata": {
    "execution": {
     "iopub.execute_input": "2022-03-15T18:24:52.803401Z",
     "iopub.status.busy": "2022-03-15T18:24:52.802482Z",
     "iopub.status.idle": "2022-03-15T18:24:52.815635Z",
     "shell.execute_reply": "2022-03-15T18:24:52.816129Z",
     "shell.execute_reply.started": "2022-03-15T18:22:28.342602Z"
    },
    "jupyter": {
     "source_hidden": true
    },
    "papermill": {
     "duration": 0.050598,
     "end_time": "2022-03-15T18:24:52.816335",
     "exception": false,
     "start_time": "2022-03-15T18:24:52.765737",
     "status": "completed"
    },
    "tags": []
   },
   "outputs": [
    {
     "data": {
      "text/html": [
       "<div>\n",
       "<style scoped>\n",
       "    .dataframe tbody tr th:only-of-type {\n",
       "        vertical-align: middle;\n",
       "    }\n",
       "\n",
       "    .dataframe tbody tr th {\n",
       "        vertical-align: top;\n",
       "    }\n",
       "\n",
       "    .dataframe thead th {\n",
       "        text-align: right;\n",
       "    }\n",
       "</style>\n",
       "<table border=\"1\" class=\"dataframe\">\n",
       "  <thead>\n",
       "    <tr style=\"text-align: right;\">\n",
       "      <th></th>\n",
       "      <th>ID</th>\n",
       "      <th>item_cnt_month</th>\n",
       "    </tr>\n",
       "  </thead>\n",
       "  <tbody>\n",
       "    <tr>\n",
       "      <th>0</th>\n",
       "      <td>0</td>\n",
       "      <td>0.5</td>\n",
       "    </tr>\n",
       "    <tr>\n",
       "      <th>1</th>\n",
       "      <td>1</td>\n",
       "      <td>0.5</td>\n",
       "    </tr>\n",
       "    <tr>\n",
       "      <th>2</th>\n",
       "      <td>2</td>\n",
       "      <td>0.5</td>\n",
       "    </tr>\n",
       "    <tr>\n",
       "      <th>3</th>\n",
       "      <td>3</td>\n",
       "      <td>0.5</td>\n",
       "    </tr>\n",
       "    <tr>\n",
       "      <th>4</th>\n",
       "      <td>4</td>\n",
       "      <td>0.5</td>\n",
       "    </tr>\n",
       "  </tbody>\n",
       "</table>\n",
       "</div>"
      ],
      "text/plain": [
       "   ID  item_cnt_month\n",
       "0   0             0.5\n",
       "1   1             0.5\n",
       "2   2             0.5\n",
       "3   3             0.5\n",
       "4   4             0.5"
      ]
     },
     "execution_count": 4,
     "metadata": {},
     "output_type": "execute_result"
    }
   ],
   "source": [
    "sample_sub.head()"
   ]
  },
  {
   "cell_type": "code",
   "execution_count": 5,
   "id": "48ccee27",
   "metadata": {
    "execution": {
     "iopub.execute_input": "2022-03-15T18:24:52.878555Z",
     "iopub.status.busy": "2022-03-15T18:24:52.877865Z",
     "iopub.status.idle": "2022-03-15T18:24:52.880464Z",
     "shell.execute_reply": "2022-03-15T18:24:52.880940Z",
     "shell.execute_reply.started": "2022-03-15T18:22:28.353745Z"
    },
    "papermill": {
     "duration": 0.036304,
     "end_time": "2022-03-15T18:24:52.881102",
     "exception": false,
     "start_time": "2022-03-15T18:24:52.844798",
     "status": "completed"
    },
    "tags": []
   },
   "outputs": [
    {
     "data": {
      "text/plain": [
       "((2935849, 6), (214200, 3))"
      ]
     },
     "execution_count": 5,
     "metadata": {},
     "output_type": "execute_result"
    }
   ],
   "source": [
    "# Understanding Train Data\n",
    "# Shape of Data\n",
    "Train_Data.shape, Test_Data.shape\n",
    "\n",
    "# Info of Data\n",
    "#Train_Data.info(), Test_Data.info()\n",
    "\n",
    "# Print the Data\n",
    "#Train_Data.head()\n",
    "#Test_Data.head()"
   ]
  },
  {
   "cell_type": "markdown",
   "id": "872f52e8",
   "metadata": {
    "papermill": {
     "duration": 0.027032,
     "end_time": "2022-03-15T18:24:52.935276",
     "exception": false,
     "start_time": "2022-03-15T18:24:52.908244",
     "status": "completed"
    },
    "tags": []
   },
   "source": [
    "**Exploring the Train Dataset**"
   ]
  },
  {
   "cell_type": "code",
   "execution_count": 6,
   "id": "bbd9bc79",
   "metadata": {
    "execution": {
     "iopub.execute_input": "2022-03-15T18:24:53.001447Z",
     "iopub.status.busy": "2022-03-15T18:24:53.000488Z",
     "iopub.status.idle": "2022-03-15T18:24:53.048884Z",
     "shell.execute_reply": "2022-03-15T18:24:53.048328Z",
     "shell.execute_reply.started": "2022-03-15T18:22:28.375078Z"
    },
    "papermill": {
     "duration": 0.084978,
     "end_time": "2022-03-15T18:24:53.049018",
     "exception": false,
     "start_time": "2022-03-15T18:24:52.964040",
     "status": "completed"
    },
    "tags": []
   },
   "outputs": [
    {
     "data": {
      "text/plain": [
       "(60, 21807)"
      ]
     },
     "execution_count": 6,
     "metadata": {},
     "output_type": "execute_result"
    }
   ],
   "source": [
    "# Unique no. of IDs\n",
    "Train_Data['shop_id'].nunique(), Train_Data['item_id'].nunique()"
   ]
  },
  {
   "cell_type": "code",
   "execution_count": 7,
   "id": "0c1447ec",
   "metadata": {
    "execution": {
     "iopub.execute_input": "2022-03-15T18:24:53.287102Z",
     "iopub.status.busy": "2022-03-15T18:24:53.286113Z",
     "iopub.status.idle": "2022-03-15T18:24:55.029453Z",
     "shell.execute_reply": "2022-03-15T18:24:55.028800Z",
     "shell.execute_reply.started": "2022-03-15T18:22:28.427204Z"
    },
    "papermill": {
     "duration": 1.952847,
     "end_time": "2022-03-15T18:24:55.029596",
     "exception": false,
     "start_time": "2022-03-15T18:24:53.076749",
     "status": "completed"
    },
    "tags": []
   },
   "outputs": [
    {
     "data": {
      "text/html": [
       "<div>\n",
       "<style scoped>\n",
       "    .dataframe tbody tr th:only-of-type {\n",
       "        vertical-align: middle;\n",
       "    }\n",
       "\n",
       "    .dataframe tbody tr th {\n",
       "        vertical-align: top;\n",
       "    }\n",
       "\n",
       "    .dataframe thead th {\n",
       "        text-align: right;\n",
       "    }\n",
       "</style>\n",
       "<table border=\"1\" class=\"dataframe\">\n",
       "  <thead>\n",
       "    <tr style=\"text-align: right;\">\n",
       "      <th></th>\n",
       "      <th>date_block_num</th>\n",
       "      <th>shop_id</th>\n",
       "      <th>item_id</th>\n",
       "      <th>item_price</th>\n",
       "      <th>item_cnt_day</th>\n",
       "      <th>day</th>\n",
       "      <th>month</th>\n",
       "      <th>year</th>\n",
       "    </tr>\n",
       "  </thead>\n",
       "  <tbody>\n",
       "    <tr>\n",
       "      <th>49800</th>\n",
       "      <td>0</td>\n",
       "      <td>18</td>\n",
       "      <td>5823</td>\n",
       "      <td>2500.0</td>\n",
       "      <td>1.0</td>\n",
       "      <td>1</td>\n",
       "      <td>1</td>\n",
       "      <td>2013</td>\n",
       "    </tr>\n",
       "    <tr>\n",
       "      <th>29784</th>\n",
       "      <td>0</td>\n",
       "      <td>27</td>\n",
       "      <td>5573</td>\n",
       "      <td>849.0</td>\n",
       "      <td>1.0</td>\n",
       "      <td>1</td>\n",
       "      <td>1</td>\n",
       "      <td>2013</td>\n",
       "    </tr>\n",
       "    <tr>\n",
       "      <th>35476</th>\n",
       "      <td>0</td>\n",
       "      <td>7</td>\n",
       "      <td>1006</td>\n",
       "      <td>399.0</td>\n",
       "      <td>1.0</td>\n",
       "      <td>1</td>\n",
       "      <td>1</td>\n",
       "      <td>2013</td>\n",
       "    </tr>\n",
       "    <tr>\n",
       "      <th>8330</th>\n",
       "      <td>0</td>\n",
       "      <td>19</td>\n",
       "      <td>17707</td>\n",
       "      <td>899.0</td>\n",
       "      <td>1.0</td>\n",
       "      <td>1</td>\n",
       "      <td>1</td>\n",
       "      <td>2013</td>\n",
       "    </tr>\n",
       "    <tr>\n",
       "      <th>57384</th>\n",
       "      <td>0</td>\n",
       "      <td>14</td>\n",
       "      <td>19548</td>\n",
       "      <td>149.0</td>\n",
       "      <td>1.0</td>\n",
       "      <td>1</td>\n",
       "      <td>1</td>\n",
       "      <td>2013</td>\n",
       "    </tr>\n",
       "    <tr>\n",
       "      <th>...</th>\n",
       "      <td>...</td>\n",
       "      <td>...</td>\n",
       "      <td>...</td>\n",
       "      <td>...</td>\n",
       "      <td>...</td>\n",
       "      <td>...</td>\n",
       "      <td>...</td>\n",
       "      <td>...</td>\n",
       "    </tr>\n",
       "    <tr>\n",
       "      <th>2885098</th>\n",
       "      <td>33</td>\n",
       "      <td>41</td>\n",
       "      <td>21386</td>\n",
       "      <td>169.0</td>\n",
       "      <td>1.0</td>\n",
       "      <td>31</td>\n",
       "      <td>10</td>\n",
       "      <td>2015</td>\n",
       "    </tr>\n",
       "    <tr>\n",
       "      <th>2930981</th>\n",
       "      <td>33</td>\n",
       "      <td>21</td>\n",
       "      <td>988</td>\n",
       "      <td>199.0</td>\n",
       "      <td>1.0</td>\n",
       "      <td>31</td>\n",
       "      <td>10</td>\n",
       "      <td>2015</td>\n",
       "    </tr>\n",
       "    <tr>\n",
       "      <th>2885097</th>\n",
       "      <td>33</td>\n",
       "      <td>41</td>\n",
       "      <td>21377</td>\n",
       "      <td>169.0</td>\n",
       "      <td>1.0</td>\n",
       "      <td>31</td>\n",
       "      <td>10</td>\n",
       "      <td>2015</td>\n",
       "    </tr>\n",
       "    <tr>\n",
       "      <th>2930993</th>\n",
       "      <td>33</td>\n",
       "      <td>22</td>\n",
       "      <td>10207</td>\n",
       "      <td>1199.0</td>\n",
       "      <td>1.0</td>\n",
       "      <td>31</td>\n",
       "      <td>10</td>\n",
       "      <td>2015</td>\n",
       "    </tr>\n",
       "    <tr>\n",
       "      <th>2928850</th>\n",
       "      <td>33</td>\n",
       "      <td>24</td>\n",
       "      <td>3042</td>\n",
       "      <td>3199.0</td>\n",
       "      <td>1.0</td>\n",
       "      <td>31</td>\n",
       "      <td>10</td>\n",
       "      <td>2015</td>\n",
       "    </tr>\n",
       "  </tbody>\n",
       "</table>\n",
       "<p>2935849 rows × 8 columns</p>\n",
       "</div>"
      ],
      "text/plain": [
       "         date_block_num  shop_id  item_id  item_price  item_cnt_day  day  \\\n",
       "49800                 0       18     5823      2500.0           1.0    1   \n",
       "29784                 0       27     5573       849.0           1.0    1   \n",
       "35476                 0        7     1006       399.0           1.0    1   \n",
       "8330                  0       19    17707       899.0           1.0    1   \n",
       "57384                 0       14    19548       149.0           1.0    1   \n",
       "...                 ...      ...      ...         ...           ...  ...   \n",
       "2885098              33       41    21386       169.0           1.0   31   \n",
       "2930981              33       21      988       199.0           1.0   31   \n",
       "2885097              33       41    21377       169.0           1.0   31   \n",
       "2930993              33       22    10207      1199.0           1.0   31   \n",
       "2928850              33       24     3042      3199.0           1.0   31   \n",
       "\n",
       "         month  year  \n",
       "49800        1  2013  \n",
       "29784        1  2013  \n",
       "35476        1  2013  \n",
       "8330         1  2013  \n",
       "57384        1  2013  \n",
       "...        ...   ...  \n",
       "2885098     10  2015  \n",
       "2930981     10  2015  \n",
       "2885097     10  2015  \n",
       "2930993     10  2015  \n",
       "2928850     10  2015  \n",
       "\n",
       "[2935849 rows x 8 columns]"
      ]
     },
     "execution_count": 7,
     "metadata": {},
     "output_type": "execute_result"
    }
   ],
   "source": [
    "# Datetime setting\n",
    "Datetimeset(Train_Data)"
   ]
  },
  {
   "cell_type": "markdown",
   "id": "3ecc44a2",
   "metadata": {
    "papermill": {
     "duration": 0.028729,
     "end_time": "2022-03-15T18:24:55.088844",
     "exception": false,
     "start_time": "2022-03-15T18:24:55.060115",
     "status": "completed"
    },
    "tags": []
   },
   "source": [
    "**Finding percentage of Datasets before merging**"
   ]
  },
  {
   "cell_type": "code",
   "execution_count": 8,
   "id": "5fcc33cd",
   "metadata": {
    "execution": {
     "iopub.execute_input": "2022-03-15T18:24:55.150935Z",
     "iopub.status.busy": "2022-03-15T18:24:55.150126Z",
     "iopub.status.idle": "2022-03-15T18:24:55.153588Z",
     "shell.execute_reply": "2022-03-15T18:24:55.154308Z",
     "shell.execute_reply.started": "2022-03-15T18:22:30.612221Z"
    },
    "papermill": {
     "duration": 0.037502,
     "end_time": "2022-03-15T18:24:55.154738",
     "exception": false,
     "start_time": "2022-03-15T18:24:55.117236",
     "status": "completed"
    },
    "tags": []
   },
   "outputs": [
    {
     "name": "stdout",
     "output_type": "stream",
     "text": [
      "Training Dataset percentage: 0.9320010577613237\n",
      "Testing Dataset percentage: 0.0679989422386763\n"
     ]
    }
   ],
   "source": [
    "Percent(2935849, 214200)"
   ]
  },
  {
   "cell_type": "markdown",
   "id": "a7184ba4",
   "metadata": {
    "papermill": {
     "duration": 0.028658,
     "end_time": "2022-03-15T18:24:55.215210",
     "exception": false,
     "start_time": "2022-03-15T18:24:55.186552",
     "status": "completed"
    },
    "tags": []
   },
   "source": [
    "**Lets Merge Training and Testing Dataset for EDA**"
   ]
  },
  {
   "cell_type": "code",
   "execution_count": 9,
   "id": "4c3ea32a",
   "metadata": {
    "execution": {
     "iopub.execute_input": "2022-03-15T18:24:55.279268Z",
     "iopub.status.busy": "2022-03-15T18:24:55.278578Z",
     "iopub.status.idle": "2022-03-15T18:24:56.043264Z",
     "shell.execute_reply": "2022-03-15T18:24:56.042535Z",
     "shell.execute_reply.started": "2022-03-15T18:22:30.619513Z"
    },
    "papermill": {
     "duration": 0.799462,
     "end_time": "2022-03-15T18:24:56.043443",
     "exception": false,
     "start_time": "2022-03-15T18:24:55.243981",
     "status": "completed"
    },
    "tags": []
   },
   "outputs": [],
   "source": [
    "#Merged_Data = pd.merge(Train_Data, Test_Data, how = 'left')\n",
    "DF = pd.merge(Test_Data, Train_Data, on = ('shop_id', 'item_id'), how = 'left')"
   ]
  },
  {
   "cell_type": "code",
   "execution_count": 10,
   "id": "f507b5f7",
   "metadata": {
    "execution": {
     "iopub.execute_input": "2022-03-15T18:24:56.108292Z",
     "iopub.status.busy": "2022-03-15T18:24:56.107575Z",
     "iopub.status.idle": "2022-03-15T18:24:56.110193Z",
     "shell.execute_reply": "2022-03-15T18:24:56.110735Z",
     "shell.execute_reply.started": "2022-03-15T18:22:31.260237Z"
    },
    "papermill": {
     "duration": 0.037258,
     "end_time": "2022-03-15T18:24:56.110907",
     "exception": false,
     "start_time": "2022-03-15T18:24:56.073649",
     "status": "completed"
    },
    "tags": []
   },
   "outputs": [
    {
     "data": {
      "text/plain": [
       "(1327235, 9)"
      ]
     },
     "execution_count": 10,
     "metadata": {},
     "output_type": "execute_result"
    }
   ],
   "source": [
    "DF.shape"
   ]
  },
  {
   "cell_type": "code",
   "execution_count": 11,
   "id": "e9a44445",
   "metadata": {
    "execution": {
     "iopub.execute_input": "2022-03-15T18:24:56.180363Z",
     "iopub.status.busy": "2022-03-15T18:24:56.179621Z",
     "iopub.status.idle": "2022-03-15T18:24:57.432329Z",
     "shell.execute_reply": "2022-03-15T18:24:57.431181Z",
     "shell.execute_reply.started": "2022-03-15T18:22:31.269146Z"
    },
    "papermill": {
     "duration": 1.29091,
     "end_time": "2022-03-15T18:24:57.432595",
     "exception": false,
     "start_time": "2022-03-15T18:24:56.141685",
     "status": "completed"
    },
    "tags": []
   },
   "outputs": [
    {
     "name": "stdout",
     "output_type": "stream",
     "text": [
      "Duplcated observations: 5\n",
      "Droped observations: 5\n",
      "New Shape: (1327230, 9)\n"
     ]
    }
   ],
   "source": [
    "Drop_duplicate_value(DF)"
   ]
  },
  {
   "cell_type": "code",
   "execution_count": 12,
   "id": "b07c3f28",
   "metadata": {
    "execution": {
     "iopub.execute_input": "2022-03-15T18:24:57.497365Z",
     "iopub.status.busy": "2022-03-15T18:24:57.496676Z",
     "iopub.status.idle": "2022-03-15T18:24:57.519237Z",
     "shell.execute_reply": "2022-03-15T18:24:57.519719Z",
     "shell.execute_reply.started": "2022-03-15T18:22:32.450637Z"
    },
    "papermill": {
     "duration": 0.055591,
     "end_time": "2022-03-15T18:24:57.519890",
     "exception": false,
     "start_time": "2022-03-15T18:24:57.464299",
     "status": "completed"
    },
    "tags": []
   },
   "outputs": [
    {
     "data": {
      "text/plain": [
       "(42, 5100)"
      ]
     },
     "execution_count": 12,
     "metadata": {},
     "output_type": "execute_result"
    }
   ],
   "source": [
    "DF['shop_id'].nunique(), DF['item_id'].nunique()"
   ]
  },
  {
   "cell_type": "markdown",
   "id": "1bb862b5",
   "metadata": {
    "papermill": {
     "duration": 0.029802,
     "end_time": "2022-03-15T18:24:57.580126",
     "exception": false,
     "start_time": "2022-03-15T18:24:57.550324",
     "status": "completed"
    },
    "tags": []
   },
   "source": [
    "# Exploratory Data Analysis\n",
    "\n",
    "1. Data Cleaning.\n",
    "2. Data Preprocessing.\n",
    "3. Data visualization."
   ]
  },
  {
   "cell_type": "markdown",
   "id": "4652e212",
   "metadata": {
    "papermill": {
     "duration": 0.030467,
     "end_time": "2022-03-15T18:24:57.641203",
     "exception": false,
     "start_time": "2022-03-15T18:24:57.610736",
     "status": "completed"
    },
    "tags": []
   },
   "source": [
    "1. Data Cleaning"
   ]
  },
  {
   "cell_type": "code",
   "execution_count": null,
   "id": "82dce336",
   "metadata": {
    "papermill": {
     "duration": 0.030915,
     "end_time": "2022-03-15T18:24:57.702541",
     "exception": false,
     "start_time": "2022-03-15T18:24:57.671626",
     "status": "completed"
    },
    "tags": []
   },
   "outputs": [],
   "source": []
  },
  {
   "cell_type": "code",
   "execution_count": 13,
   "id": "663b13e7",
   "metadata": {
    "execution": {
     "iopub.execute_input": "2022-03-15T18:24:57.768543Z",
     "iopub.status.busy": "2022-03-15T18:24:57.767898Z",
     "iopub.status.idle": "2022-03-15T18:24:57.817634Z",
     "shell.execute_reply": "2022-03-15T18:24:57.818242Z",
     "shell.execute_reply.started": "2022-03-15T18:22:32.474812Z"
    },
    "papermill": {
     "duration": 0.084847,
     "end_time": "2022-03-15T18:24:57.818415",
     "exception": false,
     "start_time": "2022-03-15T18:24:57.733568",
     "status": "completed"
    },
    "tags": []
   },
   "outputs": [
    {
     "data": {
      "text/html": [
       "<div>\n",
       "<style scoped>\n",
       "    .dataframe tbody tr th:only-of-type {\n",
       "        vertical-align: middle;\n",
       "    }\n",
       "\n",
       "    .dataframe tbody tr th {\n",
       "        vertical-align: top;\n",
       "    }\n",
       "\n",
       "    .dataframe thead th {\n",
       "        text-align: right;\n",
       "    }\n",
       "</style>\n",
       "<table border=\"1\" class=\"dataframe\">\n",
       "  <thead>\n",
       "    <tr style=\"text-align: right;\">\n",
       "      <th></th>\n",
       "      <th>NaN values</th>\n",
       "      <th>NaN percent</th>\n",
       "    </tr>\n",
       "  </thead>\n",
       "  <tbody>\n",
       "    <tr>\n",
       "      <th>ID</th>\n",
       "      <td>0</td>\n",
       "      <td>0.000000</td>\n",
       "    </tr>\n",
       "    <tr>\n",
       "      <th>shop_id</th>\n",
       "      <td>0</td>\n",
       "      <td>0.000000</td>\n",
       "    </tr>\n",
       "    <tr>\n",
       "      <th>item_id</th>\n",
       "      <td>0</td>\n",
       "      <td>0.000000</td>\n",
       "    </tr>\n",
       "    <tr>\n",
       "      <th>date_block_num</th>\n",
       "      <td>102796</td>\n",
       "      <td>7.745124</td>\n",
       "    </tr>\n",
       "    <tr>\n",
       "      <th>item_price</th>\n",
       "      <td>102796</td>\n",
       "      <td>7.745124</td>\n",
       "    </tr>\n",
       "    <tr>\n",
       "      <th>item_cnt_day</th>\n",
       "      <td>102796</td>\n",
       "      <td>7.745124</td>\n",
       "    </tr>\n",
       "    <tr>\n",
       "      <th>day</th>\n",
       "      <td>102796</td>\n",
       "      <td>7.745124</td>\n",
       "    </tr>\n",
       "    <tr>\n",
       "      <th>month</th>\n",
       "      <td>102796</td>\n",
       "      <td>7.745124</td>\n",
       "    </tr>\n",
       "    <tr>\n",
       "      <th>year</th>\n",
       "      <td>102796</td>\n",
       "      <td>7.745124</td>\n",
       "    </tr>\n",
       "  </tbody>\n",
       "</table>\n",
       "</div>"
      ],
      "text/plain": [
       "                NaN values  NaN percent\n",
       "ID                       0     0.000000\n",
       "shop_id                  0     0.000000\n",
       "item_id                  0     0.000000\n",
       "date_block_num      102796     7.745124\n",
       "item_price          102796     7.745124\n",
       "item_cnt_day        102796     7.745124\n",
       "day                 102796     7.745124\n",
       "month               102796     7.745124\n",
       "year                102796     7.745124"
      ]
     },
     "execution_count": 13,
     "metadata": {},
     "output_type": "execute_result"
    }
   ],
   "source": [
    "# Handling NaN values\n",
    "find_NaN_V(DF)"
   ]
  },
  {
   "cell_type": "markdown",
   "id": "cfb5172f",
   "metadata": {
    "papermill": {
     "duration": 0.030635,
     "end_time": "2022-03-15T18:24:57.880245",
     "exception": false,
     "start_time": "2022-03-15T18:24:57.849610",
     "status": "completed"
    },
    "tags": []
   },
   "source": [
    "# Train & Test split"
   ]
  },
  {
   "cell_type": "code",
   "execution_count": null,
   "id": "a5fe7751",
   "metadata": {
    "papermill": {
     "duration": 0.031624,
     "end_time": "2022-03-15T18:24:57.943550",
     "exception": false,
     "start_time": "2022-03-15T18:24:57.911926",
     "status": "completed"
    },
    "tags": []
   },
   "outputs": [],
   "source": []
  },
  {
   "cell_type": "code",
   "execution_count": 14,
   "id": "28c3ab91",
   "metadata": {
    "execution": {
     "iopub.execute_input": "2022-03-15T18:24:58.010258Z",
     "iopub.status.busy": "2022-03-15T18:24:58.009568Z",
     "iopub.status.idle": "2022-03-15T18:24:58.153162Z",
     "shell.execute_reply": "2022-03-15T18:24:58.153709Z",
     "shell.execute_reply.started": "2022-03-15T18:22:32.519257Z"
    },
    "papermill": {
     "duration": 0.178275,
     "end_time": "2022-03-15T18:24:58.153897",
     "exception": false,
     "start_time": "2022-03-15T18:24:57.975622",
     "status": "completed"
    },
    "tags": []
   },
   "outputs": [],
   "source": [
    "import numpy as np \n",
    "Train_set, Val_set= np.split(Train_Data, [int(.67 *len(Train_Data))])"
   ]
  },
  {
   "cell_type": "code",
   "execution_count": 15,
   "id": "41aaaabf",
   "metadata": {
    "execution": {
     "iopub.execute_input": "2022-03-15T18:24:58.222892Z",
     "iopub.status.busy": "2022-03-15T18:24:58.222092Z",
     "iopub.status.idle": "2022-03-15T18:24:58.225381Z",
     "shell.execute_reply": "2022-03-15T18:24:58.225866Z",
     "shell.execute_reply.started": "2022-03-15T18:22:32.588038Z"
    },
    "papermill": {
     "duration": 0.040218,
     "end_time": "2022-03-15T18:24:58.226029",
     "exception": false,
     "start_time": "2022-03-15T18:24:58.185811",
     "status": "completed"
    },
    "tags": []
   },
   "outputs": [
    {
     "data": {
      "text/plain": [
       "((1967018, 8), (968831, 8))"
      ]
     },
     "execution_count": 15,
     "metadata": {},
     "output_type": "execute_result"
    }
   ],
   "source": [
    "Train_set.shape, Val_set.shape"
   ]
  },
  {
   "cell_type": "code",
   "execution_count": 16,
   "id": "d6e070ea",
   "metadata": {
    "execution": {
     "iopub.execute_input": "2022-03-15T18:24:58.292543Z",
     "iopub.status.busy": "2022-03-15T18:24:58.291573Z",
     "iopub.status.idle": "2022-03-15T18:24:58.308985Z",
     "shell.execute_reply": "2022-03-15T18:24:58.309519Z",
     "shell.execute_reply.started": "2022-03-15T18:22:32.595149Z"
    },
    "papermill": {
     "duration": 0.052228,
     "end_time": "2022-03-15T18:24:58.309721",
     "exception": false,
     "start_time": "2022-03-15T18:24:58.257493",
     "status": "completed"
    },
    "tags": []
   },
   "outputs": [
    {
     "data": {
      "text/html": [
       "<div>\n",
       "<style scoped>\n",
       "    .dataframe tbody tr th:only-of-type {\n",
       "        vertical-align: middle;\n",
       "    }\n",
       "\n",
       "    .dataframe tbody tr th {\n",
       "        vertical-align: top;\n",
       "    }\n",
       "\n",
       "    .dataframe thead th {\n",
       "        text-align: right;\n",
       "    }\n",
       "</style>\n",
       "<table border=\"1\" class=\"dataframe\">\n",
       "  <thead>\n",
       "    <tr style=\"text-align: right;\">\n",
       "      <th></th>\n",
       "      <th>date_block_num</th>\n",
       "      <th>shop_id</th>\n",
       "      <th>item_id</th>\n",
       "      <th>item_price</th>\n",
       "      <th>item_cnt_day</th>\n",
       "      <th>day</th>\n",
       "      <th>month</th>\n",
       "      <th>year</th>\n",
       "    </tr>\n",
       "  </thead>\n",
       "  <tbody>\n",
       "    <tr>\n",
       "      <th>49800</th>\n",
       "      <td>0</td>\n",
       "      <td>18</td>\n",
       "      <td>5823</td>\n",
       "      <td>2500.0</td>\n",
       "      <td>1.0</td>\n",
       "      <td>1</td>\n",
       "      <td>1</td>\n",
       "      <td>2013</td>\n",
       "    </tr>\n",
       "    <tr>\n",
       "      <th>29784</th>\n",
       "      <td>0</td>\n",
       "      <td>27</td>\n",
       "      <td>5573</td>\n",
       "      <td>849.0</td>\n",
       "      <td>1.0</td>\n",
       "      <td>1</td>\n",
       "      <td>1</td>\n",
       "      <td>2013</td>\n",
       "    </tr>\n",
       "    <tr>\n",
       "      <th>35476</th>\n",
       "      <td>0</td>\n",
       "      <td>7</td>\n",
       "      <td>1006</td>\n",
       "      <td>399.0</td>\n",
       "      <td>1.0</td>\n",
       "      <td>1</td>\n",
       "      <td>1</td>\n",
       "      <td>2013</td>\n",
       "    </tr>\n",
       "    <tr>\n",
       "      <th>8330</th>\n",
       "      <td>0</td>\n",
       "      <td>19</td>\n",
       "      <td>17707</td>\n",
       "      <td>899.0</td>\n",
       "      <td>1.0</td>\n",
       "      <td>1</td>\n",
       "      <td>1</td>\n",
       "      <td>2013</td>\n",
       "    </tr>\n",
       "    <tr>\n",
       "      <th>57384</th>\n",
       "      <td>0</td>\n",
       "      <td>14</td>\n",
       "      <td>19548</td>\n",
       "      <td>149.0</td>\n",
       "      <td>1.0</td>\n",
       "      <td>1</td>\n",
       "      <td>1</td>\n",
       "      <td>2013</td>\n",
       "    </tr>\n",
       "    <tr>\n",
       "      <th>...</th>\n",
       "      <td>...</td>\n",
       "      <td>...</td>\n",
       "      <td>...</td>\n",
       "      <td>...</td>\n",
       "      <td>...</td>\n",
       "      <td>...</td>\n",
       "      <td>...</td>\n",
       "      <td>...</td>\n",
       "    </tr>\n",
       "    <tr>\n",
       "      <th>74079</th>\n",
       "      <td>0</td>\n",
       "      <td>56</td>\n",
       "      <td>1869</td>\n",
       "      <td>799.0</td>\n",
       "      <td>1.0</td>\n",
       "      <td>2</td>\n",
       "      <td>1</td>\n",
       "      <td>2013</td>\n",
       "    </tr>\n",
       "    <tr>\n",
       "      <th>34264</th>\n",
       "      <td>0</td>\n",
       "      <td>6</td>\n",
       "      <td>17241</td>\n",
       "      <td>349.0</td>\n",
       "      <td>1.0</td>\n",
       "      <td>2</td>\n",
       "      <td>1</td>\n",
       "      <td>2013</td>\n",
       "    </tr>\n",
       "    <tr>\n",
       "      <th>34304</th>\n",
       "      <td>0</td>\n",
       "      <td>6</td>\n",
       "      <td>13165</td>\n",
       "      <td>249.0</td>\n",
       "      <td>1.0</td>\n",
       "      <td>2</td>\n",
       "      <td>1</td>\n",
       "      <td>2013</td>\n",
       "    </tr>\n",
       "    <tr>\n",
       "      <th>106266</th>\n",
       "      <td>0</td>\n",
       "      <td>35</td>\n",
       "      <td>19532</td>\n",
       "      <td>349.0</td>\n",
       "      <td>1.0</td>\n",
       "      <td>2</td>\n",
       "      <td>1</td>\n",
       "      <td>2013</td>\n",
       "    </tr>\n",
       "    <tr>\n",
       "      <th>35709</th>\n",
       "      <td>0</td>\n",
       "      <td>6</td>\n",
       "      <td>3686</td>\n",
       "      <td>899.0</td>\n",
       "      <td>1.0</td>\n",
       "      <td>2</td>\n",
       "      <td>1</td>\n",
       "      <td>2013</td>\n",
       "    </tr>\n",
       "  </tbody>\n",
       "</table>\n",
       "<p>2000 rows × 8 columns</p>\n",
       "</div>"
      ],
      "text/plain": [
       "        date_block_num  shop_id  item_id  item_price  item_cnt_day  day  \\\n",
       "49800                0       18     5823      2500.0           1.0    1   \n",
       "29784                0       27     5573       849.0           1.0    1   \n",
       "35476                0        7     1006       399.0           1.0    1   \n",
       "8330                 0       19    17707       899.0           1.0    1   \n",
       "57384                0       14    19548       149.0           1.0    1   \n",
       "...                ...      ...      ...         ...           ...  ...   \n",
       "74079                0       56     1869       799.0           1.0    2   \n",
       "34264                0        6    17241       349.0           1.0    2   \n",
       "34304                0        6    13165       249.0           1.0    2   \n",
       "106266               0       35    19532       349.0           1.0    2   \n",
       "35709                0        6     3686       899.0           1.0    2   \n",
       "\n",
       "        month  year  \n",
       "49800       1  2013  \n",
       "29784       1  2013  \n",
       "35476       1  2013  \n",
       "8330        1  2013  \n",
       "57384       1  2013  \n",
       "...       ...   ...  \n",
       "74079       1  2013  \n",
       "34264       1  2013  \n",
       "34304       1  2013  \n",
       "106266      1  2013  \n",
       "35709       1  2013  \n",
       "\n",
       "[2000 rows x 8 columns]"
      ]
     },
     "execution_count": 16,
     "metadata": {},
     "output_type": "execute_result"
    }
   ],
   "source": [
    "Train_set.head(2000)"
   ]
  },
  {
   "cell_type": "markdown",
   "id": "b8064e5e",
   "metadata": {
    "papermill": {
     "duration": 0.032112,
     "end_time": "2022-03-15T18:24:58.374844",
     "exception": false,
     "start_time": "2022-03-15T18:24:58.342732",
     "status": "completed"
    },
    "tags": []
   },
   "source": [
    "# Examples' & labels' setting and Modelling"
   ]
  },
  {
   "cell_type": "code",
   "execution_count": 17,
   "id": "749de4d4",
   "metadata": {
    "execution": {
     "iopub.execute_input": "2022-03-15T18:24:58.442815Z",
     "iopub.status.busy": "2022-03-15T18:24:58.441835Z",
     "iopub.status.idle": "2022-03-15T18:24:58.505028Z",
     "shell.execute_reply": "2022-03-15T18:24:58.504379Z",
     "shell.execute_reply.started": "2022-03-15T18:22:32.627297Z"
    },
    "papermill": {
     "duration": 0.098236,
     "end_time": "2022-03-15T18:24:58.505208",
     "exception": false,
     "start_time": "2022-03-15T18:24:58.406972",
     "status": "completed"
    },
    "tags": []
   },
   "outputs": [],
   "source": [
    "# Examples' & labels' setting\n",
    "Tr_Exmpls = Train_set.drop('item_cnt_day', axis=1)\n",
    "Tr_lbls = Train_set['item_cnt_day']\n",
    "\n",
    "Val_Exmpls = Val_set.drop('item_cnt_day', axis=1)\n",
    "Val_lbls = Val_set['item_cnt_day']"
   ]
  },
  {
   "cell_type": "code",
   "execution_count": 18,
   "id": "998c4824",
   "metadata": {
    "execution": {
     "iopub.execute_input": "2022-03-15T18:24:58.575641Z",
     "iopub.status.busy": "2022-03-15T18:24:58.574787Z",
     "iopub.status.idle": "2022-03-15T18:24:59.532094Z",
     "shell.execute_reply": "2022-03-15T18:24:59.533766Z",
     "shell.execute_reply.started": "2022-03-15T18:22:32.678041Z"
    },
    "papermill": {
     "duration": 0.996541,
     "end_time": "2022-03-15T18:24:59.534266",
     "exception": false,
     "start_time": "2022-03-15T18:24:58.537725",
     "status": "completed"
    },
    "tags": []
   },
   "outputs": [
    {
     "name": "stdout",
     "output_type": "stream",
     "text": [
      "Training Score: 0.0016844383574042832\n",
      "Validation Score: 0.00023410472981844066\n"
     ]
    }
   ],
   "source": [
    "# Modelling\n",
    "Linear_Reg(Tr_Exmpls, Tr_lbls, Val_Exmpls, Val_lbls)"
   ]
  },
  {
   "cell_type": "code",
   "execution_count": null,
   "id": "3bdf8e50",
   "metadata": {
    "papermill": {
     "duration": 0.048422,
     "end_time": "2022-03-15T18:24:59.644489",
     "exception": false,
     "start_time": "2022-03-15T18:24:59.596067",
     "status": "completed"
    },
    "tags": []
   },
   "outputs": [],
   "source": []
  }
 ],
 "metadata": {
  "kernelspec": {
   "display_name": "Python 3",
   "language": "python",
   "name": "python3"
  },
  "language_info": {
   "codemirror_mode": {
    "name": "ipython",
    "version": 3
   },
   "file_extension": ".py",
   "mimetype": "text/x-python",
   "name": "python",
   "nbconvert_exporter": "python",
   "pygments_lexer": "ipython3",
   "version": "3.7.12"
  },
  "papermill": {
   "default_parameters": {},
   "duration": 21.892329,
   "end_time": "2022-03-15T18:25:00.388231",
   "environment_variables": {},
   "exception": null,
   "input_path": "__notebook__.ipynb",
   "output_path": "__notebook__.ipynb",
   "parameters": {},
   "start_time": "2022-03-15T18:24:38.495902",
   "version": "2.3.3"
  }
 },
 "nbformat": 4,
 "nbformat_minor": 5
}
