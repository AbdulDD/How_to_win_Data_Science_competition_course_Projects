{
 "cells": [
  {
   "cell_type": "markdown",
   "id": "69440c9e",
   "metadata": {
    "papermill": {
     "duration": 0.010171,
     "end_time": "2022-03-11T18:46:04.118913",
     "exception": false,
     "start_time": "2022-03-11T18:46:04.108742",
     "status": "completed"
    },
    "tags": []
   },
   "source": [
    "# Goal:\n",
    "1. To predict monthly sales for every possible shop item pair.\n",
    "2. To apply different strategies and learn."
   ]
  },
  {
   "cell_type": "code",
   "execution_count": 1,
   "id": "c2b7ac48",
   "metadata": {
    "execution": {
     "iopub.execute_input": "2022-03-11T18:46:04.143090Z",
     "iopub.status.busy": "2022-03-11T18:46:04.141252Z",
     "iopub.status.idle": "2022-03-11T18:46:04.151357Z",
     "shell.execute_reply": "2022-03-11T18:46:04.152187Z",
     "shell.execute_reply.started": "2022-03-11T18:30:17.244003Z"
    },
    "papermill": {
     "duration": 0.023607,
     "end_time": "2022-03-11T18:46:04.152605",
     "exception": false,
     "start_time": "2022-03-11T18:46:04.128998",
     "status": "completed"
    },
    "tags": []
   },
   "outputs": [],
   "source": [
    "# Importing required libraries\n",
    "import pandas as pd"
   ]
  },
  {
   "cell_type": "code",
   "execution_count": 2,
   "id": "82c14498",
   "metadata": {
    "execution": {
     "iopub.execute_input": "2022-03-11T18:46:04.176107Z",
     "iopub.status.busy": "2022-03-11T18:46:04.174939Z",
     "iopub.status.idle": "2022-03-11T18:46:07.066413Z",
     "shell.execute_reply": "2022-03-11T18:46:07.065699Z",
     "shell.execute_reply.started": "2022-03-11T18:30:25.244878Z"
    },
    "papermill": {
     "duration": 2.904759,
     "end_time": "2022-03-11T18:46:07.066593",
     "exception": false,
     "start_time": "2022-03-11T18:46:04.161834",
     "status": "completed"
    },
    "tags": []
   },
   "outputs": [],
   "source": [
    "# Loading Data\n",
    "Train_Data = pd.read_csv(\"../input/competitive-data-science-predict-future-sales/sales_train.csv\")\n",
    "Test_Data = pd.read_csv(\"../input/competitive-data-science-predict-future-sales/test.csv\")\n",
    "sample_sub = pd.read_csv(\"../input/competitive-data-science-predict-future-sales/sample_submission.csv\")"
   ]
  },
  {
   "cell_type": "markdown",
   "id": "f480c882",
   "metadata": {
    "papermill": {
     "duration": 0.007473,
     "end_time": "2022-03-11T18:46:07.082118",
     "exception": false,
     "start_time": "2022-03-11T18:46:07.074645",
     "status": "completed"
    },
    "tags": []
   },
   "source": [
    "# Understanding Data"
   ]
  },
  {
   "cell_type": "code",
   "execution_count": 3,
   "id": "fa6351de",
   "metadata": {
    "execution": {
     "iopub.execute_input": "2022-03-11T18:46:07.106257Z",
     "iopub.status.busy": "2022-03-11T18:46:07.105644Z",
     "iopub.status.idle": "2022-03-11T18:46:07.120645Z",
     "shell.execute_reply": "2022-03-11T18:46:07.121139Z",
     "shell.execute_reply.started": "2022-03-11T18:38:31.987468Z"
    },
    "papermill": {
     "duration": 0.03131,
     "end_time": "2022-03-11T18:46:07.121306",
     "exception": false,
     "start_time": "2022-03-11T18:46:07.089996",
     "status": "completed"
    },
    "tags": []
   },
   "outputs": [
    {
     "data": {
      "text/html": [
       "<div>\n",
       "<style scoped>\n",
       "    .dataframe tbody tr th:only-of-type {\n",
       "        vertical-align: middle;\n",
       "    }\n",
       "\n",
       "    .dataframe tbody tr th {\n",
       "        vertical-align: top;\n",
       "    }\n",
       "\n",
       "    .dataframe thead th {\n",
       "        text-align: right;\n",
       "    }\n",
       "</style>\n",
       "<table border=\"1\" class=\"dataframe\">\n",
       "  <thead>\n",
       "    <tr style=\"text-align: right;\">\n",
       "      <th></th>\n",
       "      <th>date</th>\n",
       "      <th>date_block_num</th>\n",
       "      <th>shop_id</th>\n",
       "      <th>item_id</th>\n",
       "      <th>item_price</th>\n",
       "      <th>item_cnt_day</th>\n",
       "    </tr>\n",
       "  </thead>\n",
       "  <tbody>\n",
       "    <tr>\n",
       "      <th>0</th>\n",
       "      <td>02.01.2013</td>\n",
       "      <td>0</td>\n",
       "      <td>59</td>\n",
       "      <td>22154</td>\n",
       "      <td>999.00</td>\n",
       "      <td>1.0</td>\n",
       "    </tr>\n",
       "    <tr>\n",
       "      <th>1</th>\n",
       "      <td>03.01.2013</td>\n",
       "      <td>0</td>\n",
       "      <td>25</td>\n",
       "      <td>2552</td>\n",
       "      <td>899.00</td>\n",
       "      <td>1.0</td>\n",
       "    </tr>\n",
       "    <tr>\n",
       "      <th>2</th>\n",
       "      <td>05.01.2013</td>\n",
       "      <td>0</td>\n",
       "      <td>25</td>\n",
       "      <td>2552</td>\n",
       "      <td>899.00</td>\n",
       "      <td>-1.0</td>\n",
       "    </tr>\n",
       "    <tr>\n",
       "      <th>3</th>\n",
       "      <td>06.01.2013</td>\n",
       "      <td>0</td>\n",
       "      <td>25</td>\n",
       "      <td>2554</td>\n",
       "      <td>1709.05</td>\n",
       "      <td>1.0</td>\n",
       "    </tr>\n",
       "    <tr>\n",
       "      <th>4</th>\n",
       "      <td>15.01.2013</td>\n",
       "      <td>0</td>\n",
       "      <td>25</td>\n",
       "      <td>2555</td>\n",
       "      <td>1099.00</td>\n",
       "      <td>1.0</td>\n",
       "    </tr>\n",
       "  </tbody>\n",
       "</table>\n",
       "</div>"
      ],
      "text/plain": [
       "         date  date_block_num  shop_id  item_id  item_price  item_cnt_day\n",
       "0  02.01.2013               0       59    22154      999.00           1.0\n",
       "1  03.01.2013               0       25     2552      899.00           1.0\n",
       "2  05.01.2013               0       25     2552      899.00          -1.0\n",
       "3  06.01.2013               0       25     2554     1709.05           1.0\n",
       "4  15.01.2013               0       25     2555     1099.00           1.0"
      ]
     },
     "execution_count": 3,
     "metadata": {},
     "output_type": "execute_result"
    }
   ],
   "source": [
    "# Understanding Train Data\n",
    "#Train_Data.shape\n",
    "#Train_Data.info()\n",
    "Train_Data.head()"
   ]
  },
  {
   "cell_type": "code",
   "execution_count": 4,
   "id": "a9af13c5",
   "metadata": {
    "execution": {
     "iopub.execute_input": "2022-03-11T18:46:07.143532Z",
     "iopub.status.busy": "2022-03-11T18:46:07.142536Z",
     "iopub.status.idle": "2022-03-11T18:46:07.167989Z",
     "shell.execute_reply": "2022-03-11T18:46:07.168701Z",
     "shell.execute_reply.started": "2022-03-11T18:37:52.420465Z"
    },
    "papermill": {
     "duration": 0.03866,
     "end_time": "2022-03-11T18:46:07.168941",
     "exception": false,
     "start_time": "2022-03-11T18:46:07.130281",
     "status": "completed"
    },
    "tags": []
   },
   "outputs": [
    {
     "name": "stdout",
     "output_type": "stream",
     "text": [
      "<class 'pandas.core.frame.DataFrame'>\n",
      "RangeIndex: 214200 entries, 0 to 214199\n",
      "Data columns (total 3 columns):\n",
      " #   Column   Non-Null Count   Dtype\n",
      "---  ------   --------------   -----\n",
      " 0   ID       214200 non-null  int64\n",
      " 1   shop_id  214200 non-null  int64\n",
      " 2   item_id  214200 non-null  int64\n",
      "dtypes: int64(3)\n",
      "memory usage: 4.9 MB\n"
     ]
    }
   ],
   "source": [
    "# Understanding Train Data\n",
    "#Test_Data.shape\n",
    "Test_Data.info()\n",
    "#Test_Data.head()"
   ]
  },
  {
   "cell_type": "markdown",
   "id": "b01dd520",
   "metadata": {
    "papermill": {
     "duration": 0.008844,
     "end_time": "2022-03-11T18:46:07.186860",
     "exception": false,
     "start_time": "2022-03-11T18:46:07.178016",
     "status": "completed"
    },
    "tags": []
   },
   "source": [
    "# Exploratory Data Analysis"
   ]
  },
  {
   "cell_type": "code",
   "execution_count": null,
   "id": "2cf66c8f",
   "metadata": {
    "papermill": {
     "duration": 0.008702,
     "end_time": "2022-03-11T18:46:07.204476",
     "exception": false,
     "start_time": "2022-03-11T18:46:07.195774",
     "status": "completed"
    },
    "tags": []
   },
   "outputs": [],
   "source": []
  }
 ],
 "metadata": {
  "kernelspec": {
   "display_name": "Python 3",
   "language": "python",
   "name": "python3"
  },
  "language_info": {
   "codemirror_mode": {
    "name": "ipython",
    "version": 3
   },
   "file_extension": ".py",
   "mimetype": "text/x-python",
   "name": "python",
   "nbconvert_exporter": "python",
   "pygments_lexer": "ipython3",
   "version": "3.7.12"
  },
  "papermill": {
   "default_parameters": {},
   "duration": 13.778419,
   "end_time": "2022-03-11T18:46:07.823138",
   "environment_variables": {},
   "exception": null,
   "input_path": "__notebook__.ipynb",
   "output_path": "__notebook__.ipynb",
   "parameters": {},
   "start_time": "2022-03-11T18:45:54.044719",
   "version": "2.3.3"
  }
 },
 "nbformat": 4,
 "nbformat_minor": 5
}
